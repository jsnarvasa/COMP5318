{
 "cells": [
  {
   "cell_type": "markdown",
   "metadata": {},
   "source": [
    "# COMP5318: Assignment 1 - Image Classification\n",
    "\n",
    "Author: Jesse Serina Narvasa <br>\n",
    "SID: 500525438 <br>\n",
    "Unikey: jnar3156\n",
    "\n",
    "\n",
    "In order to consider classification performance, the specifications of the machine used to run this notebook is provided as follows:\n",
    "\n",
    "Dell XPS 13 9350<br>\n",
    "Intel Core i7-6560U 2.20GHz<br>\n",
    "8GB RAM<br>\n",
    "Integrated graphics<br>\n",
    "Windows 10 Pro 19041.572"
   ]
  },
  {
   "cell_type": "code",
   "execution_count": 95,
   "metadata": {},
   "outputs": [],
   "source": [
    "# Library imports\n",
    "\n",
    "import time\n",
    "import h5py\n",
    "import numpy as np\n",
    "import matplotlib.pyplot as plt\n",
    "from scipy import stats as st"
   ]
  },
  {
   "cell_type": "code",
   "execution_count": 96,
   "metadata": {},
   "outputs": [],
   "source": [
    "# Loading our training data\n",
    "\n",
    "with h5py.File('./Input/images_training.h5','r') as H:\n",
    "    data_train = np.copy(H['datatrain'])\n",
    "with h5py.File('./Input/labels_training.h5','r') as H:\n",
    "    label_train = np.copy(H['labeltrain'])\n",
    "    \n",
    "# Loading our testing data\n",
    "\n",
    "with h5py.File('./Input/images_testing.h5','r') as H:\n",
    "    data_test = np.copy(H['datatest'])\n",
    "with h5py.File('./Input/labels_testing_2000.h5','r') as H:\n",
    "    label_test = np.copy(H['labeltest'])"
   ]
  },
  {
   "cell_type": "code",
   "execution_count": 97,
   "metadata": {},
   "outputs": [
    {
     "name": "stdout",
     "output_type": "stream",
     "text": [
      "(30000, 784) (30000,)\n",
      "(5000, 784) (2000,)\n"
     ]
    }
   ],
   "source": [
    "# Verifying our loaded training data\n",
    "print(data_train.shape, label_train.shape)\n",
    "\n",
    "# Verifying our loaded testing data\n",
    "print(data_test.shape, label_test.shape)"
   ]
  },
  {
   "cell_type": "code",
   "execution_count": 98,
   "metadata": {},
   "outputs": [],
   "source": [
    "# Class mappings\n",
    "class_mappings = {\n",
    "    0: 'T-shirt/Top',\n",
    "    1: 'Trouser',\n",
    "    2: 'Pullover',\n",
    "    3: 'Dress',\n",
    "    4: 'Coat',\n",
    "    5: 'Sandal',\n",
    "    6: 'Shirt',\n",
    "    7: 'Sneaker',\n",
    "    8: 'Bag',\n",
    "    9: 'Ankle boot'\n",
    "}"
   ]
  },
  {
   "cell_type": "markdown",
   "metadata": {},
   "source": [
    "### Utility Functions"
   ]
  },
  {
   "cell_type": "code",
   "execution_count": 99,
   "metadata": {},
   "outputs": [],
   "source": [
    "def calc_top1_accuracy(predicted, actual):\n",
    "    '''\n",
    "    Calculates the top-1 accuracy metric, given the predicted classes against the actual classes\n",
    "    INPUT: 1D array of predicted results,\n",
    "        1D array of actual results\n",
    "    OUTPUT: percentage in decimal format of accuracy    \n",
    "    '''\n",
    "    correct = 0\n",
    "    for n in range(actual.shape[0]):\n",
    "        if predicted[n] == actual[n]:\n",
    "            correct += 1\n",
    "        \n",
    "    return correct/actual.shape[0]"
   ]
  },
  {
   "cell_type": "code",
   "execution_count": 100,
   "metadata": {},
   "outputs": [],
   "source": [
    "def output_prediction(predictions):\n",
    "    '''\n",
    "    Generates the output file for the predictions\n",
    "    INPUT: 1D array of predicted results\n",
    "    OUTPUT: prediction file of .h5 format\n",
    "    '''\n",
    "    with h5py.File('./Output/predicted_labels.h5','w') as H:\n",
    "        H.create_dataset('Output',data=predictions)"
   ]
  },
  {
   "cell_type": "code",
   "execution_count": 101,
   "metadata": {},
   "outputs": [],
   "source": [
    "def train_validation_split(train_ratio, data_train, label_train):\n",
    "    '''\n",
    "    Splits the dataset for X and y into training and validation datasets based on the given ratio\n",
    "    INPUT: train split ratio, training dataset, label dataset\n",
    "    OUTPUT: training data and label numpy arrays, validation data and label numpy arrays\n",
    "    '''\n",
    "    # obtain the row number where we conduct the split\n",
    "    row_split = int(train_ratio * data_train.shape[0])\n",
    "    \n",
    "    # shuffle our matrices\n",
    "    shuffled_idx = np.arange(data_train.shape[0])\n",
    "    np.random.shuffle(shuffled_idx)\n",
    "    data_train = data_train[shuffled_idx]\n",
    "    label_train = label_train[shuffled_idx]\n",
    "        \n",
    "    # create the train/test split\n",
    "    split_data_train = data_train[:row_split, :]\n",
    "    split_label_train = label_train[:row_split]\n",
    "    split_data_validation = data_train[row_split:, :]\n",
    "    split_label_validation = label_train[row_split:]\n",
    "    \n",
    "    return split_data_train, split_label_train, split_data_validation, split_label_validation"
   ]
  },
  {
   "cell_type": "markdown",
   "metadata": {},
   "source": [
    "### Pre-processing"
   ]
  },
  {
   "cell_type": "markdown",
   "metadata": {},
   "source": [
    "#### PCA"
   ]
  },
  {
   "cell_type": "code",
   "execution_count": 102,
   "metadata": {},
   "outputs": [],
   "source": [
    "def apply_pca(data_train, data_test, n_components=45):\n",
    "    '''\n",
    "    Apply PCA on the given dataset\n",
    "    INPUT: 2D or 3D array dataset for data_train and data_test,\n",
    "        INT n_components for the number of components to be retained, or set to STR 'dynamic' to count eigenvalues > 1\n",
    "    OUTPUT: 2D array of dataset reduced to n dimensions\n",
    "    '''\n",
    "    if len(data_train.shape) != 2:\n",
    "        data_train = data_train.reshape((data_train.shape[0], data_train.shape[1]**2))\n",
    "    if len(data_test.shape) != 2:\n",
    "        data_test = data_test.reshape((data_test.shape[0], data_test.shape[1]**2))\n",
    "    \n",
    "    # Need to get the mean of each feature, for mean normalisation/centreing\n",
    "    data_train_mean = data_train.mean(axis=0)\n",
    "    data_test_mean = data_test.mean(axis=0)\n",
    "    # Feature means should now be zero, or approx. close to zero - and hence centred\n",
    "    data_train_centred = np.subtract(data_train, data_train_mean)\n",
    "    data_test_centred = np.subtract(data_test, data_test_mean)\n",
    "    \n",
    "    # Checking the following, we can see that the max and min value of the entire matrix is 0 and 1\n",
    "    # hence scaling is not required\n",
    "    '''\n",
    "    print(data_train.min())\n",
    "    print(data_train.max())\n",
    "    print(data_test.min())\n",
    "    print(data_test.max())\n",
    "    '''\n",
    "    \n",
    "    covariance_matrix = (data_train_centred.T).dot(data_train_centred)\n",
    "    l, V = np.linalg.eig(covariance_matrix)\n",
    "    \n",
    "    sorted_lambda_index =  l.argsort()[::-1] # sorting our lambda values from largest to smallest\n",
    "    \n",
    "    if n_components == 'dynamic':\n",
    "        # The number of components to be retained for PCA, will be based on the number of eigenvalues which are > 1\n",
    "        n_components = np.count_nonzero(l > 1)\n",
    "        print(f'Number of factors retained is: {n_components}')\n",
    "        \n",
    "    V_n = V[:,sorted_lambda_index[:n_components]]\n",
    "    \n",
    "    # Do the projection of the image matrix against our orthogonal eigenvector matrix reduced to n columns\n",
    "    pca_data_train = data_train_centred.dot(V_n)\n",
    "    pca_data_test = data_test_centred.dot(V_n)\n",
    "    \n",
    "    return (pca_data_train, pca_data_test)"
   ]
  },
  {
   "cell_type": "markdown",
   "metadata": {},
   "source": [
    "#### SVD"
   ]
  },
  {
   "cell_type": "code",
   "execution_count": 103,
   "metadata": {},
   "outputs": [],
   "source": [
    "def apply_svd(data_train, data_test, n_components=45):\n",
    "    '''\n",
    "    Apply Singular Value Decomposition for a given training dataset,\n",
    "    and subsequently apply our test dataset onto the same orthognal V\n",
    "    '''\n",
    "    if len(data_train.shape) != 2:\n",
    "        data_train = data_train.reshape((data_train.shape[0], data_train.shape[1]**2))\n",
    "    if len(data_test.shape) != 2:\n",
    "        data_test = data_test.reshape((data_test.shape[0], data_test.shape[1]**2))\n",
    "        \n",
    "    U, s, Vt = np.linalg.svd(data_train, full_matrices=False)\n",
    "        \n",
    "    if n_components == 'dynamic':\n",
    "        # to dynamically set what our n_components value will be\n",
    "        # based on the number of singular values required to reach an energy level, where 1D array s is squared,\n",
    "        # such that we get at least 90% of the total sum squared of s        \n",
    "        s_squared = np.square(s)\n",
    "        s_squared_sum = s_squared.sum()\n",
    "        running_squared_sum = 0\n",
    "        n_components = 0\n",
    "        for idx, sing_val_sqrd in enumerate(s_squared):\n",
    "            running_squared_sum += sing_val_sqrd\n",
    "            if (running_squared_sum/s_squared_sum) > 0.9:\n",
    "                n_components = idx + 1\n",
    "                break\n",
    "        print(f'Number of components retained is: {n_components}')\n",
    "        \n",
    "    # Since our singular values in array s are already sorted from largest to smallest, we can then remove\n",
    "    # the insignificant singular values, and also remove the affected rows & columns from U and Vt\n",
    "    # However, since we'll only use Vt, then we only apply it there\n",
    "    if isinstance(n_components, int):\n",
    "        Vt = Vt[:n_components, :]\n",
    "    \n",
    "    # We do dot product between our data matrix and Vt.T because Vt is already reduced to the orthonormal vectors\n",
    "    # which have the highest singular value scores.  Moreover, we need to transpose Vt in order to do dot product\n",
    "    # with our data matrix (data_train and/or data_test)\n",
    "    svd_data_train = data_train.dot(Vt.T)\n",
    "    svd_data_test = data_test.dot(Vt.T)\n",
    "    \n",
    "    return (svd_data_train, svd_data_test)"
   ]
  },
  {
   "cell_type": "markdown",
   "metadata": {},
   "source": [
    "### Classification Algorithms"
   ]
  },
  {
   "cell_type": "markdown",
   "metadata": {},
   "source": [
    "#### k-Nearest Neighbours"
   ]
  },
  {
   "cell_type": "code",
   "execution_count": 104,
   "metadata": {},
   "outputs": [],
   "source": [
    "def knn(data_train, label_train, data_test, K=3):\n",
    "    '''\n",
    "    k-Nearest Neighbour classifier\n",
    "    INPUT: 2D/3D array of training dataset (data_train),\n",
    "        1D array of label of training dataset (label_train),\n",
    "        2D/3D array of the dataset to be predicted (data_test),\n",
    "        (optional) K number of nearest neighbours\n",
    "    OUTPUT: 1D array of predicted results with the same length as data_test.shape[0]\n",
    "    '''\n",
    "    \n",
    "    # Reshaping our input data, to ensure it's 2D\n",
    "    if len(data_train.shape) != 2:\n",
    "        data_train = data_train.reshape((data_train.shape[0], data_train.shape[1]**2))\n",
    "    if len(data_test.shape) != 2:\n",
    "        data_test = data_test.reshape((data_test.shape[0], data_test.shape[1]**2))\n",
    "        \n",
    "    # Instantiating our empty array for predicted values\n",
    "    pred_test = np.zeros(data_test.shape[0])\n",
    "    \n",
    "    for image_num in range(data_test.shape[0]):\n",
    "        # Calculating the distance difference between the test subject and all our training points\n",
    "        sum_sqrd_distances = np.sqrt((np.square(np.subtract(data_train, data_test[image_num]))).sum(axis=1))\n",
    "        #sum_sqrd_distances = np.linalg.norm(data_train - data_test[image_num], axis=1)\n",
    "    \n",
    "        # Getting the k nearest neighbours\n",
    "        k_nearest_neighbours = (np.argsort(sum_sqrd_distances))[:K]\n",
    "    \n",
    "        classes_dict = {}\n",
    "\n",
    "        # Using weighted distance, instead of simply using count\n",
    "        for neighbour_idx in k_nearest_neighbours:\n",
    "            classification = label_train[neighbour_idx]\n",
    "            if classification in classes_dict:\n",
    "                classes_dict[classification] += 1/(sum_sqrd_distances[neighbour_idx]**2)\n",
    "            else:\n",
    "                classes_dict[classification] = 1/(sum_sqrd_distances[neighbour_idx]**2)\n",
    "            \n",
    "        pred_class = None\n",
    "        for key in classes_dict:\n",
    "            if pred_class == None:\n",
    "                pred_class = key\n",
    "                continue\n",
    "\n",
    "            if classes_dict[key] > classes_dict[pred_class]:\n",
    "                pred_class = key\n",
    "                \n",
    "        pred_test[image_num] = pred_class\n",
    "            \n",
    "    return pred_test"
   ]
  },
  {
   "cell_type": "markdown",
   "metadata": {},
   "source": [
    "#### Gaussian Naive Bayes"
   ]
  },
  {
   "cell_type": "code",
   "execution_count": 105,
   "metadata": {},
   "outputs": [],
   "source": [
    "def gaussian_naive_bayes(data_train, label_train, data_test):\n",
    "    '''\n",
    "    Gaussian Naive Bayes classifier\n",
    "    INPUT: 2D/3D array of training dataset (data_train),\n",
    "        1D array of label on training dataset (label_train),\n",
    "        2D/3D array of test dataset (data_test)\n",
    "    OUTPUT: 1D array of predicted classes on test dataset\n",
    "    '''\n",
    "    \n",
    "    # Reshaping if it's not the expected shape (2D)\n",
    "    if len(data_train.shape) != 2:\n",
    "        data_train = data_train.reshape((data_train.shape[0], data_train.shape[1]**2))\n",
    "    if len(data_test.shape) != 2:\n",
    "        data_test = data_test.reshape((data_test.shape[0], data_test.shape[1]**2))\n",
    "\n",
    "    # Obtaining the different classes that we have present in our training data and getting index positions of each one\n",
    "    class_indices = {}\n",
    "    for idx, image_class in enumerate(label_train):\n",
    "        if image_class not in class_indices:\n",
    "            class_indices[image_class] = [idx]\n",
    "            continue\n",
    "        else:\n",
    "            class_indices[image_class].append(idx)\n",
    "        \n",
    "    class_mean = {}\n",
    "    class_var = {}\n",
    "\n",
    "    # Obtain the mean and std dev for each class of our training data\n",
    "    for class_index in class_indices:\n",
    "        class_mean[class_index] = data_train[class_indices[class_index], :].mean(axis=0)\n",
    "        class_var[class_index] = data_train[class_indices[class_index], :].var(axis=0)\n",
    "\n",
    "    pred_test = np.zeros(data_test.shape[0])\n",
    "\n",
    "    for image_num in range(data_test.shape[0]):\n",
    "        # In order to find the length of pred_class_scores, we need to get the max value of the keys\n",
    "        # with the assumption that each number up to the max will be a class\n",
    "        # we do this instead of length because our training data may not have an entry for a class, hence, it'll\n",
    "        # result in out of range if a data exists for one higher\n",
    "        pred_class_scores = np.zeros(max(class_indices, key=int)+1)\n",
    "        \n",
    "        for class_index in class_indices:\n",
    "            \n",
    "            # Calculating the logged prior probability\n",
    "            class_prob = np.log(len(class_indices[class_index])/data_train.shape[0])\n",
    "\n",
    "            # Calculating the sum of the logged conditional probability\n",
    "            likelihood_array = st.norm.logpdf(x=data_test[image_num], loc=class_mean[class_index], scale=np.sqrt(class_var[class_index]))\n",
    "            class_prob = class_prob + np.nansum(likelihood_array) # we use nansum to avoid nan likelihoods, because these are obtained from points with zero variance\n",
    "\n",
    "            # Storing the result in our results array, so we can keep track of which class has the highest\n",
    "            pred_class_scores[class_index] = class_prob\n",
    "\n",
    "        # Class with the highest prob is the predicted class for the image, which is stored in our final pred_test array\n",
    "        pred_test[image_num] = np.nanargmax(pred_class_scores)\n",
    "        \n",
    "    return pred_test"
   ]
  },
  {
   "cell_type": "markdown",
   "metadata": {},
   "source": [
    "#### Multinomial Logistic Regression"
   ]
  },
  {
   "cell_type": "code",
   "execution_count": 106,
   "metadata": {},
   "outputs": [],
   "source": [
    "def calc_logistic_loss(weights, X, y, LAMBDA):\n",
    "    '''\n",
    "    Provides the gradient and the current loss, used during the logistic gradient descent process\n",
    "    for finding the optimal weights\n",
    "    INPUT: vector weights, training dataset (X), labels of training dataset (y), regularisation term (LAMBDA)\n",
    "    OUTPUT: gradient (vector), current loss (scalar)\n",
    "    '''\n",
    "    \n",
    "    # Basically the vector of inputs for our sigmoid function\n",
    "    z = X.dot(weights)\n",
    "    \n",
    "    # Now placing it inside our sigmoid function.  This will produce vector of probabilities of size N\n",
    "    prob = 1/(1 + np.exp(-z))\n",
    "    \n",
    "    # getting the gradient at the current point\n",
    "    grad_loss = X.T.dot((prob - y))\n",
    "    \n",
    "    # getting the current loss, since we want to do minimisation problem (not maximisation)\n",
    "    curr_loss = -((np.log(prob)).T.dot(y) + (np.log(1-prob)).T.dot(1-y)) + (LAMBDA/2 * (weights.T.dot(weights)))\n",
    "    \n",
    "    return grad_loss, curr_loss[0]\n",
    "\n",
    "\n",
    "def multiclass_logistic_regression(data_train, label_train, data_test, LEARNING_RATE, LAMBDA, MAX_ITER):\n",
    "    '''\n",
    "    Function used for multinomial logistic regression - classification problem of multiple classes\n",
    "    INPUT: training data, labels of training data, test/validation dataset, learning rate, regularisation term, iterations\n",
    "    OUTPUT: predictions for the given test/validation dataset (vector)\n",
    "    '''\n",
    "    \n",
    "    # first we do the pre-processing to make it easier for our gradient descent\n",
    "    pca_data_train, pca_data_test = apply_pca(data_train, data_test, n_components=95)\n",
    "\n",
    "    # getting the unique labels that we have in dataset\n",
    "    labels = np.arange(np.max(label_train))\n",
    "\n",
    "    optimal_weights = np.zeros((pca_data_train.shape[1], len(labels)))\n",
    "\n",
    "    for label in labels:\n",
    "        X0 = pca_data_train[np.where(label_train!=label)[0], :]\n",
    "        X1 = pca_data_train[np.where(label_train==label)[0], :]\n",
    "        y0 = np.zeros(X0.shape[0])\n",
    "        y1 = np.ones(X1.shape[0])\n",
    "\n",
    "        X = np.concatenate((X0, X1), axis=0)\n",
    "        y = np.concatenate((y0, y1))[:, np.newaxis]\n",
    "\n",
    "        N, D = X.shape\n",
    "    \n",
    "        # select a random starting point for our gradient descent\n",
    "        weights = np.random.random(D)[:, np.newaxis]\n",
    "\n",
    "        loss_array = []\n",
    "\n",
    "        for _ in range(MAX_ITER):\n",
    "            dloss, current_loss = calc_logistic_loss(weights, X, y, LAMBDA)\n",
    "            weights = weights - (LEARNING_RATE * (dloss / N))\n",
    "\n",
    "            loss_array.append(current_loss)\n",
    "\n",
    "        plt.plot(list(range(MAX_ITER)), loss_array)\n",
    "        plt.show()\n",
    "\n",
    "        optimal_weights[:, label] = np.squeeze(weights)\n",
    "        \n",
    "    instance_prob_per_class = pca_data_test.dot(optimal_weights)\n",
    "    predictions = np.argmax(instance_prob_per_class, axis=1)\n",
    "        \n",
    "    return predictions"
   ]
  },
  {
   "cell_type": "markdown",
   "metadata": {},
   "source": [
    "### Hyperparameter Optimisation"
   ]
  },
  {
   "cell_type": "markdown",
   "metadata": {},
   "source": [
    "#### k-Nearest Neighbours"
   ]
  },
  {
   "cell_type": "code",
   "execution_count": null,
   "metadata": {},
   "outputs": [],
   "source": [
    "# Choose the best model out of each classifier by comparing accuracy results of hold-out method\n",
    "# Then run hyperparameter optimisation on the best model\n",
    "# run the results with our newly found hyper parameter against the test data\n",
    "# Output the file and get prediction\n",
    "\n",
    "# Do this for the other 2 classifiers too"
   ]
  },
  {
   "cell_type": "code",
   "execution_count": 12,
   "metadata": {},
   "outputs": [
    {
     "name": "stdout",
     "output_type": "stream",
     "text": [
      "Time taken is 655.7662410736084 seconds\n",
      "Accuracy result for kNN (raw) is: 0.8275\n",
      "\n",
      "Time taken is 48.18245530128479 seconds\n",
      "Accuracy result for kNN (PCA) is: 0.84\n",
      "\n",
      "Time taken is 55.23245167732239 seconds\n",
      "Accuracy result for kNN (SVD) is: 0.8395\n"
     ]
    }
   ],
   "source": [
    "# k-Nearest Neighbours Classifier using raw data as input\n",
    "start = time.time()\n",
    "knn_results = knn(data_train, label_train, data_test, K=5)\n",
    "end = time.time()\n",
    "print(f\"Time taken is {end-start} seconds\")\n",
    "accuracy = calc_top1_accuracy(knn_results, label_test)\n",
    "print(f\"Accuracy result for kNN (raw) is: {accuracy}\")\n",
    "print()\n",
    "\n",
    "# k-Nearest Neighbours Classifier with PCA\n",
    "start = time.time()\n",
    "pca_data_train, pca_data_test = apply_pca(data_train, data_test, n_components=43)\n",
    "knn_pca_results = knn(pca_data_train, label_train, pca_data_test, K=5)\n",
    "end = time.time()\n",
    "print(f\"Time taken is {end-start} seconds\")\n",
    "accuracy = calc_top1_accuracy(knn_pca_results, label_test)\n",
    "print(f\"Accuracy result for kNN (PCA) is: {accuracy}\")\n",
    "print()\n",
    "\n",
    "# k-Nearest Neighbours Classifier with SVD\n",
    "start = time.time()\n",
    "svd_data_train, svd_data_test = apply_svd(data_train, data_test, n_components=43)\n",
    "knn_svd_results = knn(svd_data_train, label_train, svd_data_test, K=5)\n",
    "end = time.time()\n",
    "print(f\"Time taken is {end-start} seconds\")\n",
    "accuracy = calc_top1_accuracy(knn_svd_results, label_test)\n",
    "print(f\"Accuracy result for kNN (SVD) is: {accuracy}\")"
   ]
  },
  {
   "cell_type": "code",
   "execution_count": 16,
   "metadata": {},
   "outputs": [
    {
     "name": "stdout",
     "output_type": "stream",
     "text": [
      "Average accuracy result for K Nearest Neighbours with K=3 is 0.8467407407407407\n",
      "Average accuracy result for K Nearest Neighbours with K=6 is 0.8501851851851852\n",
      "Average accuracy result for K Nearest Neighbours with K=9 is 0.8509259259259259\n",
      "Average accuracy result for K Nearest Neighbours with K=12 is 0.8483703703703703\n",
      "Average accuracy result for K Nearest Neighbours with K=15 is 0.8507037037037036\n",
      "Average accuracy result for K Nearest Neighbours with K=18 is 0.8468518518518519\n",
      "Average accuracy result for K Nearest Neighbours with K=21 is 0.8478888888888889\n",
      "Average accuracy result for K Nearest Neighbours with K=24 is 0.8415925925925926\n",
      "Average accuracy result for K Nearest Neighbours with K=27 is 0.8414814814814816\n",
      "Average accuracy result for K Nearest Neighbours with K=30 is 0.8386296296296297\n",
      "Average accuracy result for K Nearest Neighbours with K=33 is 0.8424444444444444\n"
     ]
    }
   ],
   "source": [
    "# Hyperparameterisation\n",
    "\n",
    "# Finding the best value of K (PCA)\n",
    "\n",
    "N_RUNS = 3\n",
    "\n",
    "for K in range(3,36, 3):\n",
    "    accuracy_results = []\n",
    "    for _ in range(N_RUNS):\n",
    "        # do the shuffle and train/validation split\n",
    "        split_data_train, split_label_train, split_data_validation, split_label_validation = train_validation_split(0.7, data_train, label_train)\n",
    "        \n",
    "        pca_data_train, pca_data_test = apply_pca(split_data_train, split_data_validation, n_components=43)\n",
    "        knn_pca_results = knn(pca_data_train, split_label_train, pca_data_test, K=K)\n",
    "        accuracy = calc_top1_accuracy(knn_pca_results, split_label_validation)\n",
    "        accuracy_results.append(accuracy)\n",
    "    print(f'Average accuracy result for K Nearest Neighbours with K={K} is {(sum(accuracy_results))/N_RUNS}')"
   ]
  },
  {
   "cell_type": "code",
   "execution_count": 21,
   "metadata": {},
   "outputs": [
    {
     "name": "stdout",
     "output_type": "stream",
     "text": [
      "Average accuracy result for K Nearest Neighbours with n_components=35 is 0.8504444444444444\n",
      "Average accuracy result for K Nearest Neighbours with n_components=40 is 0.8473333333333334\n",
      "Average accuracy result for K Nearest Neighbours with n_components=45 is 0.8597777777777778\n",
      "Average accuracy result for K Nearest Neighbours with n_components=50 is 0.8534444444444444\n",
      "Average accuracy result for K Nearest Neighbours with n_components=55 is 0.8518888888888889\n",
      "Average accuracy result for K Nearest Neighbours with n_components=60 is 0.8548888888888889\n",
      "Average accuracy result for K Nearest Neighbours with n_components=65 is 0.8473333333333334\n",
      "Average accuracy result for K Nearest Neighbours with n_components=70 is 0.8511111111111112\n",
      "Average accuracy result for K Nearest Neighbours with n_components=75 is 0.8541111111111112\n",
      "Average accuracy result for K Nearest Neighbours with n_components=80 is 0.8576666666666667\n",
      "Average accuracy result for K Nearest Neighbours with n_components=85 is 0.8577777777777778\n",
      "Average accuracy result for K Nearest Neighbours with n_components=90 is 0.8537777777777777\n",
      "Average accuracy result for K Nearest Neighbours with n_components=95 is 0.8533333333333334\n",
      "Average accuracy result for K Nearest Neighbours with n_components=100 is 0.8491111111111111\n",
      "Average accuracy result for K Nearest Neighbours with n_components=105 is 0.8553333333333333\n",
      "Average accuracy result for K Nearest Neighbours with n_components=110 is 0.8587777777777778\n",
      "Average accuracy result for K Nearest Neighbours with n_components=115 is 0.8566666666666667\n"
     ]
    }
   ],
   "source": [
    "# Hyperparameterisation\n",
    "\n",
    "# Finding the best value of K (PCA)\n",
    "\n",
    "N_RUNS = 1\n",
    "\n",
    "for n_component in range(35,120, 5):\n",
    "    accuracy_results = []\n",
    "    for _ in range(N_RUNS):\n",
    "        # do the shuffle and train/validation split\n",
    "        split_data_train, split_label_train, split_data_validation, split_label_validation = train_validation_split(0.7, data_train, label_train)\n",
    "        \n",
    "        pca_data_train, pca_data_test = apply_pca(split_data_train, split_data_validation, n_components=n_component)\n",
    "        knn_pca_results = knn(pca_data_train, split_label_train, pca_data_test, K=9)\n",
    "        accuracy = calc_top1_accuracy(knn_pca_results, split_label_validation)\n",
    "        accuracy_results.append(accuracy)\n",
    "    print(f'Average accuracy result for K Nearest Neighbours with n_components={n_component} is {(sum(accuracy_results))/N_RUNS}')"
   ]
  },
  {
   "cell_type": "code",
   "execution_count": 17,
   "metadata": {},
   "outputs": [
    {
     "name": "stdout",
     "output_type": "stream",
     "text": [
      "Average accuracy result for K Nearest Neighbours with K=3 is 0.8448888888888889\n",
      "Average accuracy result for K Nearest Neighbours with K=6 is 0.8495555555555555\n",
      "Average accuracy result for K Nearest Neighbours with K=9 is 0.8505185185185186\n",
      "Average accuracy result for K Nearest Neighbours with K=12 is 0.8490000000000001\n",
      "Average accuracy result for K Nearest Neighbours with K=15 is 0.8478148148148148\n",
      "Average accuracy result for K Nearest Neighbours with K=18 is 0.8447037037037036\n",
      "Average accuracy result for K Nearest Neighbours with K=21 is 0.8432962962962963\n",
      "Average accuracy result for K Nearest Neighbours with K=24 is 0.8406296296296296\n",
      "Average accuracy result for K Nearest Neighbours with K=27 is 0.8453703703703703\n",
      "Average accuracy result for K Nearest Neighbours with K=30 is 0.8434074074074074\n",
      "Average accuracy result for K Nearest Neighbours with K=33 is 0.8407037037037037\n"
     ]
    }
   ],
   "source": [
    "# Hyperparameterisation\n",
    "\n",
    "# Finding the best value of K (SVD)\n",
    "\n",
    "N_RUNS = 3\n",
    "\n",
    "for K in range(3,36, 3):\n",
    "    accuracy_results = []\n",
    "    for _ in range(N_RUNS):\n",
    "        # do the shuffle and train/validation split\n",
    "        split_data_train, split_label_train, split_data_validation, split_label_validation = train_validation_split(0.7, data_train, label_train)\n",
    "        \n",
    "        svd_data_train, svd_data_test = apply_svd(split_data_train, split_data_validation, n_components=43)\n",
    "        knn_svd_results = knn(svd_data_train, split_label_train, svd_data_test, K=K)\n",
    "        accuracy = calc_top1_accuracy(knn_svd_results, split_label_validation)\n",
    "        accuracy_results.append(accuracy)\n",
    "    print(f'Average accuracy result for K Nearest Neighbours with K={K} is {(sum(accuracy_results))/N_RUNS}')"
   ]
  },
  {
   "cell_type": "code",
   "execution_count": 22,
   "metadata": {},
   "outputs": [
    {
     "name": "stdout",
     "output_type": "stream",
     "text": [
      "Average accuracy result for n_components retained for SVD with n_component=70 is 0.8511111111111112\n",
      "Average accuracy result for n_components retained for SVD with n_component=75 is 0.8492222222222222\n",
      "Average accuracy result for n_components retained for SVD with n_component=80 is 0.8512222222222222\n",
      "Average accuracy result for n_components retained for SVD with n_component=85 is 0.856\n",
      "Average accuracy result for n_components retained for SVD with n_component=90 is 0.8476666666666667\n",
      "Average accuracy result for n_components retained for SVD with n_component=95 is 0.8532222222222222\n",
      "Average accuracy result for n_components retained for SVD with n_component=100 is 0.8566666666666667\n",
      "Average accuracy result for n_components retained for SVD with n_component=105 is 0.8495555555555555\n",
      "Average accuracy result for n_components retained for SVD with n_component=110 is 0.8494444444444444\n",
      "Average accuracy result for n_components retained for SVD with n_component=115 is 0.8537777777777777\n"
     ]
    }
   ],
   "source": [
    "# Hyperparameterisation\n",
    "\n",
    "# Finding the best value of n_component (SVD)\n",
    "\n",
    "N_RUNS = 1\n",
    "\n",
    "for n_component in range(70,120, 5):\n",
    "    accuracy_results = []\n",
    "    for _ in range(N_RUNS):\n",
    "        # do the shuffle and train/validation split\n",
    "        split_data_train, split_label_train, split_data_validation, split_label_validation = train_validation_split(0.7, data_train, label_train)\n",
    "        \n",
    "        svd_data_train, svd_data_test = apply_svd(split_data_train, split_data_validation, n_components=n_component)\n",
    "        knn_svd_results = knn(svd_data_train, split_label_train, svd_data_test, K=10)\n",
    "        accuracy = calc_top1_accuracy(knn_svd_results, split_label_validation)\n",
    "        accuracy_results.append(accuracy)\n",
    "    print(f'Average accuracy result for n_components retained for SVD with n_component={n_component} is {(sum(accuracy_results))/N_RUNS}')"
   ]
  },
  {
   "cell_type": "code",
   "execution_count": 20,
   "metadata": {},
   "outputs": [
    {
     "name": "stdout",
     "output_type": "stream",
     "text": [
      "Average accuracy result for K Nearest Neighbours with K=5 is 0.8497407407407408\n",
      "Average accuracy result for K Nearest Neighbours with K=6 is 0.8495555555555555\n",
      "Average accuracy result for K Nearest Neighbours with K=7 is 0.8508888888888889\n",
      "Average accuracy result for K Nearest Neighbours with K=8 is 0.852925925925926\n",
      "Average accuracy result for K Nearest Neighbours with K=9 is 0.8537037037037036\n"
     ]
    }
   ],
   "source": [
    "# Hyperparameterisation\n",
    "\n",
    "# Finding the best value of K (SVD)\n",
    "\n",
    "N_RUNS = 3\n",
    "\n",
    "for K in range(5,10, 1):\n",
    "    accuracy_results = []\n",
    "    for _ in range(N_RUNS):\n",
    "        # do the shuffle and train/validation split\n",
    "        split_data_train, split_label_train, split_data_validation, split_label_validation = train_validation_split(0.7, data_train, label_train)\n",
    "        \n",
    "        svd_data_train, svd_data_test = apply_svd(split_data_train, split_data_validation, n_components=75)\n",
    "        knn_svd_results = knn(svd_data_train, split_label_train, svd_data_test, K=K)\n",
    "        accuracy = calc_top1_accuracy(knn_svd_results, split_label_validation)\n",
    "        accuracy_results.append(accuracy)\n",
    "    print(f'Average accuracy result for K Nearest Neighbours with K={K} is {(sum(accuracy_results))/N_RUNS}')"
   ]
  },
  {
   "cell_type": "markdown",
   "metadata": {},
   "source": [
    "#### Gaussian Naive Bayes"
   ]
  },
  {
   "cell_type": "code",
   "execution_count": null,
   "metadata": {},
   "outputs": [],
   "source": [
    "# Hyperparameterisation\n",
    "\n",
    "# Finding the best n_components value for PCA\n",
    "\n",
    "N_RUNS = 3\n",
    "\n",
    "for n_component in range(70,100, 5):\n",
    "    accuracy_results = []\n",
    "    for _ in range(N_RUNS):\n",
    "        # do the shuffle and train/validation split\n",
    "        split_data_train, split_label_train, split_data_validation, split_label_validation = train_validation_split(0.7, data_train, label_train)\n",
    "        \n",
    "        pca_data_train, pca_data_test = apply_pca(split_data_train, split_data_validation, n_components=n_component)\n",
    "        nb_pca_results = gaussian_naive_bayes(pca_data_train, split_label_train, pca_data_test)\n",
    "        accuracy = calc_top1_accuracy(nb_pca_results, split_label_validation)\n",
    "        accuracy_results.append(accuracy)\n",
    "    print(f'Average accuracy result for PCA components retained={n_component} is {(sum(accuracy_results))/N_RUNS}')"
   ]
  },
  {
   "cell_type": "code",
   "execution_count": null,
   "metadata": {},
   "outputs": [],
   "source": [
    "'''\n",
    "# Gaussian Naive Bayes using raw data as input\n",
    "start = time.time()\n",
    "nb_results = gaussian_naive_bayes(data_train, label_train, data_test)\n",
    "end = time.time()\n",
    "print(f\"Time taken is {end-start} seconds\")\n",
    "accuracy = calc_top1_accuracy(nb_results, label_test)\n",
    "print(f\"Accuracy result for NB (raw) is: {accuracy}\")\n",
    "print()\n",
    "'''\n",
    "\n",
    "# Gaussian Naive Bayes applied on principal components of dataset\n",
    "start = time.time()\n",
    "pca_data_train, pca_data_test = apply_pca(data_train, data_test, n_components=95)\n",
    "nb_pca_results = gaussian_naive_bayes(pca_data_train, label_train, pca_data_test)\n",
    "end = time.time()\n",
    "print(f\"Time taken is {end-start} seconds\")\n",
    "accuracy = calc_top1_accuracy(nb_pca_results, label_test)        \n",
    "print(f\"Accuracy result for NB (PCA) is: {accuracy}\")\n",
    "print()\n",
    "'''\n",
    "# Gaussian Naive Bayes applied on SVD of dataset\n",
    "start = time.time()\n",
    "svd_data_train, svd_data_test = apply_svd(data_train, data_test, n_components=50)\n",
    "nb_svd_results = gaussian_naive_bayes(svd_data_train, label_train, svd_data_test)\n",
    "end = time.time()\n",
    "print(f\"Time taken is {end-start} seconds\")\n",
    "accuracy = calc_top1_accuracy(nb_svd_results, label_test)\n",
    "print(f\"Accuracy result for NB (SVD) is: {accuracy}\")\n",
    "'''"
   ]
  },
  {
   "cell_type": "markdown",
   "metadata": {},
   "source": [
    "#### Multinomial Logistic Regression"
   ]
  },
  {
   "cell_type": "code",
   "execution_count": 94,
   "metadata": {},
   "outputs": [
    {
     "data": {
      "image/png": "[encoded data removed]",
      "text/plain": [
       "<Figure size 432x288 with 1 Axes>"
      ]
     },
     "metadata": {
      "needs_background": "light"
     },
     "output_type": "display_data"
    },
    {
     "data": {
      "image/png": "[encoded data removed]",
      "text/plain": [
       "<Figure size 432x288 with 1 Axes>"
      ]
     },
     "metadata": {
      "needs_background": "light"
     },
     "output_type": "display_data"
    },
    {
     "data": {
      "image/png": "[encoded data removed]",
      "text/plain": [
       "<Figure size 432x288 with 1 Axes>"
      ]
     },
     "metadata": {
      "needs_background": "light"
     },
     "output_type": "display_data"
    },
    {
     "data": {
      "image/png": "[encoded data removed]",
      "text/plain": [
       "<Figure size 432x288 with 1 Axes>"
      ]
     },
     "metadata": {
      "needs_background": "light"
     },
     "output_type": "display_data"
    },
    {
     "data": {
      "image/png": "[encoded data removed]",
      "text/plain": [
       "<Figure size 432x288 with 1 Axes>"
      ]
     },
     "metadata": {
      "needs_background": "light"
     },
     "output_type": "display_data"
    },
    {
     "data": {
      "image/png": "[encoded data removed]",
      "text/plain": [
       "<Figure size 432x288 with 1 Axes>"
      ]
     },
     "metadata": {
      "needs_background": "light"
     },
     "output_type": "display_data"
    },
    {
     "data": {
      "image/png": "[encoded data removed]",
      "text/plain": [
       "<Figure size 432x288 with 1 Axes>"
      ]
     },
     "metadata": {
      "needs_background": "light"
     },
     "output_type": "display_data"
    },
    {
     "data": {
      "image/png": "[encoded data removed]",
      "text/plain": [
       "<Figure size 432x288 with 1 Axes>"
      ]
     },
     "metadata": {
      "needs_background": "light"
     },
     "output_type": "display_data"
    },
    {
     "data": {
      "image/png": "[encoded data removed]",
      "text/plain": [
       "<Figure size 432x288 with 1 Axes>"
      ]
     },
     "metadata": {
      "needs_background": "light"
     },
     "output_type": "display_data"
    },
    {
     "name": "stdout",
     "output_type": "stream",
     "text": [
      "0.6975\n"
     ]
    }
   ],
   "source": [
    "LEARNING_RATE = 0.4\n",
    "LAMBDA = 100\n",
    "MAX_ITER = 500\n",
    "\n",
    "predictions = multiclass_logistic_regression(data_train, label_train, data_test, LEARNING_RATE, LAMBDA, MAX_ITER)\n",
    "accuracy = calc_top1_accuracy(predictions, label_test)\n",
    "print(accuracy)"
   ]
  },
  {
   "cell_type": "markdown",
   "metadata": {},
   "source": [
    "### Output of Best Classifier"
   ]
  },
  {
   "cell_type": "code",
   "execution_count": null,
   "metadata": {},
   "outputs": [],
   "source": [
    "output_prediction(nb_svd_results)"
   ]
  }
 ],
 "metadata": {
  "kernelspec": {
   "display_name": "Python 3",
   "language": "python",
   "name": "python3"
  },
  "language_info": {
   "codemirror_mode": {
    "name": "ipython",
    "version": 3
   },
   "file_extension": ".py",
   "mimetype": "text/x-python",
   "name": "python",
   "nbconvert_exporter": "python",
   "pygments_lexer": "ipython3",
   "version": "3.6.4"
  }
 },
 "nbformat": 4,
 "nbformat_minor": 4
}
