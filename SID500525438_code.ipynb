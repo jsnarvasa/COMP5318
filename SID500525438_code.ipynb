{
 "cells": [
  {
   "cell_type": "markdown",
   "metadata": {},
   "source": [
    "# COMP5318: Assignment 1\n",
    "## By SID 500525438"
   ]
  },
  {
   "cell_type": "code",
   "execution_count": 1,
   "metadata": {},
   "outputs": [],
   "source": [
    "# Library imports\n",
    "\n",
    "import time\n",
    "import h5py\n",
    "import numpy as np\n",
    "import matplotlib.pyplot as plt\n",
    "from scipy import stats as st"
   ]
  },
  {
   "cell_type": "code",
   "execution_count": 2,
   "metadata": {},
   "outputs": [],
   "source": [
    "# Loading our training data\n",
    "\n",
    "with h5py.File('./Input/images_training.h5','r') as H:\n",
    "    data_train = np.copy(H['datatrain'])\n",
    "with h5py.File('./Input/labels_training.h5','r') as H:\n",
    "    label_train = np.copy(H['labeltrain'])\n",
    "    \n",
    "# Loading our testing data\n",
    "\n",
    "with h5py.File('./Input/images_testing.h5','r') as H:\n",
    "    data_test = np.copy(H['datatest'])\n",
    "with h5py.File('./Input/labels_testing_2000.h5','r') as H:\n",
    "    label_test = np.copy(H['labeltest'])"
   ]
  },
  {
   "cell_type": "code",
   "execution_count": 3,
   "metadata": {},
   "outputs": [
    {
     "name": "stdout",
     "output_type": "stream",
     "text": [
      "(30000, 784) (30000,)\n",
      "(5000, 784) (2000,)\n"
     ]
    }
   ],
   "source": [
    "# Verifying our loaded training data\n",
    "print(data_train.shape, label_train.shape)\n",
    "\n",
    "# Verifying our loaded testing data\n",
    "print(data_test.shape, label_test.shape)"
   ]
  },
  {
   "cell_type": "code",
   "execution_count": 4,
   "metadata": {},
   "outputs": [],
   "source": [
    "# Class mappings\n",
    "class_mappings = {\n",
    "    0: 'T-shirt/Top',\n",
    "    1: 'Trouser',\n",
    "    2: 'Pullover',\n",
    "    3: 'Dress',\n",
    "    4: 'Coat',\n",
    "    5: 'Sandal',\n",
    "    6: 'Shirt',\n",
    "    7: 'Sneaker',\n",
    "    8: 'Bag',\n",
    "    9: 'Ankle boot'\n",
    "}"
   ]
  },
  {
   "cell_type": "markdown",
   "metadata": {},
   "source": [
    "### Utility Functions"
   ]
  },
  {
   "cell_type": "code",
   "execution_count": 5,
   "metadata": {},
   "outputs": [],
   "source": [
    "def calc_top1_accuracy(predicted, actual):\n",
    "    '''\n",
    "    Calculates the top-1 accuracy metric, given the predicted classes against the actual classes\n",
    "    INPUT: 1D array of predicted results,\n",
    "        1D array of actual results\n",
    "    OUTPUT: percentage in decimal format of accuracy    \n",
    "    '''\n",
    "    correct = 0\n",
    "    for n in range(actual.shape[0]):\n",
    "        if predicted[n] == actual[n]:\n",
    "            correct += 1\n",
    "        \n",
    "    return correct/actual.shape[0]"
   ]
  },
  {
   "cell_type": "code",
   "execution_count": 6,
   "metadata": {},
   "outputs": [],
   "source": [
    "def output_prediction(predictions):\n",
    "    '''\n",
    "    Generates the output file for the predictions\n",
    "    INPUT: 1D array of predicted results\n",
    "    OUTPUT: prediction file of .h5 format\n",
    "    '''\n",
    "    with h5py.File('./Output/predicted_labels.h5','w') as H:\n",
    "        H.create_dataset('Output',data=predictions)"
   ]
  },
  {
   "cell_type": "code",
   "execution_count": 7,
   "metadata": {},
   "outputs": [],
   "source": [
    "def train_validation_split(train_ratio, data_train, label_train):\n",
    "    '''\n",
    "    Splits the dataset for X and y into training and validation datasets based on the given ratio\n",
    "    INPUT: train split ratio, training dataset, label dataset\n",
    "    OUTPUT: training data and label numpy arrays, validation data and label numpy arrays\n",
    "    '''\n",
    "    # obtain the row number where we conduct the split\n",
    "    row_split = int(train_ratio * data_train.shape[0])\n",
    "    \n",
    "    # shuffle our matrices\n",
    "    shuffled_idx = np.arange(data_train.shape[0])\n",
    "    np.random.shuffle(shuffled_idx)\n",
    "    data_train = data_train[shuffled_idx]\n",
    "    label_train = label_train[shuffled_idx]\n",
    "        \n",
    "    # create the train/test split\n",
    "    split_data_train = data_train[:row_split, :]\n",
    "    split_label_train = label_train[:row_split]\n",
    "    split_data_validation = data_train[row_split:, :]\n",
    "    split_label_validation = label_train[row_split:]\n",
    "    \n",
    "    return split_data_train, split_label_train, split_data_validation, split_label_validation"
   ]
  },
  {
   "cell_type": "markdown",
   "metadata": {},
   "source": [
    "### Pre-processing"
   ]
  },
  {
   "cell_type": "markdown",
   "metadata": {},
   "source": [
    "#### PCA"
   ]
  },
  {
   "cell_type": "code",
   "execution_count": 8,
   "metadata": {},
   "outputs": [],
   "source": [
    "def apply_pca(data_train, data_test, n_components=45):\n",
    "    '''\n",
    "    Apply PCA on the given dataset\n",
    "    INPUT: 2D or 3D array dataset for data_train and data_test,\n",
    "        INT n_components for the number of components to be retained, or set to STR 'dynamic' to count eigenvalues > 1\n",
    "    OUTPUT: 2D array of dataset reduced to n dimensions\n",
    "    '''\n",
    "    if len(data_train.shape) != 2:\n",
    "        data_train = data_train.reshape((data_train.shape[0], data_train.shape[1]**2))\n",
    "    if len(data_test.shape) != 2:\n",
    "        data_test = data_test.reshape((data_test.shape[0], data_test.shape[1]**2))\n",
    "    \n",
    "    # Need to get the mean of each feature, for mean normalisation/centreing\n",
    "    data_train_mean = data_train.mean(axis=0)\n",
    "    data_test_mean = data_test.mean(axis=0)\n",
    "    # Feature means should now be zero, or approx. close to zero - and hence centred\n",
    "    data_train_centred = np.subtract(data_train, data_train_mean)\n",
    "    data_test_centred = np.subtract(data_test, data_test_mean)\n",
    "    \n",
    "    # Checking the following, we can see that the max and min value of the entire matrix is 0 and 1\n",
    "    # hence scaling is not required\n",
    "    '''\n",
    "    print(data_train.min())\n",
    "    print(data_train.max())\n",
    "    print(data_test.min())\n",
    "    print(data_test.max())\n",
    "    '''\n",
    "    \n",
    "    covariance_matrix = (data_train_centred.T).dot(data_train_centred)\n",
    "    l, V = np.linalg.eig(covariance_matrix)\n",
    "    \n",
    "    sorted_lambda_index =  l.argsort()[::-1] # sorting our lambda values from largest to smallest\n",
    "    \n",
    "    if n_components == 'dynamic':\n",
    "        # The number of components to be retained for PCA, will be based on the number of eigenvalues which are > 1\n",
    "        n_components = np.count_nonzero(l > 1)\n",
    "        print(f'Number of factors retained is: {n_components}')\n",
    "        \n",
    "    V_n = V[:,sorted_lambda_index[:n_components]]\n",
    "    \n",
    "    # Do the projection of the image matrix against our orthogonal eigenvector matrix reduced to n columns\n",
    "    pca_data_train = data_train_centred.dot(V_n)\n",
    "    pca_data_test = data_test_centred.dot(V_n)\n",
    "    \n",
    "    return (pca_data_train, pca_data_test)"
   ]
  },
  {
   "cell_type": "markdown",
   "metadata": {},
   "source": [
    "#### SVD"
   ]
  },
  {
   "cell_type": "code",
   "execution_count": 9,
   "metadata": {},
   "outputs": [],
   "source": [
    "def apply_svd(data_train, data_test, n_components=45):\n",
    "    '''\n",
    "    Apply Singular Value Decomposition for a given training dataset,\n",
    "    and subsequently apply our test dataset onto the same orthognal V\n",
    "    '''\n",
    "    if len(data_train.shape) != 2:\n",
    "        data_train = data_train.reshape((data_train.shape[0], data_train.shape[1]**2))\n",
    "    if len(data_test.shape) != 2:\n",
    "        data_test = data_test.reshape((data_test.shape[0], data_test.shape[1]**2))\n",
    "        \n",
    "    U, s, Vt = np.linalg.svd(data_train, full_matrices=False)\n",
    "        \n",
    "    if n_components == 'dynamic':\n",
    "        # to dynamically set what our n_components value will be\n",
    "        # based on the number of singular values required to reach an energy level, where 1D array s is squared,\n",
    "        # such that we get at least 90% of the total sum squared of s        \n",
    "        s_squared = np.square(s)\n",
    "        s_squared_sum = s_squared.sum()\n",
    "        running_squared_sum = 0\n",
    "        n_components = 0\n",
    "        for idx, sing_val_sqrd in enumerate(s_squared):\n",
    "            running_squared_sum += sing_val_sqrd\n",
    "            if (running_squared_sum/s_squared_sum) > 0.9:\n",
    "                n_components = idx + 1\n",
    "                break\n",
    "        print(f'Number of components retained is: {n_components}')\n",
    "        \n",
    "    # Since our singular values in array s are already sorted from largest to smallest, we can then remove\n",
    "    # the insignificant singular values, and also remove the affected rows & columns from U and Vt\n",
    "    # However, since we'll only use Vt, then we only apply it there\n",
    "    if isinstance(n_components, int):\n",
    "        Vt = Vt[:n_components, :]\n",
    "    \n",
    "    # We do dot product between our data matrix and Vt.T because Vt is already reduced to the orthonormal vectors\n",
    "    # which have the highest singular value scores.  Moreover, we need to transpose Vt in order to do dot product\n",
    "    # with our data matrix (data_train and/or data_test)\n",
    "    svd_data_train = data_train.dot(Vt.T)\n",
    "    svd_data_test = data_test.dot(Vt.T)\n",
    "    \n",
    "    return (svd_data_train, svd_data_test)"
   ]
  },
  {
   "cell_type": "markdown",
   "metadata": {},
   "source": [
    "### Classification Algorithms"
   ]
  },
  {
   "cell_type": "markdown",
   "metadata": {},
   "source": [
    "#### k-Nearest Neighbours"
   ]
  },
  {
   "cell_type": "code",
   "execution_count": 10,
   "metadata": {},
   "outputs": [],
   "source": [
    "def knn(data_train, label_train, data_test, K=3):\n",
    "    '''\n",
    "    k-Nearest Neighbour classifier\n",
    "    INPUT: 2D/3D array of training dataset (data_train),\n",
    "        1D array of label of training dataset (label_train),\n",
    "        2D/3D array of the dataset to be predicted (data_test),\n",
    "        (optional) K number of nearest neighbours\n",
    "    OUTPUT: 1D array of predicted results with the same length as data_test.shape[0]\n",
    "    '''\n",
    "    \n",
    "    # Reshaping our input data, to ensure it's 2D\n",
    "    if len(data_train.shape) != 2:\n",
    "        data_train = data_train.reshape((data_train.shape[0], data_train.shape[1]**2))\n",
    "    if len(data_test.shape) != 2:\n",
    "        data_test = data_test.reshape((data_test.shape[0], data_test.shape[1]**2))\n",
    "        \n",
    "    # Instantiating our empty array for predicted values\n",
    "    pred_test = np.zeros(data_test.shape[0])\n",
    "    \n",
    "    for image_num in range(data_test.shape[0]):\n",
    "        # Calculating the distance difference between the test subject and all our training points\n",
    "        sum_sqrd_distances = np.sqrt((np.square(np.subtract(data_train, data_test[image_num]))).sum(axis=1))\n",
    "        #sum_sqrd_distances = np.linalg.norm(data_train - data_test[image_num], axis=1)\n",
    "    \n",
    "        # Getting the k nearest neighbours\n",
    "        k_nearest_neighbours = (np.argsort(sum_sqrd_distances))[:K]\n",
    "    \n",
    "        classes_dict = {}\n",
    "\n",
    "        # Using weighted distance, instead of simply using count\n",
    "        for neighbour_idx in k_nearest_neighbours:\n",
    "            classification = label_train[neighbour_idx]\n",
    "            if classification in classes_dict:\n",
    "                classes_dict[classification] += 1/(sum_sqrd_distances[neighbour_idx]**2)\n",
    "            else:\n",
    "                classes_dict[classification] = 1/(sum_sqrd_distances[neighbour_idx]**2)\n",
    "            \n",
    "        pred_class = None\n",
    "        for key in classes_dict:\n",
    "            if pred_class == None:\n",
    "                pred_class = key\n",
    "                continue\n",
    "\n",
    "            if classes_dict[key] > classes_dict[pred_class]:\n",
    "                pred_class = key\n",
    "                \n",
    "        pred_test[image_num] = pred_class\n",
    "            \n",
    "    return pred_test"
   ]
  },
  {
   "cell_type": "code",
   "execution_count": null,
   "metadata": {},
   "outputs": [],
   "source": [
    "# Choose the best model out of each classifier by comparing accuracy results of hold-out method\n",
    "# Then run hyperparameter optimisation on the best model\n",
    "# run the results with our newly found hyper parameter against the test data\n",
    "# Output the file and get prediction\n",
    "\n",
    "# Do this for the other 2 classifiers too"
   ]
  },
  {
   "cell_type": "code",
   "execution_count": 12,
   "metadata": {},
   "outputs": [
    {
     "name": "stdout",
     "output_type": "stream",
     "text": [
      "Time taken is 655.7662410736084 seconds\n",
      "Accuracy result for kNN (raw) is: 0.8275\n",
      "\n",
      "Time taken is 48.18245530128479 seconds\n",
      "Accuracy result for kNN (PCA) is: 0.84\n",
      "\n",
      "Time taken is 55.23245167732239 seconds\n",
      "Accuracy result for kNN (SVD) is: 0.8395\n"
     ]
    }
   ],
   "source": [
    "# k-Nearest Neighbours Classifier using raw data as input\n",
    "start = time.time()\n",
    "knn_results = knn(data_train, label_train, data_test, K=5)\n",
    "end = time.time()\n",
    "print(f\"Time taken is {end-start} seconds\")\n",
    "accuracy = calc_top1_accuracy(knn_results, label_test)\n",
    "print(f\"Accuracy result for kNN (raw) is: {accuracy}\")\n",
    "print()\n",
    "\n",
    "# k-Nearest Neighbours Classifier with PCA\n",
    "start = time.time()\n",
    "pca_data_train, pca_data_test = apply_pca(data_train, data_test, n_components=43)\n",
    "knn_pca_results = knn(pca_data_train, label_train, pca_data_test, K=5)\n",
    "end = time.time()\n",
    "print(f\"Time taken is {end-start} seconds\")\n",
    "accuracy = calc_top1_accuracy(knn_pca_results, label_test)\n",
    "print(f\"Accuracy result for kNN (PCA) is: {accuracy}\")\n",
    "print()\n",
    "\n",
    "# k-Nearest Neighbours Classifier with SVD\n",
    "start = time.time()\n",
    "svd_data_train, svd_data_test = apply_svd(data_train, data_test, n_components=43)\n",
    "knn_svd_results = knn(svd_data_train, label_train, svd_data_test, K=5)\n",
    "end = time.time()\n",
    "print(f\"Time taken is {end-start} seconds\")\n",
    "accuracy = calc_top1_accuracy(knn_svd_results, label_test)\n",
    "print(f\"Accuracy result for kNN (SVD) is: {accuracy}\")"
   ]
  },
  {
   "cell_type": "code",
   "execution_count": 16,
   "metadata": {},
   "outputs": [
    {
     "name": "stdout",
     "output_type": "stream",
     "text": [
      "Average accuracy result for K Nearest Neighbours with K=3 is 0.8467407407407407\n",
      "Average accuracy result for K Nearest Neighbours with K=6 is 0.8501851851851852\n",
      "Average accuracy result for K Nearest Neighbours with K=9 is 0.8509259259259259\n",
      "Average accuracy result for K Nearest Neighbours with K=12 is 0.8483703703703703\n",
      "Average accuracy result for K Nearest Neighbours with K=15 is 0.8507037037037036\n",
      "Average accuracy result for K Nearest Neighbours with K=18 is 0.8468518518518519\n",
      "Average accuracy result for K Nearest Neighbours with K=21 is 0.8478888888888889\n",
      "Average accuracy result for K Nearest Neighbours with K=24 is 0.8415925925925926\n",
      "Average accuracy result for K Nearest Neighbours with K=27 is 0.8414814814814816\n",
      "Average accuracy result for K Nearest Neighbours with K=30 is 0.8386296296296297\n",
      "Average accuracy result for K Nearest Neighbours with K=33 is 0.8424444444444444\n"
     ]
    }
   ],
   "source": [
    "# Hyperparameterisation\n",
    "\n",
    "# Finding the best value of K (PCA)\n",
    "\n",
    "N_RUNS = 3\n",
    "\n",
    "for K in range(3,36, 3):\n",
    "    accuracy_results = []\n",
    "    for _ in range(N_RUNS):\n",
    "        # do the shuffle and train/validation split\n",
    "        split_data_train, split_label_train, split_data_validation, split_label_validation = train_validation_split(0.7, data_train, label_train)\n",
    "        \n",
    "        pca_data_train, pca_data_test = apply_pca(split_data_train, split_data_validation, n_components=43)\n",
    "        knn_pca_results = knn(pca_data_train, split_label_train, pca_data_test, K=K)\n",
    "        accuracy = calc_top1_accuracy(knn_pca_results, split_label_validation)\n",
    "        accuracy_results.append(accuracy)\n",
    "    print(f'Average accuracy result for K Nearest Neighbours with K={K} is {(sum(accuracy_results))/N_RUNS}')"
   ]
  },
  {
   "cell_type": "code",
   "execution_count": 21,
   "metadata": {},
   "outputs": [
    {
     "name": "stdout",
     "output_type": "stream",
     "text": [
      "Average accuracy result for K Nearest Neighbours with n_components=35 is 0.8504444444444444\n",
      "Average accuracy result for K Nearest Neighbours with n_components=40 is 0.8473333333333334\n",
      "Average accuracy result for K Nearest Neighbours with n_components=45 is 0.8597777777777778\n",
      "Average accuracy result for K Nearest Neighbours with n_components=50 is 0.8534444444444444\n",
      "Average accuracy result for K Nearest Neighbours with n_components=55 is 0.8518888888888889\n",
      "Average accuracy result for K Nearest Neighbours with n_components=60 is 0.8548888888888889\n",
      "Average accuracy result for K Nearest Neighbours with n_components=65 is 0.8473333333333334\n",
      "Average accuracy result for K Nearest Neighbours with n_components=70 is 0.8511111111111112\n",
      "Average accuracy result for K Nearest Neighbours with n_components=75 is 0.8541111111111112\n",
      "Average accuracy result for K Nearest Neighbours with n_components=80 is 0.8576666666666667\n",
      "Average accuracy result for K Nearest Neighbours with n_components=85 is 0.8577777777777778\n",
      "Average accuracy result for K Nearest Neighbours with n_components=90 is 0.8537777777777777\n",
      "Average accuracy result for K Nearest Neighbours with n_components=95 is 0.8533333333333334\n",
      "Average accuracy result for K Nearest Neighbours with n_components=100 is 0.8491111111111111\n",
      "Average accuracy result for K Nearest Neighbours with n_components=105 is 0.8553333333333333\n",
      "Average accuracy result for K Nearest Neighbours with n_components=110 is 0.8587777777777778\n",
      "Average accuracy result for K Nearest Neighbours with n_components=115 is 0.8566666666666667\n"
     ]
    }
   ],
   "source": [
    "# Hyperparameterisation\n",
    "\n",
    "# Finding the best value of K (PCA)\n",
    "\n",
    "N_RUNS = 1\n",
    "\n",
    "for n_component in range(35,120, 5):\n",
    "    accuracy_results = []\n",
    "    for _ in range(N_RUNS):\n",
    "        # do the shuffle and train/validation split\n",
    "        split_data_train, split_label_train, split_data_validation, split_label_validation = train_validation_split(0.7, data_train, label_train)\n",
    "        \n",
    "        pca_data_train, pca_data_test = apply_pca(split_data_train, split_data_validation, n_components=n_component)\n",
    "        knn_pca_results = knn(pca_data_train, split_label_train, pca_data_test, K=9)\n",
    "        accuracy = calc_top1_accuracy(knn_pca_results, split_label_validation)\n",
    "        accuracy_results.append(accuracy)\n",
    "    print(f'Average accuracy result for K Nearest Neighbours with n_components={n_component} is {(sum(accuracy_results))/N_RUNS}')"
   ]
  },
  {
   "cell_type": "code",
   "execution_count": 17,
   "metadata": {},
   "outputs": [
    {
     "name": "stdout",
     "output_type": "stream",
     "text": [
      "Average accuracy result for K Nearest Neighbours with K=3 is 0.8448888888888889\n",
      "Average accuracy result for K Nearest Neighbours with K=6 is 0.8495555555555555\n",
      "Average accuracy result for K Nearest Neighbours with K=9 is 0.8505185185185186\n",
      "Average accuracy result for K Nearest Neighbours with K=12 is 0.8490000000000001\n",
      "Average accuracy result for K Nearest Neighbours with K=15 is 0.8478148148148148\n",
      "Average accuracy result for K Nearest Neighbours with K=18 is 0.8447037037037036\n",
      "Average accuracy result for K Nearest Neighbours with K=21 is 0.8432962962962963\n",
      "Average accuracy result for K Nearest Neighbours with K=24 is 0.8406296296296296\n",
      "Average accuracy result for K Nearest Neighbours with K=27 is 0.8453703703703703\n",
      "Average accuracy result for K Nearest Neighbours with K=30 is 0.8434074074074074\n",
      "Average accuracy result for K Nearest Neighbours with K=33 is 0.8407037037037037\n"
     ]
    }
   ],
   "source": [
    "# Hyperparameterisation\n",
    "\n",
    "# Finding the best value of K (SVD)\n",
    "\n",
    "N_RUNS = 3\n",
    "\n",
    "for K in range(3,36, 3):\n",
    "    accuracy_results = []\n",
    "    for _ in range(N_RUNS):\n",
    "        # do the shuffle and train/validation split\n",
    "        split_data_train, split_label_train, split_data_validation, split_label_validation = train_validation_split(0.7, data_train, label_train)\n",
    "        \n",
    "        svd_data_train, svd_data_test = apply_svd(split_data_train, split_data_validation, n_components=43)\n",
    "        knn_svd_results = knn(svd_data_train, split_label_train, svd_data_test, K=K)\n",
    "        accuracy = calc_top1_accuracy(knn_svd_results, split_label_validation)\n",
    "        accuracy_results.append(accuracy)\n",
    "    print(f'Average accuracy result for K Nearest Neighbours with K={K} is {(sum(accuracy_results))/N_RUNS}')"
   ]
  },
  {
   "cell_type": "code",
   "execution_count": 22,
   "metadata": {},
   "outputs": [
    {
     "name": "stdout",
     "output_type": "stream",
     "text": [
      "Average accuracy result for n_components retained for SVD with n_component=70 is 0.8511111111111112\n",
      "Average accuracy result for n_components retained for SVD with n_component=75 is 0.8492222222222222\n",
      "Average accuracy result for n_components retained for SVD with n_component=80 is 0.8512222222222222\n",
      "Average accuracy result for n_components retained for SVD with n_component=85 is 0.856\n",
      "Average accuracy result for n_components retained for SVD with n_component=90 is 0.8476666666666667\n",
      "Average accuracy result for n_components retained for SVD with n_component=95 is 0.8532222222222222\n",
      "Average accuracy result for n_components retained for SVD with n_component=100 is 0.8566666666666667\n",
      "Average accuracy result for n_components retained for SVD with n_component=105 is 0.8495555555555555\n",
      "Average accuracy result for n_components retained for SVD with n_component=110 is 0.8494444444444444\n",
      "Average accuracy result for n_components retained for SVD with n_component=115 is 0.8537777777777777\n"
     ]
    }
   ],
   "source": [
    "# Hyperparameterisation\n",
    "\n",
    "# Finding the best value of n_component (SVD)\n",
    "\n",
    "N_RUNS = 1\n",
    "\n",
    "for n_component in range(70,120, 5):\n",
    "    accuracy_results = []\n",
    "    for _ in range(N_RUNS):\n",
    "        # do the shuffle and train/validation split\n",
    "        split_data_train, split_label_train, split_data_validation, split_label_validation = train_validation_split(0.7, data_train, label_train)\n",
    "        \n",
    "        svd_data_train, svd_data_test = apply_svd(split_data_train, split_data_validation, n_components=n_component)\n",
    "        knn_svd_results = knn(svd_data_train, split_label_train, svd_data_test, K=10)\n",
    "        accuracy = calc_top1_accuracy(knn_svd_results, split_label_validation)\n",
    "        accuracy_results.append(accuracy)\n",
    "    print(f'Average accuracy result for n_components retained for SVD with n_component={n_component} is {(sum(accuracy_results))/N_RUNS}')"
   ]
  },
  {
   "cell_type": "code",
   "execution_count": 20,
   "metadata": {},
   "outputs": [
    {
     "name": "stdout",
     "output_type": "stream",
     "text": [
      "Average accuracy result for K Nearest Neighbours with K=5 is 0.8497407407407408\n",
      "Average accuracy result for K Nearest Neighbours with K=6 is 0.8495555555555555\n",
      "Average accuracy result for K Nearest Neighbours with K=7 is 0.8508888888888889\n",
      "Average accuracy result for K Nearest Neighbours with K=8 is 0.852925925925926\n",
      "Average accuracy result for K Nearest Neighbours with K=9 is 0.8537037037037036\n"
     ]
    }
   ],
   "source": [
    "# Hyperparameterisation\n",
    "\n",
    "# Finding the best value of K (SVD)\n",
    "\n",
    "N_RUNS = 3\n",
    "\n",
    "for K in range(5,10, 1):\n",
    "    accuracy_results = []\n",
    "    for _ in range(N_RUNS):\n",
    "        # do the shuffle and train/validation split\n",
    "        split_data_train, split_label_train, split_data_validation, split_label_validation = train_validation_split(0.7, data_train, label_train)\n",
    "        \n",
    "        svd_data_train, svd_data_test = apply_svd(split_data_train, split_data_validation, n_components=75)\n",
    "        knn_svd_results = knn(svd_data_train, split_label_train, svd_data_test, K=K)\n",
    "        accuracy = calc_top1_accuracy(knn_svd_results, split_label_validation)\n",
    "        accuracy_results.append(accuracy)\n",
    "    print(f'Average accuracy result for K Nearest Neighbours with K={K} is {(sum(accuracy_results))/N_RUNS}')"
   ]
  },
  {
   "cell_type": "markdown",
   "metadata": {},
   "source": [
    "#### Naive Bayes"
   ]
  },
  {
   "cell_type": "code",
   "execution_count": null,
   "metadata": {},
   "outputs": [],
   "source": [
    "def gaussian_naive_bayes(data_train, label_train, data_test):\n",
    "    '''\n",
    "    Gaussian Naive Bayes classifier\n",
    "    INPUT: 2D/3D array of training dataset (data_train),\n",
    "        1D array of label on training dataset (label_train),\n",
    "        2D/3D array of test dataset (data_test)\n",
    "    OUTPUT: 1D array of predicted classes on test dataset\n",
    "    '''\n",
    "    \n",
    "    # Reshaping if it's not the expected shape (2D)\n",
    "    if len(data_train.shape) != 2:\n",
    "        data_train = data_train.reshape((data_train.shape[0], data_train.shape[1]**2))\n",
    "    if len(data_test.shape) != 2:\n",
    "        data_test = data_test.reshape((data_test.shape[0], data_test.shape[1]**2))\n",
    "\n",
    "    # Obtaining the different classes that we have present in our training data and getting index positions of each one\n",
    "    class_indices = {}\n",
    "    for idx, image_class in enumerate(label_train):\n",
    "        if image_class not in class_indices:\n",
    "            class_indices[image_class] = [idx]\n",
    "            continue\n",
    "        else:\n",
    "            class_indices[image_class].append(idx)\n",
    "        \n",
    "    class_mean = {}\n",
    "    class_var = {}\n",
    "\n",
    "    # Obtain the mean and std dev for each class of our training data\n",
    "    for class_index in class_indices:\n",
    "        class_mean[class_index] = data_train[class_indices[class_index], :].mean(axis=0)\n",
    "        class_var[class_index] = data_train[class_indices[class_index], :].var(axis=0)\n",
    "\n",
    "    pred_test = np.zeros(data_test.shape[0])\n",
    "\n",
    "    for image_num in range(data_test.shape[0]):\n",
    "        # In order to find the length of pred_class_scores, we need to get the max value of the keys\n",
    "        # with the assumption that each number up to the max will be a class\n",
    "        # we do this instead of length because our training data may not have an entry for a class, hence, it'll\n",
    "        # result in out of range if a data exists for one higher\n",
    "        pred_class_scores = np.zeros(max(class_indices, key=int)+1)\n",
    "        \n",
    "        for class_index in class_indices:\n",
    "            \n",
    "            # Calculating the logged prior probability\n",
    "            class_prob = np.log(len(class_indices[class_index])/data_train.shape[0])\n",
    "\n",
    "            # Calculating the sum of the logged conditional probability\n",
    "            likelihood_array = st.norm.logpdf(x=data_test[image_num], loc=class_mean[class_index], scale=np.sqrt(class_var[class_index]))\n",
    "            class_prob = class_prob + np.nansum(likelihood_array) # we use nansum to avoid nan likelihoods, because these are obtained from points with zero variance\n",
    "\n",
    "            # Storing the result in our results array, so we can keep track of which class has the highest\n",
    "            pred_class_scores[class_index] = class_prob\n",
    "\n",
    "        # Class with the highest prob is the predicted class for the image, which is stored in our final pred_test array\n",
    "        pred_test[image_num] = np.nanargmax(pred_class_scores)\n",
    "        \n",
    "    return pred_test"
   ]
  },
  {
   "cell_type": "code",
   "execution_count": null,
   "metadata": {},
   "outputs": [],
   "source": [
    "# Hyperparameterisation\n",
    "\n",
    "# Finding the best n_components value for PCA\n",
    "\n",
    "N_RUNS = 3\n",
    "\n",
    "for n_component in range(70,100, 5):\n",
    "    accuracy_results = []\n",
    "    for _ in range(N_RUNS):\n",
    "        # do the shuffle and train/validation split\n",
    "        split_data_train, split_label_train, split_data_validation, split_label_validation = train_validation_split(0.7, data_train, label_train)\n",
    "        \n",
    "        pca_data_train, pca_data_test = apply_pca(split_data_train, split_data_validation, n_components=n_component)\n",
    "        nb_pca_results = gaussian_naive_bayes(pca_data_train, split_label_train, pca_data_test)\n",
    "        accuracy = calc_top1_accuracy(nb_pca_results, split_label_validation)\n",
    "        accuracy_results.append(accuracy)\n",
    "    print(f'Average accuracy result for PCA components retained={n_component} is {(sum(accuracy_results))/N_RUNS}')"
   ]
  },
  {
   "cell_type": "code",
   "execution_count": null,
   "metadata": {},
   "outputs": [],
   "source": [
    "'''\n",
    "# Gaussian Naive Bayes using raw data as input\n",
    "start = time.time()\n",
    "nb_results = gaussian_naive_bayes(data_train, label_train, data_test)\n",
    "end = time.time()\n",
    "print(f\"Time taken is {end-start} seconds\")\n",
    "accuracy = calc_top1_accuracy(nb_results, label_test)\n",
    "print(f\"Accuracy result for NB (raw) is: {accuracy}\")\n",
    "print()\n",
    "'''\n",
    "\n",
    "# Gaussian Naive Bayes applied on principal components of dataset\n",
    "start = time.time()\n",
    "pca_data_train, pca_data_test = apply_pca(data_train, data_test, n_components=95)\n",
    "nb_pca_results = gaussian_naive_bayes(pca_data_train, label_train, pca_data_test)\n",
    "end = time.time()\n",
    "print(f\"Time taken is {end-start} seconds\")\n",
    "accuracy = calc_top1_accuracy(nb_pca_results, label_test)        \n",
    "print(f\"Accuracy result for NB (PCA) is: {accuracy}\")\n",
    "print()\n",
    "'''\n",
    "# Gaussian Naive Bayes applied on SVD of dataset\n",
    "start = time.time()\n",
    "svd_data_train, svd_data_test = apply_svd(data_train, data_test, n_components=50)\n",
    "nb_svd_results = gaussian_naive_bayes(svd_data_train, label_train, svd_data_test)\n",
    "end = time.time()\n",
    "print(f\"Time taken is {end-start} seconds\")\n",
    "accuracy = calc_top1_accuracy(nb_svd_results, label_test)\n",
    "print(f\"Accuracy result for NB (SVD) is: {accuracy}\")\n",
    "'''"
   ]
  },
  {
   "cell_type": "code",
   "execution_count": null,
   "metadata": {},
   "outputs": [],
   "source": [
    "output_prediction(nb_svd_results)"
   ]
  },
  {
   "cell_type": "markdown",
   "metadata": {},
   "source": [
    "#### Multinomial Logistic Regression"
   ]
  },
  {
   "cell_type": "code",
   "execution_count": 68,
   "metadata": {},
   "outputs": [
    {
     "data": {
      "image/png": "[encoded data removed]",
      "text/plain": [
       "<Figure size 432x288 with 1 Axes>"
      ]
     },
     "metadata": {
      "needs_background": "light"
     },
     "output_type": "display_data"
    }
   ],
   "source": [
    "# your predicted label will be the label which has the maximum odds - defined by softmax\n",
    "def calc_logistic_loss(weights, X, y, LAMBDA):\n",
    "    \n",
    "    # Basically the vector of inputs for our sigmoid function\n",
    "    z = X.dot(weights)\n",
    "    \n",
    "    # Now placing it inside our sigmoid function.  This will produce vector of probabilities of size N\n",
    "    prob = 1/(1 + np.exp(-z))\n",
    "    \n",
    "    # getting the gradient at the current point\n",
    "    grad_loss = X.T.dot((prob - y))\n",
    "    \n",
    "    # getting the current loss, since we want to do minimisation problem (not maximisation)\n",
    "    curr_loss = -((np.log(prob)).T.dot(y) + (np.log(1-prob)).T.dot(1-y)) + (LAMBDA/2 * (weights.T.dot(weights)))\n",
    "    \n",
    "    return grad_loss, curr_loss[0]\n",
    "    \n",
    "\n",
    "pca_data_train, pca_data_test = apply_pca(data_train, data_test, n_components=95)\n",
    "\n",
    "X0 = pca_data_train[np.where(label_train==0)[0], :]\n",
    "X1 = pca_data_train[np.where(label_train==1)[0], :]\n",
    "y0 = np.zeros(X0.shape[0])\n",
    "y1 = np.ones(X1.shape[0])\n",
    "\n",
    "X = np.concatenate((X0, X1), axis=0)\n",
    "y = np.concatenate((y0, y1))[:, np.newaxis]\n",
    "\n",
    "N, D = X.shape\n",
    "\n",
    "LEARNING_RATE = 0.5\n",
    "LAMBDA = 100\n",
    "\n",
    "# select a random starting point for our gradient descent\n",
    "weights = np.random.random(D)[:, np.newaxis]\n",
    "\n",
    "max_iter = 100\n",
    "\n",
    "loss_array = []\n",
    "\n",
    "for epoch in range(max_iter):\n",
    "    dloss, current_loss = calc_logistic_loss(weights, X, y, LAMBDA)\n",
    "    weights = weights - (LEARNING_RATE * (dloss / N))\n",
    "    \n",
    "    loss_array.append(current_loss)\n",
    "    \n",
    "plt.plot(list(range(0,max_iter)), loss_array)\n",
    "plt.show()"
   ]
  },
  {
   "cell_type": "code",
   "execution_count": 77,
   "metadata": {},
   "outputs": [
    {
     "name": "stdout",
     "output_type": "stream",
     "text": [
      "0.9787234042553191\n"
     ]
    }
   ],
   "source": [
    "X0 = pca_data_test[np.where(label_test==0)[0], :]\n",
    "X1 = pca_data_test[np.where(label_test==1)[0], :]\n",
    "y0 = np.zeros(X0.shape[0])\n",
    "y1 = np.ones(X1.shape[0])\n",
    "\n",
    "X = np.concatenate((X0, X1), axis=0)\n",
    "y = np.concatenate((y0, y1))\n",
    "\n",
    "test_z = X.dot(weights)\n",
    "test_prob = 1/(1 + np.exp(-test_z))\n",
    "test_prob[np.squeeze(test_prob>=0.5)] = 1\n",
    "test_prob[np.squeeze(test_prob<0.5)] = 0\n",
    "\n",
    "accuracy = calc_top1_accuracy(test_prob, y)\n",
    "print(accuracy)"
   ]
  },
  {
   "cell_type": "code",
   "execution_count": 84,
   "metadata": {},
   "outputs": [
    {
     "data": {
      "image/png": "[encoded data removed]",
      "text/plain": [
       "<Figure size 432x288 with 1 Axes>"
      ]
     },
     "metadata": {
      "needs_background": "light"
     },
     "output_type": "display_data"
    },
    {
     "name": "stderr",
     "output_type": "stream",
     "text": [
      "c:\\users\\jsnar\\appdata\\local\\programs\\python\\python36\\lib\\site-packages\\ipykernel_launcher.py:14: RuntimeWarning: divide by zero encountered in log\n",
      "  \n"
     ]
    },
    {
     "data": {
      "image/png": "[encoded data removed]",
      "text/plain": [
       "<Figure size 432x288 with 1 Axes>"
      ]
     },
     "metadata": {
      "needs_background": "light"
     },
     "output_type": "display_data"
    },
    {
     "data": {
      "image/png": "[encoded data removed]",
      "text/plain": [
       "<Figure size 432x288 with 1 Axes>"
      ]
     },
     "metadata": {
      "needs_background": "light"
     },
     "output_type": "display_data"
    },
    {
     "data": {
      "image/png": "[encoded data removed]",
      "text/plain": [
       "<Figure size 432x288 with 1 Axes>"
      ]
     },
     "metadata": {
      "needs_background": "light"
     },
     "output_type": "display_data"
    },
    {
     "data": {
      "image/png": "[encoded data removed]",
      "text/plain": [
       "<Figure size 432x288 with 1 Axes>"
      ]
     },
     "metadata": {
      "needs_background": "light"
     },
     "output_type": "display_data"
    },
    {
     "data": {
      "image/png": "[encoded data removed]",
      "text/plain": [
       "<Figure size 432x288 with 1 Axes>"
      ]
     },
     "metadata": {
      "needs_background": "light"
     },
     "output_type": "display_data"
    },
    {
     "data": {
      "image/png": "[encoded data removed]",
      "text/plain": [
       "<Figure size 432x288 with 1 Axes>"
      ]
     },
     "metadata": {
      "needs_background": "light"
     },
     "output_type": "display_data"
    },
    {
     "data": {
      "image/png": "[encoded data removed]",
      "text/plain": [
       "<Figure size 432x288 with 1 Axes>"
      ]
     },
     "metadata": {
      "needs_background": "light"
     },
     "output_type": "display_data"
    },
    {
     "data": {
      "image/png": "[encoded data removed]",
      "text/plain": [
       "<Figure size 432x288 with 1 Axes>"
      ]
     },
     "metadata": {
      "needs_background": "light"
     },
     "output_type": "display_data"
    },
    {
     "data": {
      "image/png": "[encoded data removed]",
      "text/plain": [
       "<Figure size 432x288 with 1 Axes>"
      ]
     },
     "metadata": {
      "needs_background": "light"
     },
     "output_type": "display_data"
    },
    {
     "name": "stdout",
     "output_type": "stream",
     "text": [
      "[[-1.33056525e-01 -9.52893453e-03 -9.10157879e-02 -4.47262192e-02\n",
      "  -1.09958746e-01  1.64142971e-01  1.13856794e-01  3.25492781e-01\n",
      "  -3.47192906e-02  9.89400054e-02]\n",
      " [-1.62444842e-01 -1.08184546e+00  6.06106003e-02 -2.78549307e-01\n",
      "   3.77487242e-02  2.60190181e-02  3.05704026e-03  1.29407412e-01\n",
      "   4.13401220e-01  5.30443543e-01]\n",
      " [ 7.50418444e-02  6.99031352e-01 -2.73665802e-01  3.15358720e-01\n",
      "  -1.99071603e-01 -8.47675285e-02 -1.62740495e-01 -1.49480278e-01\n",
      "   2.13025400e-02  1.36541906e+00]\n",
      " [ 2.42347426e-01 -1.02871772e+00  3.08245857e-02 -1.14909070e-01\n",
      "  -7.96677677e-02  1.58548624e-01  1.00564488e-01 -8.45937678e-01\n",
      "  -2.19268327e-01  6.73887847e-01]\n",
      " [-1.60241625e-03  1.40780930e+00  2.25814189e-01 -2.18412874e-01\n",
      "   1.07241006e-02  6.23645267e-02  3.69237159e-03 -3.94377707e-01\n",
      "  -6.37951841e-01  7.76529530e-01]\n",
      " [ 1.03421774e+00 -1.42675432e+00 -8.76629172e-02 -1.60149184e-01\n",
      "  -2.62540747e-01  2.05264439e-02  5.90490192e-02  3.02485757e-01\n",
      "   1.12240097e-01 -3.67301807e-01]\n",
      " [ 1.76161636e-01 -1.61979799e+00 -4.73950624e-02 -7.51138521e-02\n",
      "   2.95138089e-01  5.62803833e-03  6.73284483e-02 -1.41643327e-01\n",
      "  -1.22205193e+00  8.37642806e-01]\n",
      " [-2.36205637e-02 -9.64693390e-01  1.23274739e-01  1.17377068e-01\n",
      "  -4.97782730e-02 -2.01334682e-03 -1.99430915e-03  1.48563135e+00\n",
      "  -1.55176483e+00  5.46283201e-01]\n",
      " [-3.70462692e-02 -3.87622270e+00 -5.23160445e-02  9.88571364e-01\n",
      "   7.77346556e-02  3.19281405e-02  1.21524417e-01 -6.08908596e-02\n",
      "   5.16253867e-01 -2.27435445e-02]\n",
      " [-1.44887234e-01  1.58518677e+00 -2.85169653e-01 -6.56425525e-01\n",
      "   1.96677136e-01  7.10181939e-02 -5.63787018e-02  5.03419304e-01\n",
      "   8.15196180e-01  6.37896234e-02]\n",
      " [-1.74212905e-01  8.43249578e-01 -3.27097823e-01 -5.50416656e-02\n",
      "   1.59783309e-01 -1.87799948e-02  2.39970005e-01 -3.86865409e-01\n",
      "   2.29866392e-01 -2.00730020e-02]\n",
      " [-1.91472522e-01 -1.78109158e-01 -1.14248937e-01 -1.46847974e-01\n",
      "   9.13935133e-02  1.31599053e-01  1.37838818e-01  3.23371195e-01\n",
      "  -3.04165394e-01  1.92925871e-01]\n",
      " [-4.88648943e-01 -2.29723337e+00 -1.48325064e-02  6.55464523e-01\n",
      "   2.34005775e-01  5.06555311e-01 -1.08508893e-02 -5.74731329e-01\n",
      "  -4.70876828e-01 -5.63647671e-01]\n",
      " [ 4.03243283e-02  3.10445179e-01 -5.59794044e-02 -2.32807942e-01\n",
      "  -1.32369879e-01  5.54566830e-01  2.44538930e-02 -5.72275531e-01\n",
      "  -6.29923684e-02 -6.69414093e-01]\n",
      " [ 2.45778924e-01 -9.04487619e-01 -1.24874870e-01 -4.07168840e-01\n",
      "   3.16921763e-01 -3.63397086e-01  1.50805873e-03 -4.66318142e-01\n",
      "   1.98889259e-02  3.50615465e-01]\n",
      " [ 2.71280947e-01  2.44394173e-01 -1.13648731e-01 -2.19795514e-01\n",
      "   1.35469104e-01  3.25647620e-01 -6.88027052e-02 -9.49840546e-01\n",
      "   4.27884085e-01 -2.33585197e-01]\n",
      " [ 6.90446446e-01  1.36608065e+00 -1.24602736e-01 -7.10607733e-01\n",
      "   3.42574145e-01  1.31601194e-01 -1.76184498e-01  4.02350976e-01\n",
      "  -7.52114653e-01 -6.94599622e-02]\n",
      " [-1.03908045e-01  4.96573843e-02 -4.75966310e-01 -4.10986995e-01\n",
      "   4.06115774e-01  2.33903653e-01  3.15463181e-01  2.49303555e-01\n",
      "  -1.21416058e+00  2.73784113e-01]\n",
      " [ 6.19991918e-01  7.17549931e-02 -2.64053726e-01 -3.40065602e-01\n",
      "   3.46277514e-02 -2.49939489e-01  7.84773084e-02  1.85046912e-01\n",
      "   4.22794720e-01  5.28569957e-01]\n",
      " [-3.95171069e-02 -4.25364909e-01  1.19157657e-01  1.33320459e-01\n",
      "   2.09314572e-03 -1.38932622e-01  9.05892569e-02  4.58220559e-01\n",
      "  -1.01475559e+00  7.27124955e-02]\n",
      " [ 1.12442560e-01 -1.58615897e+00 -3.54776896e-01  2.21585155e-01\n",
      "   3.86969561e-01 -2.99339186e-01  6.86198369e-02  6.12492175e-01\n",
      "   6.54631779e-01 -4.71469381e-01]\n",
      " [-5.15244749e-02 -7.20111257e-01  2.25797758e-01  2.27762315e-01\n",
      "   2.46952012e-02  4.10159124e-02 -6.75670137e-02  2.85862304e-01\n",
      "  -1.79146410e-01 -2.10460489e-01]\n",
      " [-4.61647486e-01 -2.06125350e-02  1.55344301e-02 -1.73329007e-02\n",
      "   1.62805824e-01 -2.83960468e-01 -6.69058711e-02  4.03089619e-01\n",
      "  -6.93883538e-02  6.42506904e-01]\n",
      " [-2.55046590e-01 -7.15758290e-01  5.93481428e-02  5.81429167e-01\n",
      "   1.24262663e-01  5.77153728e-02 -3.19276047e-01 -5.78056536e-01\n",
      "   4.86183443e-01  7.27424473e-01]\n",
      " [ 1.68781863e-01 -4.92804469e-01  2.15058278e-01  1.00992769e-01\n",
      "   6.91543359e-02 -3.50300522e-01 -2.00927168e-01  1.89676744e-01\n",
      "   4.24025464e-01  2.95816633e-01]\n",
      " [-2.79992049e-01 -8.33758967e-01  2.11712091e-01  1.06512452e-02\n",
      "   1.54385838e-01  2.34472361e-01 -3.24299109e-01 -2.72885384e-01\n",
      "   3.61850509e-01 -4.83468045e-01]\n",
      " [-1.45424426e-01 -2.81754242e-01 -4.60783172e-02  9.49028036e-01\n",
      "  -2.67217898e-02  2.01986615e-01  1.11937116e-01 -4.23218725e-01\n",
      "  -6.97199090e-01  4.05628701e-02]\n",
      " [ 8.07142053e-02  1.56793472e+00  5.05672263e-03 -3.07279297e-01\n",
      "  -5.15116360e-02  1.60823018e-02 -7.64106997e-02 -4.81387042e-01\n",
      "   2.04918716e-01  8.82105332e-01]\n",
      " [-3.81416505e-01 -5.44313036e-01 -1.08482746e-03  7.40777383e-01\n",
      "   1.64848162e-01 -4.01113973e-01 -2.65201049e-01  1.86299923e-01\n",
      "   1.41988507e-01  2.71912680e-01]\n",
      " [-1.12121116e-01  1.01511241e+00 -6.86775504e-02  1.54361245e-01\n",
      "  -1.01938097e-02  3.91048207e-01 -1.92936039e-01 -5.24251140e-01\n",
      "  -6.33544069e-02 -1.45097424e-01]\n",
      " [-1.29412766e-01  9.81883695e-01 -1.07762703e-01  1.40806186e-01\n",
      "  -1.01794641e-01  1.10446002e-02  1.00920356e-01  2.67241287e-02\n",
      "   2.29004150e-01 -2.48971133e-01]\n",
      " [ 2.91678914e-02  6.97186921e-01 -1.52410046e-01  2.84629183e-01\n",
      "  -1.26731175e-01  3.82414450e-02  4.22273701e-02  3.83608623e-01\n",
      "   6.20369321e-02 -4.83429665e-01]\n",
      " [ 1.56596709e-01  2.25704715e-01  1.56427835e-01  4.09227349e-01\n",
      "   8.28949366e-02 -3.06620651e-01 -3.31193188e-02  6.52961824e-01\n",
      "  -7.45011359e-01 -6.94975195e-01]\n",
      " [ 1.58058014e-01 -9.43468298e-01  9.86240604e-02  3.18340920e-01\n",
      "   1.66838193e-01  1.72591531e-01 -2.12724435e-01 -4.90880254e-01\n",
      "  -1.45640451e-01 -3.57439779e-01]\n",
      " [-3.12960993e-01 -8.61947512e-02 -2.23555929e-01  5.30799694e-01\n",
      "  -6.28292376e-02 -4.29903464e-02  2.09786583e-01 -5.41460982e-01\n",
      "   2.84560906e-01  5.57899148e-01]\n",
      " [ 8.63923177e-02 -9.69214818e-01  8.67763553e-02 -8.26268461e-02\n",
      "   1.19017426e-01  5.76665624e-02 -5.49996515e-03  5.36288825e-01\n",
      "  -1.15047169e+00 -6.48644188e-01]\n",
      " [ 9.98244393e-02  1.40529472e+00 -1.75511421e-03 -9.87910771e-03\n",
      "  -2.86766299e-02  1.19176529e-01 -3.29091919e-01  2.18943333e-01\n",
      "  -3.01012454e-02 -3.22415982e-01]\n",
      " [ 1.35737985e-01  8.86742304e-02  9.18916648e-02  3.99844433e-01\n",
      "   2.44772648e-01  2.19209615e-01 -3.82722138e-01  6.59139404e-02\n",
      "  -8.05924457e-01 -1.85246754e-01]\n",
      " [-1.31692803e-01  6.15564031e-02  7.66950473e-03  6.72854108e-02\n",
      "  -3.76772287e-02 -1.69332900e-01 -4.47338297e-02  6.32644452e-02\n",
      "   9.20198597e-01 -1.13463113e+00]\n",
      " [-5.80218049e-02  1.20982682e+00  1.23085074e-02 -7.57342831e-01\n",
      "  -1.32890058e-01 -3.00842285e-01  1.53572170e-01 -6.04180562e-01\n",
      "   8.98292951e-02  2.81412299e-01]\n",
      " [-1.78123699e-01  1.81463699e-01 -4.06913841e-01 -7.73871681e-02\n",
      "   2.12222105e-01  2.42043843e-02  2.37450384e-01  1.50732361e-01\n",
      "   2.21691281e-01 -8.34915990e-01]\n",
      " [-1.68320000e-01 -8.32915458e-01 -9.19555294e-02  4.29345733e-01\n",
      "  -5.04391312e-04  1.05749134e-01 -3.03035120e-02 -6.80230857e-01\n",
      "  -8.85015048e-03 -9.41744452e-02]\n",
      " [ 4.11184526e-01 -6.49658364e-01 -6.04274575e-03  2.33621946e-01\n",
      "   1.18379670e-01  1.47984212e-01 -2.83591279e-01  4.25248594e-02\n",
      "  -9.52769807e-02  7.24346597e-01]\n",
      " [-3.26864575e-01  5.04603615e-02 -1.32359243e-01 -1.92743233e-02\n",
      "   3.17556914e-02 -5.85341923e-01  4.69794870e-01  3.47273425e-02\n",
      "   6.78890318e-02  1.17827960e-01]\n",
      " [-1.74182589e-01 -3.89088298e-01 -3.26146310e-01  4.77228174e-01\n",
      "  -2.13732815e-01  3.90314079e-01  1.52847868e-01 -5.85614863e-01\n",
      "   7.10797607e-01 -3.78738212e-01]\n",
      " [-2.20013860e-01  1.17221896e+00  1.40025762e-01 -2.43935964e-01\n",
      "  -4.64396162e-01 -2.63537650e-01  3.37702574e-01  1.74727793e-01\n",
      "   8.44093081e-02  4.31772389e-01]\n",
      " [-8.09353510e-02 -4.42434692e-01 -5.56666883e-02  4.07257612e-01\n",
      "   1.05426732e-01 -3.87211284e-01  1.85883826e-01  2.58903275e-01\n",
      "  -9.37247532e-01  9.49588679e-01]\n",
      " [ 3.28671436e-01  7.27634794e-02 -2.39466892e-01  3.09874409e-01\n",
      "  -5.81145704e-02 -5.86441832e-01  1.88140256e-02  9.51784013e-01\n",
      "   6.57412090e-01  1.96412553e-01]\n",
      " [-7.26563313e-02  6.11878960e-01 -1.80381668e-01 -4.85161616e-01\n",
      "  -2.25460938e-02  3.59440614e-01  2.00914716e-01 -4.85888725e-01\n",
      "  -4.16291425e-01 -3.00337619e-01]\n",
      " [ 6.14451408e-02  9.31612316e-02 -9.54336638e-02 -9.27553613e-02\n",
      "   1.26493479e-01  4.11457045e-01 -6.53902334e-02  2.90065512e-02\n",
      "   2.97608514e-01 -1.44098690e-01]\n",
      " [-2.13626283e-01  2.33834789e-01 -2.32758377e-01 -3.14666829e-01\n",
      "   1.22477285e-01  4.39459078e-01  1.24802102e-01 -3.03567624e-01\n",
      "  -6.41836586e-01 -6.14728518e-02]\n",
      " [-5.43210265e-02  6.12588850e-01  2.25816646e-02 -4.79196271e-01\n",
      "   1.51671849e-01 -3.38955739e-01  1.62973877e-01  1.08984849e-02\n",
      "   7.70119978e-02  5.03512788e-01]\n",
      " [-2.77006436e-01 -1.77393193e-01  1.48743740e-01  2.27340796e-01\n",
      "  -7.43596532e-03  5.08331126e-02 -5.85194187e-02 -7.49500806e-01\n",
      "   2.27363083e-01  7.03454286e-01]\n",
      " [ 3.37854960e-01 -3.68563938e-01  1.71080926e-01 -7.05782764e-02\n",
      "  -1.90834656e-01  3.84567174e-01 -9.02843407e-02 -1.87386923e-01\n",
      "   1.58029644e-01 -9.58272416e-01]\n",
      " [-1.09196525e-01  2.83805067e-01 -4.80871569e-02  1.80248289e-01\n",
      "  -3.87285134e-02  2.31552386e-02  1.73629916e-02 -3.07379449e-01\n",
      "  -2.12586193e-01  9.14722544e-01]\n",
      " [-2.78361078e-01  3.40646914e-01 -6.89250361e-02 -6.37581798e-02\n",
      "   3.27709325e-02  3.17882778e-01  4.07479074e-02 -5.34414971e-01\n",
      "  -8.55803362e-02 -1.41873517e-01]\n",
      " [ 2.19223063e-01  1.11113545e-01  7.57110490e-02 -2.59387551e-01\n",
      "  -1.94848376e-02  1.45887376e-01 -1.40311299e-02 -1.49512895e-01\n",
      "  -6.51908277e-02  5.36162767e-02]\n",
      " [-2.26997459e-01  1.16554931e-01 -2.92712664e-02  2.51346456e-01\n",
      "   1.91407673e-01 -1.33174017e-01 -1.30310463e-01  2.92861258e-01\n",
      "   4.29303262e-01  2.49821917e-01]\n",
      " [ 1.98262527e-02  1.41194084e-02 -8.98013026e-03  1.91058957e-01\n",
      "   2.31902219e-02  5.06931364e-01  1.46655397e-02 -2.04582422e-01\n",
      "  -3.34089154e-01 -2.93902914e-01]\n",
      " [ 1.37302935e-01  1.13854172e-02  1.67392983e-01  1.52108684e-02\n",
      "   2.10229755e-01  1.80759186e-01 -2.80567840e-01  1.43907041e-02\n",
      "   1.78027430e-01 -1.00614716e-01]\n",
      " [-5.12986444e-02 -1.46537112e-01 -2.64660005e-01 -5.36871381e-03\n",
      "   2.29966029e-01  5.41090365e-01  2.89466139e-01  1.25002627e-02\n",
      "  -1.53212500e-01 -1.93700242e-01]\n",
      " [-4.24659873e-01  4.89520646e-01 -5.76371951e-02  3.03606632e-02\n",
      "  -2.17599182e-02 -3.39705751e-01  2.39168562e-01 -3.71041472e-01\n",
      "   4.10180955e-01  7.59600268e-01]\n",
      " [ 1.56052613e-01  8.70023078e-02 -4.04658033e-02 -6.90469279e-02\n",
      "  -2.18299526e-03  2.15053125e-01 -3.22982733e-02  2.11434376e-01\n",
      "  -1.83860331e-01 -1.34634301e-01]\n",
      " [ 1.78538817e-02 -1.15882359e-01 -2.16629963e-01  1.62731602e-01\n",
      "   9.53947078e-02  5.87583637e-02  1.29124296e-01 -4.78334736e-01\n",
      "   4.17218237e-01 -5.23311825e-01]\n",
      " [-1.31296025e-01 -3.24192565e-01  3.42680866e-02  2.96634871e-01\n",
      "  -4.86079111e-02 -2.29106169e-01  7.86558229e-03 -3.21446189e-02\n",
      "   5.78741711e-01  1.61302121e-01]\n",
      " [-1.46723462e-01  2.92640550e-02 -1.95087031e-01  1.81117355e-01\n",
      "  -1.29945622e-01  7.06590027e-02  2.87257561e-01  1.30609576e-01\n",
      "  -4.63734667e-02 -2.62861441e-01]\n",
      " [ 1.69286905e-01 -5.01075295e-02 -1.37014418e-01 -2.53779015e-01\n",
      "   1.68405132e-01 -9.83936501e-02  7.09610167e-02  5.47811311e-01\n",
      "   4.61947675e-02 -1.22489447e-01]\n",
      " [ 2.60909450e-01  2.75290689e-01  2.57786743e-02 -2.68307949e-01\n",
      "  -5.11497835e-02 -1.40347332e-01 -6.15331199e-02  2.63065871e-01\n",
      "   3.34963231e-01  3.21684504e-01]\n",
      " [-3.34561881e-02  2.10896886e-01  2.28505655e-02 -1.43094381e-03\n",
      "  -2.31534442e-01 -1.01743857e-01  1.82966588e-01  9.86469022e-02\n",
      "   8.92868721e-01  3.26895878e-01]\n",
      " [-3.23332925e-01 -3.19851660e-02  1.83015468e-01  1.57155648e-01\n",
      "   6.92130040e-02  3.20415774e-01 -2.00125649e-01 -5.65031602e-01\n",
      "   5.93780964e-01 -2.63049156e-01]\n",
      " [-4.40701605e-02  6.30980626e-02  1.72994980e-01  1.12962731e-01\n",
      "  -1.40806881e-01  4.85357391e-01 -1.34113437e-01 -3.70882586e-01\n",
      "   2.41463162e-01 -2.28893809e-01]\n",
      " [ 3.48591076e-01  2.74733379e-01  1.53476468e-01 -2.89597107e-01\n",
      "   4.66894133e-02 -1.71113035e-01 -8.49137267e-02  3.70380704e-01\n",
      "  -1.36614946e-01  7.76083007e-01]\n",
      " [-1.73270889e-02 -3.14652165e-01  1.96489979e-01  4.34666836e-02\n",
      "  -7.43971391e-02 -1.55334970e-02 -8.16774118e-02 -2.24145488e-01\n",
      "   1.48870529e-01  3.36564703e-01]\n",
      " [ 2.44719118e-02 -2.08676523e-01  7.12214828e-02  1.65209775e-01\n",
      "  -7.81939365e-02 -1.15220108e-01 -1.07382351e-01  5.44224954e-01\n",
      "   1.09470096e-01  1.53837992e-01]\n",
      " [-2.87330568e-02 -1.02042234e-01  8.79968840e-03 -3.91979984e-02\n",
      "   1.75697386e-01 -1.27336805e-01 -1.91720345e-01  3.72968426e-01\n",
      "   1.82206061e-01  7.89095397e-02]\n",
      " [ 8.38450123e-02  2.07920978e-02 -1.01874568e-01  1.52519420e-01\n",
      "   6.65426230e-02 -1.99186262e-01  1.36052533e-01  6.82019390e-01\n",
      "  -1.67360444e-01  5.14421072e-02]\n",
      " [ 6.42539092e-02  8.03691369e-02  2.76004596e-01 -3.41698723e-02\n",
      "   1.48083245e-01  1.56828447e-01 -4.77731385e-01  6.17854266e-01\n",
      "   1.29307804e-01 -1.54216169e-01]\n",
      " [ 3.71497823e-01 -5.81057428e-02 -1.81199020e-01  4.59560027e-02\n",
      "   8.09943274e-02 -6.86194220e-02  5.82814888e-02  4.95068528e-01\n",
      "   7.55305033e-02  2.63591842e-01]\n",
      " [-4.11017936e-02  1.50107475e-01  1.28066812e-01  8.27020445e-02\n",
      "  -1.87105310e-01 -4.23244603e-01  4.08476673e-01  6.60002857e-01\n",
      "  -8.16356653e-01  5.43237625e-01]\n",
      " [ 2.54046025e-01  1.35295300e-01  1.60858015e-01  1.51771540e-01\n",
      "   6.61987527e-02 -2.84959879e-02 -1.47828685e-01  3.15384514e-01\n",
      "  -2.14116119e-02  2.40162407e-01]\n",
      " [-1.33210095e-01  5.43737298e-02  3.00437985e-01 -1.20944952e-01\n",
      "  -9.11402444e-02  9.34342358e-02  2.01357434e-01  2.93987961e-02\n",
      "   1.42232725e-01  2.29324079e-01]\n",
      " [ 1.92973830e-01  2.15378051e-01  2.14130218e-02  1.87000704e-01\n",
      "  -8.07202013e-02  1.41144631e-01 -1.59609129e-01 -1.05199317e-01\n",
      "   5.45019016e-01 -8.46878174e-03]\n",
      " [ 5.39442456e-01  2.58307171e-01 -2.85409104e-02 -1.65451829e-03\n",
      "   2.04913681e-01 -1.92237266e-01 -1.09113001e-01  7.02757419e-01\n",
      "  -2.39042899e-01 -1.66957561e-02]\n",
      " [-1.25081342e-01 -3.53261483e-02 -1.52313095e-02  1.96856448e-01\n",
      "  -2.11597734e-02  4.01399674e-01  2.26141424e-01 -5.67926323e-01\n",
      "  -1.11956657e-01  2.58279003e-01]\n",
      " [-4.18831143e-02 -7.68666572e-02 -5.79936888e-02  1.83893870e-01\n",
      "   1.95760233e-02  2.26944342e-03 -1.77816175e-01 -1.64362920e-01\n",
      "   4.68347204e-01  3.42547808e-02]\n",
      " [ 2.59660834e-02  2.81895298e-01  5.21764739e-03  7.51204974e-02\n",
      "   1.07945062e-01 -1.44959914e-01  8.15937313e-02  2.99654352e-01\n",
      "  -2.40941926e-01  2.18611432e-01]\n",
      " [ 2.86551945e-01 -2.31410718e-02 -4.90537979e-02  1.51424941e-01\n",
      "   8.72400209e-02 -2.21132520e-02 -1.44558683e-01  8.27486983e-01\n",
      "   4.86369081e-01 -2.97678009e-01]\n",
      " [ 1.23234757e-01  1.64708743e-01  1.14906561e-01  1.33888847e-01\n",
      "  -8.46098884e-02  1.19185942e-01 -2.33593662e-01 -3.99933288e-02\n",
      "  -3.15141416e-01 -5.43452775e-02]\n",
      " [ 1.76137944e-01  1.93487409e-02 -5.63675646e-02 -7.35241568e-02\n",
      "   2.98186503e-01  1.89687720e-02 -2.31201397e-01  1.54604653e-02\n",
      "   7.04912983e-02  2.05635420e-01]\n",
      " [ 2.90624391e-01  3.09944465e-01  9.30206287e-02 -1.14399787e-01\n",
      "   1.19463474e-01 -1.43628820e-01 -6.52405971e-02  5.52320908e-01\n",
      "  -4.71543143e-01 -3.69297254e-01]\n",
      " [-2.42371433e-01  8.14865502e-02  2.09291057e-01  8.26012740e-02\n",
      "  -9.50651694e-02  1.71649722e-01  6.95386674e-02 -1.93150476e-01\n",
      "   7.32617870e-01  1.61808787e-01]\n",
      " [ 3.77129650e-01  2.14185897e-01 -5.83644799e-02 -1.57934680e-01\n",
      "   2.12972170e-01  4.18857967e-01 -8.43716963e-02 -2.13220557e-01\n",
      "  -6.01875997e-02 -1.96939984e-01]\n",
      " [ 4.52058881e-02 -9.95307708e-02 -2.80901346e-02  1.18555320e-01\n",
      "  -3.43823201e-02 -5.13095503e-02  1.39595394e-01  2.48641909e-01\n",
      "  -5.75504708e-02  1.68486337e-01]\n",
      " [ 1.93918730e-01 -1.78956357e-01  1.53365961e-01  6.00518316e-02\n",
      "  -7.47782688e-04 -3.36595168e-01 -2.67826816e-01  3.88147104e-01\n",
      "  -6.27427995e-02 -3.16948340e-01]\n",
      " [ 1.02911165e-01 -9.28396039e-02  1.41220421e-01  1.49629503e-01\n",
      "  -1.61070036e-01  4.45822710e-02  5.04173000e-03 -4.59489116e-02\n",
      "   1.18556627e-01  4.90156026e-01]]\n"
     ]
    }
   ],
   "source": [
    "LEARNING_RATE = 0.5\n",
    "LAMBDA = 100\n",
    "MAX_ITER = 500\n",
    "\n",
    "\n",
    "# first we do the pre-processing to make it easier for our gradient descent\n",
    "pca_data_train, pca_data_test = apply_pca(data_train, data_test, n_components=95)\n",
    "\n",
    "# getting the unique labels that we have in dataset\n",
    "labels = np.arange(np.max(label_train))\n",
    "\n",
    "optimal_weights = np.zeros((pca_data_train.shape[1], len(labels)))\n",
    "\n",
    "for label in labels:\n",
    "    X0 = pca_data_train[np.where(label_train!=label)[0], :]\n",
    "    X1 = pca_data_train[np.where(label_train==label)[0], :]\n",
    "    y0 = np.zeros(X0.shape[0])\n",
    "    y1 = np.ones(X1.shape[0])\n",
    "\n",
    "    X = np.concatenate((X0, X1), axis=0)\n",
    "    y = np.concatenate((y0, y1))[:, np.newaxis]\n",
    "    \n",
    "    N, D = X.shape\n",
    "    \n",
    "    # select a random starting point for our gradient descent\n",
    "    weights = np.random.random(D)[:, np.newaxis]\n",
    "    \n",
    "    loss_array = []\n",
    "\n",
    "    for _ in range(MAX_ITER):\n",
    "        dloss, current_loss = calc_logistic_loss(weights, X, y, LAMBDA)\n",
    "        weights = weights - (LEARNING_RATE * (dloss / N))\n",
    "\n",
    "        loss_array.append(current_loss)\n",
    "\n",
    "    plt.plot(list(range(MAX_ITER)), loss_array)\n",
    "    plt.show()\n",
    "    \n",
    "    optimal_weights[:, label] = np.squeeze(weights)\n",
    "    \n"
   ]
  },
  {
   "cell_type": "code",
   "execution_count": 86,
   "metadata": {},
   "outputs": [
    {
     "name": "stdout",
     "output_type": "stream",
     "text": [
      "0.7655\n"
     ]
    }
   ],
   "source": [
    "probability_matrix = pca_data_test.dot(optimal_weights)\n",
    "predictions = np.argmax(probability_matrix, axis=1)\n",
    "accuracy = calc_top1_accuracy(predictions, label_test)\n",
    "print(accuracy)"
   ]
  },
  {
   "cell_type": "code",
   "execution_count": null,
   "metadata": {},
   "outputs": [],
   "source": [
    "def calc_logistic_loss(weights, X, y):\n",
    "    \n",
    "    # produce vector z, which is what we'll feed into the sigmoid function\n",
    "    z = np.dot(X, weights)\n",
    "    exp_z = np.exp(z)\n",
    "    \n",
    "    # obtaining a vector on difference between our probability against actual value of y\n",
    "    # which we then apply a broadcast multiplication against matrix X, to create N by D matrix\n",
    "    # and then we sum it to obtain the sum of loss for each feature\n",
    "    dloss = np.sum((exp_z/(1+exp_z) - y) * X, axis=0)\n",
    "    \n",
    "    # calculating the loss\n",
    "    loss = -np.sum(-np.log(1+exp_z) + (y*z))\n",
    "    \n",
    "    return dloss, loss"
   ]
  },
  {
   "cell_type": "code",
   "execution_count": null,
   "metadata": {},
   "outputs": [],
   "source": [
    "if len(data_train.shape) != 2:\n",
    "        data_train = data_train.reshape((data_train.shape[0], data_train.shape[1]**2))\n",
    "\n",
    "X0 = data_train[np.where(label_train==0)[0], :]\n",
    "X1 = data_train[np.where(label_train==1)[0], :]\n",
    "y0 = np.zeros(X0.shape[0])\n",
    "y1 = np.ones(X1.shape[0])\n",
    "\n",
    "X = np.concatenate((X0, X1), axis=0)\n",
    "y = np.concatenate((y0, y1))[:, np.newaxis]\n",
    "\n",
    "N, D = X.shape\n",
    "\n",
    "# select a random starting point for our stochastic gradient descent\n",
    "weights = np.random.random(D)[:, np.newaxis]\n",
    "print(weights.shape)\n",
    "\n",
    "learning_rate = 0.1\n",
    "max_iter = 1000\n",
    "\n",
    "loss_array = []\n",
    "\n",
    "for epoch in range(max_iter):\n",
    "    dloss, current_loss = calc_logistic_loss(weights, X, y)\n",
    "    weights = weights - (learning_rate * dloss/N)\n",
    "    \n",
    "    loss_array.append(current_loss)\n",
    "\n",
    "print(loss_array)\n",
    "    \n",
    "plt.plot(list(range(1,max_iter+1)), loss_array)\n",
    "plt.show()"
   ]
  },
  {
   "cell_type": "code",
   "execution_count": null,
   "metadata": {},
   "outputs": [],
   "source": []
  }
 ],
 "metadata": {
  "kernelspec": {
   "display_name": "Python 3",
   "language": "python",
   "name": "python3"
  },
  "language_info": {
   "codemirror_mode": {
    "name": "ipython",
    "version": 3
   },
   "file_extension": ".py",
   "mimetype": "text/x-python",
   "name": "python",
   "nbconvert_exporter": "python",
   "pygments_lexer": "ipython3",
   "version": "3.6.4"
  }
 },
 "nbformat": 4,
 "nbformat_minor": 4
}
