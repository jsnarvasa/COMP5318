{
 "cells": [
  {
   "cell_type": "markdown",
   "metadata": {},
   "source": [
    "# COMP5318: Assignment 1 - Image Classification\n",
    "\n",
    "Author: Jesse Serina Narvasa<br>\n",
    "SID: 500525438 <br>\n",
    "Unikey: jnar3156\n",
    "\n",
    "\n",
    "In order to consider classification performance, the specifications of the machine used to run this notebook is provided as follows:\n",
    "\n",
    "Dell XPS 13 9350<br>\n",
    "Intel Core i7-6560U 2.20GHz<br>\n",
    "8GB RAM<br>\n",
    "Integrated graphics<br>\n",
    "Windows 10 Pro 19041.572<br>\n",
    "Running Python 3.6.4"
   ]
  },
  {
   "cell_type": "code",
   "execution_count": 144,
   "metadata": {},
   "outputs": [],
   "source": [
    "# Library imports\n",
    "\n",
    "import time\n",
    "import h5py\n",
    "import numpy as np\n",
    "import matplotlib.pyplot as plt\n",
    "from scipy import stats as st"
   ]
  },
  {
   "cell_type": "code",
   "execution_count": 145,
   "metadata": {},
   "outputs": [],
   "source": [
    "# Loading our training data\n",
    "\n",
    "with h5py.File('./Input/images_training.h5','r') as H:\n",
    "    data_train = np.copy(H['datatrain'])\n",
    "with h5py.File('./Input/labels_training.h5','r') as H:\n",
    "    label_train = np.copy(H['labeltrain'])\n",
    "    \n",
    "# Loading our testing data\n",
    "\n",
    "with h5py.File('./Input/images_testing.h5','r') as H:\n",
    "    data_test = np.copy(H['datatest'])\n",
    "with h5py.File('./Input/labels_testing_2000.h5','r') as H:\n",
    "    label_test = np.copy(H['labeltest'])"
   ]
  },
  {
   "cell_type": "code",
   "execution_count": 146,
   "metadata": {},
   "outputs": [
    {
     "name": "stdout",
     "output_type": "stream",
     "text": [
      "(30000, 784) (30000,)\n",
      "(5000, 784) (2000,)\n"
     ]
    }
   ],
   "source": [
    "# Verifying our loaded training data\n",
    "print(data_train.shape, label_train.shape)\n",
    "\n",
    "# Verifying our loaded testing data\n",
    "print(data_test.shape, label_test.shape)"
   ]
  },
  {
   "cell_type": "code",
   "execution_count": 147,
   "metadata": {},
   "outputs": [],
   "source": [
    "# Class mappings\n",
    "class_mappings = {\n",
    "    0: 'T-shirt/Top',\n",
    "    1: 'Trouser',\n",
    "    2: 'Pullover',\n",
    "    3: 'Dress',\n",
    "    4: 'Coat',\n",
    "    5: 'Sandal',\n",
    "    6: 'Shirt',\n",
    "    7: 'Sneaker',\n",
    "    8: 'Bag',\n",
    "    9: 'Ankle boot'\n",
    "}"
   ]
  },
  {
   "cell_type": "markdown",
   "metadata": {},
   "source": [
    "### Utility Functions"
   ]
  },
  {
   "cell_type": "code",
   "execution_count": 148,
   "metadata": {},
   "outputs": [],
   "source": [
    "def calc_top1_accuracy(predicted, actual):\n",
    "    '''\n",
    "    Calculates the top-1 accuracy metric, given the predicted classes against the actual classes\n",
    "    INPUT: 1D array of predicted results,\n",
    "        1D array of actual results\n",
    "    OUTPUT: percentage in decimal format of accuracy    \n",
    "    '''\n",
    "    correct = 0\n",
    "    for n in range(actual.shape[0]):\n",
    "        if predicted[n] == actual[n]:\n",
    "            correct += 1\n",
    "        \n",
    "    return correct/actual.shape[0]"
   ]
  },
  {
   "cell_type": "code",
   "execution_count": 149,
   "metadata": {},
   "outputs": [],
   "source": [
    "def output_prediction(predictions):\n",
    "    '''\n",
    "    Generates the output file for the predictions\n",
    "    INPUT: 1D array of predicted results\n",
    "    OUTPUT: prediction file of .h5 format\n",
    "    '''\n",
    "    with h5py.File('./Output/predicted_labels.h5','w') as H:\n",
    "        H.create_dataset('Output',data=predictions)"
   ]
  },
  {
   "cell_type": "code",
   "execution_count": 150,
   "metadata": {},
   "outputs": [],
   "source": [
    "def train_validation_split(train_ratio, data_train, label_train):\n",
    "    '''\n",
    "    Splits the dataset for X and y into training and validation datasets based on the given ratio\n",
    "    INPUT: train split ratio, training dataset, label dataset\n",
    "    OUTPUT: training data and label numpy arrays, validation data and label numpy arrays\n",
    "    '''\n",
    "    # obtain the row number where we conduct the split\n",
    "    row_split = int(train_ratio * data_train.shape[0])\n",
    "    \n",
    "    # shuffle our matrices\n",
    "    shuffled_idx = np.arange(data_train.shape[0])\n",
    "    np.random.shuffle(shuffled_idx)\n",
    "    data_train = data_train[shuffled_idx]\n",
    "    label_train = label_train[shuffled_idx]\n",
    "        \n",
    "    # create the train/test split\n",
    "    split_data_train = data_train[:row_split, :]\n",
    "    split_label_train = label_train[:row_split]\n",
    "    split_data_validation = data_train[row_split:, :]\n",
    "    split_label_validation = label_train[row_split:]\n",
    "    \n",
    "    return split_data_train, split_label_train, split_data_validation, split_label_validation"
   ]
  },
  {
   "cell_type": "markdown",
   "metadata": {},
   "source": [
    "### Pre-processing"
   ]
  },
  {
   "cell_type": "markdown",
   "metadata": {},
   "source": [
    "#### PCA"
   ]
  },
  {
   "cell_type": "code",
   "execution_count": 151,
   "metadata": {},
   "outputs": [],
   "source": [
    "def apply_pca(data_train, data_test, n_components=45):\n",
    "    '''\n",
    "    Apply PCA on the given dataset\n",
    "    INPUT: 2D or 3D array dataset for data_train and data_test,\n",
    "        INT n_components for the number of components to be retained, or set to STR 'dynamic' to count eigenvalues > 1\n",
    "    OUTPUT: 2D array of dataset reduced to n dimensions\n",
    "    '''\n",
    "    if len(data_train.shape) != 2:\n",
    "        data_train = data_train.reshape((data_train.shape[0], data_train.shape[1]**2))\n",
    "    if len(data_test.shape) != 2:\n",
    "        data_test = data_test.reshape((data_test.shape[0], data_test.shape[1]**2))\n",
    "    \n",
    "    # Need to get the mean of each feature, for mean normalisation/centreing\n",
    "    data_train_mean = data_train.mean(axis=0)\n",
    "    data_test_mean = data_test.mean(axis=0)\n",
    "    # Feature means should now be zero, or approx. close to zero - and hence centred\n",
    "    data_train_centred = np.subtract(data_train, data_train_mean)\n",
    "    data_test_centred = np.subtract(data_test, data_test_mean)\n",
    "    \n",
    "    # Checking the following, we can see that the max and min value of the entire matrix is 0 and 1\n",
    "    # hence scaling is not required\n",
    "    '''\n",
    "    print(data_train.min())\n",
    "    print(data_train.max())\n",
    "    print(data_test.min())\n",
    "    print(data_test.max())\n",
    "    '''\n",
    "    \n",
    "    covariance_matrix = (data_train_centred.T).dot(data_train_centred)\n",
    "    l, V = np.linalg.eig(covariance_matrix)\n",
    "    \n",
    "    sorted_lambda_index =  l.argsort()[::-1] # sorting our lambda values from largest to smallest\n",
    "    l = l[sorted_lambda_index] # sort eigvals from largest to smallest\n",
    "    \n",
    "    if n_components == 'dynamic':\n",
    "        # to dynamically set what our n_components will be, we consider that PCA is used where we obtain the\n",
    "        # orthonormal eigenvectors which obtain the most variance.  Here, we will use the sorted eigenvals\n",
    "        # to ensure that we include all eigenvectors which explain 99.99% of the variance in our data\n",
    "        # the dimensions beyond that are discarded, as being insignificant\n",
    "        l_squared = np.square(l)\n",
    "        l_squared_sum = l_squared.sum()\n",
    "        running_squared_sum = 0\n",
    "        n_components = 0\n",
    "        for idx, eigval_sqrd in enumerate(l_squared):\n",
    "            running_squared_sum += eigval_sqrd\n",
    "            if (running_squared_sum/l_squared_sum) > 0.9999:\n",
    "                n_components = idx + 1\n",
    "                break\n",
    "        print(f'Number of components retained is: {n_components}')\n",
    "        \n",
    "    V_n = V[:,sorted_lambda_index[:n_components]]\n",
    "    \n",
    "    # Do the projection of the image matrix against our orthogonal eigenvector matrix reduced to n columns\n",
    "    pca_data_train = data_train_centred.dot(V_n)\n",
    "    pca_data_test = data_test_centred.dot(V_n)\n",
    "    \n",
    "    return (pca_data_train, pca_data_test)"
   ]
  },
  {
   "cell_type": "markdown",
   "metadata": {},
   "source": [
    "#### SVD"
   ]
  },
  {
   "cell_type": "code",
   "execution_count": 152,
   "metadata": {},
   "outputs": [],
   "source": [
    "def apply_svd(data_train, data_test, n_components=45):\n",
    "    '''\n",
    "    Apply Singular Value Decomposition for a given training dataset,\n",
    "    and subsequently apply our test dataset onto the same orthognal V\n",
    "    '''\n",
    "    if len(data_train.shape) != 2:\n",
    "        data_train = data_train.reshape((data_train.shape[0], data_train.shape[1]**2))\n",
    "    if len(data_test.shape) != 2:\n",
    "        data_test = data_test.reshape((data_test.shape[0], data_test.shape[1]**2))\n",
    "        \n",
    "    U, s, Vt = np.linalg.svd(data_train, full_matrices=False)\n",
    "        \n",
    "    if n_components == 'dynamic':\n",
    "        # to dynamically set what our n_components value will be\n",
    "        # based on the number of singular values required to reach an energy level, where 1D array s is squared,\n",
    "        # such that we get at least 90% of the total sum squared of s        \n",
    "        s_squared = np.square(s)\n",
    "        s_squared_sum = s_squared.sum()\n",
    "        running_squared_sum = 0\n",
    "        n_components = 0\n",
    "        for idx, sing_val_sqrd in enumerate(s_squared):\n",
    "            running_squared_sum += sing_val_sqrd\n",
    "            if (running_squared_sum/s_squared_sum) > 0.9:\n",
    "                n_components = idx + 1\n",
    "                break\n",
    "        print(f'Number of components retained is: {n_components}')\n",
    "        \n",
    "    # Since our singular values in array s are already sorted from largest to smallest, we can then remove\n",
    "    # the insignificant singular values, and also remove the affected rows & columns from U and Vt\n",
    "    # However, since we'll only use Vt, then we only apply it there\n",
    "    if isinstance(n_components, int):\n",
    "        Vt = Vt[:n_components, :]\n",
    "    \n",
    "    # We do dot product between our data matrix and Vt.T because Vt is already reduced to the orthonormal vectors\n",
    "    # which have the highest singular value scores.  Moreover, we need to transpose Vt in order to do dot product\n",
    "    # with our data matrix (data_train and/or data_test)\n",
    "    svd_data_train = data_train.dot(Vt.T)\n",
    "    svd_data_test = data_test.dot(Vt.T)\n",
    "    \n",
    "    return (svd_data_train, svd_data_test)"
   ]
  },
  {
   "cell_type": "markdown",
   "metadata": {},
   "source": [
    "### Classification Algorithms"
   ]
  },
  {
   "cell_type": "markdown",
   "metadata": {},
   "source": [
    "#### k-Nearest Neighbours"
   ]
  },
  {
   "cell_type": "code",
   "execution_count": 153,
   "metadata": {},
   "outputs": [],
   "source": [
    "def knn(data_train, label_train, data_test, K=3):\n",
    "    '''\n",
    "    k-Nearest Neighbour classifier\n",
    "    INPUT: 2D/3D array of training dataset (data_train),\n",
    "        1D array of label of training dataset (label_train),\n",
    "        2D/3D array of the dataset to be predicted (data_test),\n",
    "        (optional) K number of nearest neighbours\n",
    "    OUTPUT: 1D array of predicted results with the same length as data_test.shape[0]\n",
    "    '''\n",
    "        \n",
    "    # Instantiating our empty array for predicted values\n",
    "    pred_test = np.zeros(data_test.shape[0])\n",
    "    \n",
    "    for image_num in range(data_test.shape[0]):\n",
    "        # Calculating the distance difference between the test subject and all our training points\n",
    "        # Basically the same as getting the norm of (data_train - data_test[image_num]) for each instance\n",
    "        sum_sqrd_distances = np.sqrt((np.square(np.subtract(data_train, data_test[image_num]))).sum(axis=1))\n",
    "    \n",
    "        # Getting the k nearest neighbours\n",
    "        k_nearest_neighbours = (np.argsort(sum_sqrd_distances))[:K]\n",
    "    \n",
    "        classes_dict = {}\n",
    "\n",
    "        # Using weighted distance, instead of simply using count\n",
    "        for neighbour_idx in k_nearest_neighbours:\n",
    "            classification = label_train[neighbour_idx]\n",
    "            if classification in classes_dict:\n",
    "                classes_dict[classification] += 1/(sum_sqrd_distances[neighbour_idx]**2)\n",
    "            else:\n",
    "                classes_dict[classification] = 1/(sum_sqrd_distances[neighbour_idx]**2)\n",
    "            \n",
    "        pred_class = None\n",
    "        for key in classes_dict:\n",
    "            if pred_class == None:\n",
    "                pred_class = key\n",
    "                continue\n",
    "\n",
    "            if classes_dict[key] > classes_dict[pred_class]:\n",
    "                pred_class = key\n",
    "                \n",
    "        pred_test[image_num] = pred_class\n",
    "            \n",
    "    return pred_test"
   ]
  },
  {
   "cell_type": "markdown",
   "metadata": {},
   "source": [
    "#### Gaussian Naive Bayes"
   ]
  },
  {
   "cell_type": "code",
   "execution_count": 154,
   "metadata": {},
   "outputs": [],
   "source": [
    "def gaussian_naive_bayes(data_train, label_train, data_test):\n",
    "    '''\n",
    "    Gaussian Naive Bayes classifier\n",
    "    INPUT: 2D/3D array of training dataset (data_train),\n",
    "        1D array of label on training dataset (label_train),\n",
    "        2D/3D array of test dataset (data_test)\n",
    "    OUTPUT: 1D array of predicted classes on test dataset\n",
    "    '''\n",
    "    \n",
    "    # Reshaping if it's not the expected shape (2D)\n",
    "    if len(data_train.shape) != 2:\n",
    "        data_train = data_train.reshape((data_train.shape[0], data_train.shape[1]**2))\n",
    "    if len(data_test.shape) != 2:\n",
    "        data_test = data_test.reshape((data_test.shape[0], data_test.shape[1]**2))\n",
    "\n",
    "    # Obtaining the different classes that we have present in our training data and getting index positions of each one\n",
    "    class_indices = {}\n",
    "    for idx, image_class in enumerate(label_train):\n",
    "        if image_class not in class_indices:\n",
    "            class_indices[image_class] = [idx]\n",
    "            continue\n",
    "        else:\n",
    "            class_indices[image_class].append(idx)\n",
    "        \n",
    "    class_mean = {}\n",
    "    class_var = {}\n",
    "\n",
    "    # Obtain the mean and std dev for each class of our training data\n",
    "    for class_index in class_indices:\n",
    "        class_mean[class_index] = data_train[class_indices[class_index], :].mean(axis=0)\n",
    "        class_var[class_index] = data_train[class_indices[class_index], :].var(axis=0)\n",
    "\n",
    "    pred_test = np.zeros(data_test.shape[0])\n",
    "\n",
    "    for image_num in range(data_test.shape[0]):\n",
    "        # In order to find the length of pred_class_scores, we need to get the max value of the keys\n",
    "        # with the assumption that each number up to the max will be a class\n",
    "        # we do this instead of length because our training data may not have an entry for a class, hence, it'll\n",
    "        # result in out of range if a data exists for one higher\n",
    "        pred_class_scores = np.zeros(max(class_indices, key=int)+1)\n",
    "        \n",
    "        for class_index in class_indices:\n",
    "            \n",
    "            # Calculating the logged prior probability\n",
    "            class_prob = np.log(len(class_indices[class_index])/data_train.shape[0])\n",
    "\n",
    "            # Calculating the sum of the logged conditional probability\n",
    "            likelihood_array = st.norm.logpdf(x=data_test[image_num], loc=class_mean[class_index], scale=np.sqrt(class_var[class_index]))\n",
    "            class_prob = class_prob + np.nansum(likelihood_array) # we use nansum to avoid nan likelihoods, because these are obtained from points with zero variance\n",
    "\n",
    "            # Storing the result in our results array, so we can keep track of which class has the highest\n",
    "            pred_class_scores[class_index] = class_prob\n",
    "\n",
    "        # Class with the highest prob is the predicted class for the image, which is stored in our final pred_test array\n",
    "        pred_test[image_num] = np.nanargmax(pred_class_scores)\n",
    "        \n",
    "    return pred_test"
   ]
  },
  {
   "cell_type": "markdown",
   "metadata": {},
   "source": [
    "#### Multinomial Logistic Regression"
   ]
  },
  {
   "cell_type": "code",
   "execution_count": 107,
   "metadata": {},
   "outputs": [],
   "source": [
    "def calc_logistic_loss(weights, X, y, LAMBDA):\n",
    "    '''\n",
    "    Provides the gradient and the current loss, used during the logistic gradient descent process\n",
    "    for finding the optimal weights\n",
    "    INPUT: vector weights, training dataset (X), labels of training dataset (y), regularisation term (LAMBDA)\n",
    "    OUTPUT: gradient (vector), current loss (scalar)\n",
    "    '''\n",
    "    \n",
    "    # Basically the vector of inputs for our sigmoid function\n",
    "    z = X.dot(weights)\n",
    "    \n",
    "    # Now placing it inside our sigmoid function.  This will produce vector of probabilities of size N\n",
    "    prob = 1/(1 + np.exp(-z))\n",
    "    \n",
    "    # getting the gradient at the current point\n",
    "    grad_loss = X.T.dot((prob - y))\n",
    "    \n",
    "    # getting the current loss, since we want to do minimisation problem (not maximisation)\n",
    "    curr_loss = -((np.log(prob)).T.dot(y) + (np.log(1-prob)).T.dot(1-y)) + (LAMBDA/2 * (weights.T.dot(weights)))\n",
    "    \n",
    "    return grad_loss, curr_loss[0]\n",
    "\n",
    "\n",
    "def multiclass_logistic_regression(data_train, label_train, data_test, LEARNING_RATE, LAMBDA, MAX_ITER):\n",
    "    '''\n",
    "    Function used for multinomial logistic regression - classification problem of multiple classes\n",
    "    INPUT: training data, labels of training data, test/validation dataset, learning rate, regularisation term, iterations\n",
    "    OUTPUT: predictions for the given test/validation dataset (vector)\n",
    "    '''\n",
    "\n",
    "    # getting the unique labels that we have in dataset\n",
    "    # using arange in this case, in case we are provided a dataset where an instance of a class is not provided\n",
    "    # i.e. max(label_train)+1 != len(label_train)\n",
    "    labels = np.arange(np.max(label_train))\n",
    "\n",
    "    # instantiating a blank matrix to store our optimal weights - shape is D x number of labels\n",
    "    optimal_weights = np.zeros((data_train.shape[1], len(labels)))\n",
    "\n",
    "    for label in labels:\n",
    "        # the objective of this part is to classify the current class as 1, and the others as 0\n",
    "        X0 = data_train[np.where(label_train!=label)[0], :]\n",
    "        X1 = data_train[np.where(label_train==label)[0], :]\n",
    "        y0 = np.zeros(X0.shape[0])\n",
    "        y1 = np.ones(X1.shape[0])\n",
    "\n",
    "        # we then re-join the two matrices (0s and 1s) for X and y\n",
    "        X = np.concatenate((X0, X1), axis=0)\n",
    "        y = np.concatenate((y0, y1))[:, np.newaxis]\n",
    "\n",
    "        N, D = X.shape\n",
    "    \n",
    "        # select a random starting point for our gradient descent\n",
    "        weights = np.random.random(D)[:, np.newaxis]\n",
    "    \n",
    "        # used to keep track loss for each iteration\n",
    "        loss_array = []\n",
    "\n",
    "        # gradient descent algorithm for logistic regression\n",
    "        for _ in range(MAX_ITER):\n",
    "            dloss, current_loss = calc_logistic_loss(weights, X, y, LAMBDA)\n",
    "            # updating our weights\n",
    "            weights = weights - (LEARNING_RATE * (dloss / N))\n",
    "\n",
    "            loss_array.append(current_loss)\n",
    "\n",
    "        plt.plot(list(range(MAX_ITER)), loss_array)\n",
    "        plt.show()\n",
    "\n",
    "        # Storing the optimal weight we just found for the given label/class\n",
    "        optimal_weights[:, label] = np.squeeze(weights)\n",
    "        \n",
    "    # Using our matrix of optimal weights (for each class),\n",
    "    # getting the probability for each class with our test/validation data\n",
    "    # the prediction is based on the highest probability (the index will be the class)\n",
    "    instance_prob_per_class = data_test.dot(optimal_weights)\n",
    "    predictions = np.argmax(instance_prob_per_class, axis=1)\n",
    "        \n",
    "    return predictions"
   ]
  },
  {
   "cell_type": "markdown",
   "metadata": {},
   "source": [
    "### Hyperparameter Optimisation"
   ]
  },
  {
   "cell_type": "markdown",
   "metadata": {},
   "source": [
    "#### k-Nearest Neighbours"
   ]
  },
  {
   "cell_type": "markdown",
   "metadata": {},
   "source": [
    "Checking the result of running kNN with and without PCA side by side with the same K value, and seeing performance and accuracy difference."
   ]
  },
  {
   "cell_type": "code",
   "execution_count": null,
   "metadata": {},
   "outputs": [],
   "source": [
    "split_data_train, split_label_train, split_data_validation, split_label_validation = train_validation_split(0.7, data_train, label_train)\n",
    "\n",
    "# k-Nearest Neighbours Classifier using raw data as input\n",
    "start = time.time()\n",
    "knn_results = knn(split_data_train, split_label_train, split_data_validation, K=5)\n",
    "end = time.time()\n",
    "print(f\"Time taken is {end-start} seconds\")\n",
    "accuracy = calc_top1_accuracy(knn_results, split_label_validation)\n",
    "print(f\"Accuracy result for kNN (raw) is: {accuracy}\")\n",
    "print()\n",
    "\n",
    "# k-Nearest Neighbours Classifier with PCA\n",
    "start = time.time()\n",
    "pca_data_train, pca_data_test = apply_pca(split_data_train, split_data_validation, n_components='dynamic')\n",
    "knn_pca_results = knn(pca_data_train, split_label_train, pca_data_test, K=5)\n",
    "end = time.time()\n",
    "print(f\"Time taken is {end-start} seconds\")\n",
    "accuracy = calc_top1_accuracy(knn_pca_results, split_data_validation)\n",
    "print(f\"Accuracy result for kNN (PCA) is: {accuracy}\")\n",
    "print()"
   ]
  },
  {
   "cell_type": "markdown",
   "metadata": {},
   "source": [
    "Running hyperparameter optimisation on kNN with PCA since it's superior to kNN without PCA.  In this section, we will be using cross-validation holdout method (shuffle, split, train and validate are done n times, then averaged)"
   ]
  },
  {
   "cell_type": "code",
   "execution_count": null,
   "metadata": {},
   "outputs": [],
   "source": [
    "# Finding the best value of K (PCA)\n",
    "\n",
    "N_RUNS = 3\n",
    "\n",
    "for K in range(3,36, 3):\n",
    "    accuracy_results = []\n",
    "    for _ in range(N_RUNS):\n",
    "        # do the shuffle and train/validation split\n",
    "        split_data_train, split_label_train, split_data_validation, split_label_validation = train_validation_split(0.7, data_train, label_train)\n",
    "        \n",
    "        pca_data_train, pca_data_test = apply_pca(split_data_train, split_data_validation, n_components='dynamic')\n",
    "        knn_pca_results = knn(pca_data_train, split_label_train, pca_data_test, K=K)\n",
    "        accuracy = calc_top1_accuracy(knn_pca_results, split_label_validation)\n",
    "        accuracy_results.append(accuracy)\n",
    "    print(f'Average accuracy result for K Nearest Neighbours with K={K} is {(sum(accuracy_results))/N_RUNS}')"
   ]
  },
  {
   "cell_type": "markdown",
   "metadata": {},
   "source": [
    "Running kNN with the best hyperparameter found, against test data"
   ]
  },
  {
   "cell_type": "code",
   "execution_count": null,
   "metadata": {},
   "outputs": [],
   "source": [
    "start = time.time()\n",
    "pca_data_train, pca_data_test = apply_pca(data_train, data_test, n_components='dynamic')\n",
    "knn_pca_results = knn(pca_data_train, label_train, pca_data_test, K=)\n",
    "end = time.time()\n",
    "print(f\"Time taken is {end-start} seconds\")\n",
    "accuracy = calc_top1_accuracy(knn_pca_results, label_test)\n",
    "print(f\"Accuracy result for kNN (PCA) is: {accuracy}\")"
   ]
  },
  {
   "cell_type": "markdown",
   "metadata": {},
   "source": [
    "#### Gaussian Naive Bayes"
   ]
  },
  {
   "cell_type": "markdown",
   "metadata": {},
   "source": [
    "Checking the result of running Gaussian Naive Bayes classifier with and without PCA side-by-side, and seeing performance and accuracy difference."
   ]
  },
  {
   "cell_type": "code",
   "execution_count": 155,
   "metadata": {},
   "outputs": [
    {
     "name": "stderr",
     "output_type": "stream",
     "text": [
      "c:\\users\\jsnar\\appdata\\local\\programs\\python\\python36\\lib\\site-packages\\scipy\\stats\\_distn_infrastructure.py:1782: RuntimeWarning: invalid value encountered in true_divide\n",
      "  x = np.asarray((x - loc)/scale, dtype=dtyp)\n",
      "c:\\users\\jsnar\\appdata\\local\\programs\\python\\python36\\lib\\site-packages\\scipy\\stats\\_distn_infrastructure.py:899: RuntimeWarning: invalid value encountered in greater_equal\n",
      "  return (a <= x) & (x <= b)\n",
      "c:\\users\\jsnar\\appdata\\local\\programs\\python\\python36\\lib\\site-packages\\scipy\\stats\\_distn_infrastructure.py:899: RuntimeWarning: invalid value encountered in less_equal\n",
      "  return (a <= x) & (x <= b)\n",
      "c:\\users\\jsnar\\appdata\\local\\programs\\python\\python36\\lib\\site-packages\\scipy\\stats\\_distn_infrastructure.py:1782: RuntimeWarning: divide by zero encountered in true_divide\n",
      "  x = np.asarray((x - loc)/scale, dtype=dtyp)\n"
     ]
    },
    {
     "name": "stdout",
     "output_type": "stream",
     "text": [
      "Time taken is 24.256003379821777 seconds\n",
      "Accuracy result for NB (raw) is: 0.6486666666666666\n",
      "\n",
      "Number of components retained is: 145\n",
      "Time taken is 17.646000623703003 seconds\n",
      "Accuracy result for NB (PCA) is: 0.7506666666666667\n",
      "\n"
     ]
    }
   ],
   "source": [
    "split_data_train, split_label_train, split_data_validation, split_label_validation = train_validation_split(0.7, data_train, label_train)\n",
    "\n",
    "# Gaussian Naive Bayes using raw data as input\n",
    "start = time.time()\n",
    "nb_results = gaussian_naive_bayes(split_data_train, split_label_train, split_data_validation)\n",
    "end = time.time()\n",
    "print(f\"Time taken is {end-start} seconds\")\n",
    "accuracy = calc_top1_accuracy(nb_results, split_label_validation)\n",
    "print(f\"Accuracy result for NB (raw) is: {accuracy}\")\n",
    "print()\n",
    "\n",
    "\n",
    "# Gaussian Naive Bayes applied on principal components of dataset\n",
    "start = time.time()\n",
    "pca_data_train, pca_data_test = apply_pca(split_data_train, split_data_validation, n_components='dynamic')\n",
    "nb_pca_results = gaussian_naive_bayes(pca_data_train, split_label_train, pca_data_test)\n",
    "end = time.time()\n",
    "print(f\"Time taken is {end-start} seconds\")\n",
    "accuracy = calc_top1_accuracy(nb_pca_results, split_label_validation)        \n",
    "print(f\"Accuracy result for NB (PCA) is: {accuracy}\")\n",
    "print()"
   ]
  },
  {
   "cell_type": "markdown",
   "metadata": {},
   "source": [
    "Running Gaussian Naive Bayes with PCA applied against the test dataset"
   ]
  },
  {
   "cell_type": "code",
   "execution_count": 156,
   "metadata": {},
   "outputs": [
    {
     "name": "stdout",
     "output_type": "stream",
     "text": [
      "Number of components retained is: 145\n",
      "Time taken is 11.105998277664185 seconds\n",
      "Accuracy result for NB (PCA) is: 0.7405\n",
      "\n"
     ]
    }
   ],
   "source": [
    "# Gaussian Naive Bayes applied on principal components of dataset\n",
    "start = time.time()\n",
    "pca_data_train, pca_data_test = apply_pca(data_train, data_test, n_components='dynamic')\n",
    "nb_pca_results = gaussian_naive_bayes(pca_data_train, label_train, pca_data_test)\n",
    "end = time.time()\n",
    "print(f\"Time taken is {end-start} seconds\")\n",
    "accuracy = calc_top1_accuracy(nb_pca_results, label_test)        \n",
    "print(f\"Accuracy result for NB (PCA) is: {accuracy}\")\n",
    "print()"
   ]
  },
  {
   "cell_type": "markdown",
   "metadata": {},
   "source": [
    "#### Multinomial Logistic Regression"
   ]
  },
  {
   "cell_type": "code",
   "execution_count": 158,
   "metadata": {},
   "outputs": [
    {
     "name": "stdout",
     "output_type": "stream",
     "text": [
      "Number of components retained is: 145\n"
     ]
    },
    {
     "data": {
      "image/png": "[encoded data removed]",
      "text/plain": [
       "<Figure size 432x288 with 1 Axes>"
      ]
     },
     "metadata": {
      "needs_background": "light"
     },
     "output_type": "display_data"
    },
    {
     "data": {
      "image/png": "[encoded data removed]",
      "text/plain": [
       "<Figure size 432x288 with 1 Axes>"
      ]
     },
     "metadata": {
      "needs_background": "light"
     },
     "output_type": "display_data"
    },
    {
     "data": {
      "image/png": "[encoded data removed]",
      "text/plain": [
       "<Figure size 432x288 with 1 Axes>"
      ]
     },
     "metadata": {
      "needs_background": "light"
     },
     "output_type": "display_data"
    },
    {
     "data": {
      "image/png": "[encoded data removed]",
      "text/plain": [
       "<Figure size 432x288 with 1 Axes>"
      ]
     },
     "metadata": {
      "needs_background": "light"
     },
     "output_type": "display_data"
    },
    {
     "data": {
      "image/png": "[encoded data removed]",
      "text/plain": [
       "<Figure size 432x288 with 1 Axes>"
      ]
     },
     "metadata": {
      "needs_background": "light"
     },
     "output_type": "display_data"
    },
    {
     "data": {
      "image/png": "[encoded data removed]",
      "text/plain": [
       "<Figure size 432x288 with 1 Axes>"
      ]
     },
     "metadata": {
      "needs_background": "light"
     },
     "output_type": "display_data"
    },
    {
     "data": {
      "image/png": "[encoded data removed]",
      "text/plain": [
       "<Figure size 432x288 with 1 Axes>"
      ]
     },
     "metadata": {
      "needs_background": "light"
     },
     "output_type": "display_data"
    },
    {
     "data": {
      "image/png": "[encoded data removed]",
      "text/plain": [
       "<Figure size 432x288 with 1 Axes>"
      ]
     },
     "metadata": {
      "needs_background": "light"
     },
     "output_type": "display_data"
    },
    {
     "data": {
      "image/png": "[encoded data removed]",
      "text/plain": [
       "<Figure size 432x288 with 1 Axes>"
      ]
     },
     "metadata": {
      "needs_background": "light"
     },
     "output_type": "display_data"
    },
    {
     "name": "stdout",
     "output_type": "stream",
     "text": [
      "Accuracy result for multinomial logistic regression (PCA) is: 0.695\n"
     ]
    }
   ],
   "source": [
    "LEARNING_RATE = 0.45\n",
    "LAMBDA = 100\n",
    "MAX_ITER = 200\n",
    "\n",
    "# first we do the pre-processing to make it easier for our gradient descent\n",
    "pca_data_train, pca_data_test = apply_pca(data_train, data_test, n_components='dynamic')\n",
    "predictions = multiclass_logistic_regression(pca_data_train, label_train, pca_data_test, LEARNING_RATE, LAMBDA, MAX_ITER)\n",
    "accuracy = calc_top1_accuracy(predictions, label_test)\n",
    "print(f\"Accuracy result for multinomial logistic regression (PCA) is: {accuracy}\")"
   ]
  },
  {
   "cell_type": "markdown",
   "metadata": {},
   "source": [
    "### Output of Best Classifier"
   ]
  },
  {
   "cell_type": "code",
   "execution_count": null,
   "metadata": {},
   "outputs": [],
   "source": [
    "output_prediction(knn_pca_results)"
   ]
  }
 ],
 "metadata": {
  "kernelspec": {
   "display_name": "Python 3",
   "language": "python",
   "name": "python3"
  },
  "language_info": {
   "codemirror_mode": {
    "name": "ipython",
    "version": 3
   },
   "file_extension": ".py",
   "mimetype": "text/x-python",
   "name": "python",
   "nbconvert_exporter": "python",
   "pygments_lexer": "ipython3",
   "version": "3.6.4"
  }
 },
 "nbformat": 4,
 "nbformat_minor": 4
}
