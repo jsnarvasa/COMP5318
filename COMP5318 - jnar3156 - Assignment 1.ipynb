{
 "cells": [
  {
   "cell_type": "markdown",
   "metadata": {},
   "source": [
    "# COMP5318: Assignment 1\n",
    "## By Jesse S. Narvasa"
   ]
  },
  {
   "cell_type": "code",
   "execution_count": 1,
   "metadata": {},
   "outputs": [],
   "source": [
    "# library imports\n",
    "\n",
    "import h5py\n",
    "import numpy as np\n",
    "import matplotlib.pyplot as plt\n",
    "from scipy import stats as st\n",
    "from datetime import datetime"
   ]
  },
  {
   "cell_type": "code",
   "execution_count": 2,
   "metadata": {},
   "outputs": [],
   "source": [
    "# Loading our training data\n",
    "\n",
    "with h5py.File('./Input/train/images_training.h5','r') as H:\n",
    "    data_train = np.copy(H['datatrain'])\n",
    "with h5py.File('./Input/train/labels_training.h5','r') as H:\n",
    "    label_train = np.copy(H['labeltrain'])\n",
    "    \n",
    "# Loading our testing data\n",
    "\n",
    "with h5py.File('./Input/test/images_testing.h5','r') as H:\n",
    "    data_test = np.copy(H['datatest'])\n",
    "with h5py.File('./Input/test/labels_testing_2000.h5','r') as H:\n",
    "    label_test = np.copy(H['labeltest'])"
   ]
  },
  {
   "cell_type": "code",
   "execution_count": 3,
   "metadata": {},
   "outputs": [
    {
     "name": "stdout",
     "output_type": "stream",
     "text": [
      "(30000, 784) (30000,)\n"
     ]
    }
   ],
   "source": [
    "# Verifying our loaded training data\n",
    "\n",
    "print(data_train.shape, label_train.shape)"
   ]
  },
  {
   "cell_type": "code",
   "execution_count": 4,
   "metadata": {},
   "outputs": [],
   "source": [
    "# Class mappings\n",
    "class_mappings = {\n",
    "    0: 'T-shirt/Top',\n",
    "    1: 'Trouser',\n",
    "    2: 'Pullover',\n",
    "    3: 'Dress',\n",
    "    4: 'Coat',\n",
    "    5: 'Sandal',\n",
    "    6: 'Shirt',\n",
    "    7: 'Sneaker',\n",
    "    8: 'Bag',\n",
    "    9: 'Ankle boot'\n",
    "}"
   ]
  },
  {
   "cell_type": "code",
   "execution_count": 5,
   "metadata": {},
   "outputs": [],
   "source": [
    "current_image = 1"
   ]
  },
  {
   "cell_type": "code",
   "execution_count": 6,
   "metadata": {},
   "outputs": [
    {
     "data": {
      "image/png": "[encoded data removed]",
      "text/plain": [
       "<Figure size 432x288 with 1 Axes>"
      ]
     },
     "metadata": {
      "needs_background": "light"
     },
     "output_type": "display_data"
    }
   ],
   "source": [
    "data_train = data_train.reshape((data_train.shape[0], 28, 28))\n",
    "plt.imshow(data_train[current_image], cmap=plt.get_cmap('gray'))\n",
    "plt.title(\"class \" + str(label_train[current_image]) + \": \" + class_mappings[label_train[current_image]] )\n",
    "plt.show()"
   ]
  },
  {
   "cell_type": "markdown",
   "metadata": {},
   "source": [
    "### Compression"
   ]
  },
  {
   "cell_type": "markdown",
   "metadata": {},
   "source": [
    "#### SVD"
   ]
  },
  {
   "cell_type": "code",
   "execution_count": 7,
   "metadata": {},
   "outputs": [
    {
     "data": {
      "image/png": "[encoded data removed]",
      "text/plain": [
       "<Figure size 432x288 with 1 Axes>"
      ]
     },
     "metadata": {
      "needs_background": "light"
     },
     "output_type": "display_data"
    },
    {
     "name": "stdout",
     "output_type": "stream",
     "text": [
      "Is the original and reconstructed matrix approximately equal? False\n",
      "Our compression ratio is: 1.090561224489796\n",
      "SVD SSE is: 1.948017485167708e-12\n"
     ]
    }
   ],
   "source": [
    "# Run SVD on it\n",
    "target_data = data_train[current_image]\n",
    "U, s, Vt = np.linalg.svd(target_data, full_matrices=False)\n",
    "S = np.diag(s)\n",
    "\n",
    "# We then create a dynamic component_num in which we'll use to determine how many components we'll keep\n",
    "# this is determine by round to 2 decimal places, and any value that is 0 will be removed\n",
    "svd_components = np.count_nonzero(np.round(s, decimals=2) > 0)\n",
    "\n",
    "target_data_reconstructed = U[:, :svd_components]\\\n",
    "    .dot(S[:svd_components, :svd_components])\\\n",
    "    .dot(Vt[:svd_components, :])\n",
    "\n",
    "plt.imshow(target_data_reconstructed, cmap=plt.get_cmap('gray'))\n",
    "plt.title(f\"After SVD using only the top {svd_components} elements\")\n",
    "plt.show()\n",
    "\n",
    "# Verifying that our reconstructed matrix is approximately equal to our original matrix (within tolerance)\n",
    "print(f'Is the original and reconstructed matrix approximately equal? {np.allclose(target_data, target_data_reconstructed)}')\n",
    "\n",
    "# Checking the compression ratio of this\n",
    "comp_ratio = ((U.shape[0] * svd_components) + (svd_components) + (svd_components * Vt.shape[1])) / (target_data.shape[0]*target_data.shape[1])\n",
    "print(f\"Our compression ratio is: {comp_ratio}\")\n",
    "\n",
    "# SSE\n",
    "svd_SSE = np.sum((target_data - target_data_reconstructed)**2)\n",
    "print(f\"SVD SSE is: {svd_SSE}\")"
   ]
  },
  {
   "cell_type": "markdown",
   "metadata": {},
   "source": [
    "#### PCA"
   ]
  },
  {
   "cell_type": "code",
   "execution_count": null,
   "metadata": {},
   "outputs": [],
   "source": [
    "# Applying mean-centering to the original dataset\n",
    "target_data_mean = target_data.mean(axis=0)\n",
    "target_data_mean_matrix = np.full((len(target_data_mean), len(target_data_mean)), target_data_mean)\n",
    "target_data_centred = target_data - target_data_mean_matrix\n",
    "\n",
    "# Now let's try PCA\n",
    "XtX = (target_data_centred.T).dot(target_data_centred)\n",
    "l, V = np.linalg.eig(XtX)\n",
    "L = np.diag(l)\n",
    "\n",
    "pca_components = np.count_nonzero(np.round(l, decimals=2) > 0)\n",
    "\n",
    "pca_projection = target_data_centred.dot(V)\n",
    "target_data_reconstructed = pca_projection[:, :pca_components]\\\n",
    "    .dot(V.T[:pca_components, :])\\\n",
    "    + target_data_mean_matrix\n",
    "\n",
    "plt.imshow(target_data_reconstructed, cmap=plt.get_cmap('gray'))\n",
    "plt.title(f\"After PCA, using only {pca_components} components\")\n",
    "plt.show()\n",
    "\n",
    "# SSE\n",
    "pca_SSE = np.sum((target_data - target_data_reconstructed)**2)\n",
    "print(f\"PCA SSE is: {pca_SSE}\")"
   ]
  },
  {
   "cell_type": "markdown",
   "metadata": {},
   "source": [
    "### Pre-processing"
   ]
  },
  {
   "cell_type": "markdown",
   "metadata": {},
   "source": [
    "#### PCA"
   ]
  },
  {
   "cell_type": "code",
   "execution_count": 28,
   "metadata": {},
   "outputs": [],
   "source": [
    "def apply_pca(data):\n",
    "    '''\n",
    "    Apply PCA on the given dataset\n",
    "    INPUT: 2D or 3D array dataset\n",
    "    OUTPUT: 3D array of principal components for the given dataset\n",
    "    '''\n",
    "    if len(data.shape) != 3:\n",
    "        data = data.reshape((data.shape[0], 28, 28))\n",
    "    \n",
    "    pca_data = np.zeros((data.shape[0], data.shape[1], data.shape[2]))\n",
    "    \n",
    "    for image_num in range(data.shape[0]):\n",
    "        # Applying mean-centering to the original dataset\n",
    "        image_mean = data[image_num].mean(axis=0)\n",
    "        # Turning it into a matrix since above is an array\n",
    "        image_mean_matrix = np.full((len(image_mean), len(image_mean)), image_mean)\n",
    "        # Subtracting our actual dataset with the mean to get the centered matrix\n",
    "        image_centred = data[image_num] - image_mean_matrix\n",
    "\n",
    "        # Now let's try PCA\n",
    "        XtX = (image_centred.T).dot(image_centred)\n",
    "        l, V = np.linalg.eig(XtX)\n",
    "\n",
    "        # Do the projection of the image matrix against our orthogonal eigenvector matrix\n",
    "        image_projected = data[image_num].dot(V)\n",
    "    \n",
    "        pca_data[image_num] = image_projected\n",
    "        \n",
    "    return pca_data"
   ]
  },
  {
   "cell_type": "markdown",
   "metadata": {},
   "source": [
    "### Classification"
   ]
  },
  {
   "cell_type": "markdown",
   "metadata": {},
   "source": [
    "#### k-Nearest Neighbours"
   ]
  },
  {
   "cell_type": "code",
   "execution_count": 21,
   "metadata": {},
   "outputs": [],
   "source": [
    "def knn(data_train, label_train, data_test, K=5):\n",
    "    '''\n",
    "    k-Nearest Neighbour classifier\n",
    "    INPUT: 2D/3D array of data_train (training dataset), 1D array of label_train (label of training dataset)\n",
    "        2D/3D array of data_test,\n",
    "        (optional) K number of nearest neighbours\n",
    "    OUTPUT: 1D array of predicted results with the same length as data_test.shape[0]\n",
    "    '''\n",
    "    \n",
    "    if len(data_train.shape) != 2:\n",
    "        data_train = data_train.reshape((data_train.shape[0], data_train.shape[1]**2))\n",
    "        \n",
    "    if len(data_test.shape) != 2:\n",
    "        data_test = data_test.reshape((data_test.shape[0], data_test.shape[1]**2))\n",
    "        \n",
    "    pred_test = np.zeros(data_test.shape[0])\n",
    "    \n",
    "    for image_num in range(data_test.shape[0]):\n",
    "        # Calculating the distance difference between the test subject and all our training points\n",
    "        distance_diff = ((data_train - data_test[image_num])**2).sum(axis=1)\n",
    "    \n",
    "        # Getting the k nearest neighbours\n",
    "        k_nearest_neighbours = np.argsort(distance_diff)[:K]\n",
    "    \n",
    "        classes_dict = {}\n",
    "\n",
    "        # Using weighted distance, instead of simply using count\n",
    "        for neighbour_idx in k_nearest_neighbours:\n",
    "            classification = label_train[neighbour_idx]\n",
    "            if classification in classes_dict:\n",
    "                classes_dict[classification] += 1/(distance_diff[neighbour_idx]**2)\n",
    "            else:\n",
    "                classes_dict[classification] = 1/(distance_diff[neighbour_idx]**2)\n",
    "            \n",
    "        pred_class = None\n",
    "        for key in classes_dict:\n",
    "            if pred_class == None:\n",
    "                pred_class = key\n",
    "                continue\n",
    "\n",
    "            if classes_dict[key] > classes_dict[pred_class]:\n",
    "                pred_class = key\n",
    "                \n",
    "        pred_test[image_num] = pred_class\n",
    "            \n",
    "    return pred_test"
   ]
  },
  {
   "cell_type": "code",
   "execution_count": 22,
   "metadata": {},
   "outputs": [
    {
     "name": "stdout",
     "output_type": "stream",
     "text": [
      "Started at: 2020-10-12 13:09:54.897544\n",
      "Finished at: 2020-10-12 13:21:04.728768\n"
     ]
    }
   ],
   "source": [
    "# k-Nearest Neighbours Classifier using raw data as input\n",
    "print(f\"Started at: {datetime.now()}\")\n",
    "knn_results = knn(data_train, label_train, data_test, K=5)\n",
    "print(f\"Finished at: {datetime.now()}\")"
   ]
  },
  {
   "cell_type": "code",
   "execution_count": 23,
   "metadata": {},
   "outputs": [
    {
     "name": "stdout",
     "output_type": "stream",
     "text": [
      "Accuracy result is: 0.83\n"
     ]
    }
   ],
   "source": [
    "correct = 0\n",
    "\n",
    "for n in range(label_test.shape[0]):\n",
    "    if knn_results[n] == label_test[n]:\n",
    "        correct += 1\n",
    "        \n",
    "print(f\"Accuracy result is: {correct/label_test.shape[0]}\")"
   ]
  },
  {
   "cell_type": "markdown",
   "metadata": {},
   "source": [
    "#### Naive Bayes"
   ]
  },
  {
   "cell_type": "code",
   "execution_count": 146,
   "metadata": {},
   "outputs": [],
   "source": [
    "def gaussian_naive_bayes(data_train, label_train, data_test):\n",
    "    '''\n",
    "    Gaussian Naive Bayes classifier\n",
    "    INPUT: 2D/3D array of training dataset (data_train), 2D array of label on training dataset (label_train),\n",
    "        2D/3D array of test dataset (data_test)\n",
    "    OUTPUT: 2D array of predicted classes on test dataset\n",
    "    '''\n",
    "    if len(data_train.shape) != 2:\n",
    "        data_train = data_train.reshape((data_train.shape[0],784))\n",
    "        \n",
    "    if len(data_test.shape) != 2:\n",
    "        data_test = data_test.reshape((data_test.shape[0], 784))\n",
    "\n",
    "    class_indices = {}\n",
    "    for idx, image_class in enumerate(label_train):\n",
    "        if image_class not in class_indices:\n",
    "            class_indices[image_class] = [idx]\n",
    "            continue\n",
    "        else:\n",
    "            class_indices[image_class].append(idx)\n",
    "        \n",
    "    class_mean = {}\n",
    "    class_var = {}\n",
    "\n",
    "    for class_index in class_indices:\n",
    "        mean = data_train[class_indices[class_index], :].mean(axis=0)\n",
    "        var = data_train[class_indices[class_index], :].var(axis=0)\n",
    "        class_mean[class_index] = mean\n",
    "        class_var[class_index] = var\n",
    "\n",
    "    pred_test = np.zeros(data_test.shape[0])\n",
    "\n",
    "    for image_num in range(data_test.shape[0]):\n",
    "        # In order to find the length of pred_class_scores, we need to get the max value of the keys\n",
    "        # with the assumption that each number up to the max will be a class\n",
    "        # we do this instead of length because our training data may not have an entry for a class, hence, it'll\n",
    "        # result in out of range if a data exists for one higher\n",
    "        pred_class_scores = np.zeros(max(class_indices, key=int)+1)\n",
    "        for class_index in class_indices:\n",
    "            \n",
    "            # Calculating the prior probability\n",
    "            class_prob = np.log(len(class_indices[class_index])/data_train.shape[0])\n",
    "\n",
    "            likelihood_array = st.norm.logpdf(x=data_test[image_num], loc=class_mean[class_index], scale=np.sqrt(class_var[class_index]))\n",
    "            class_prob = class_prob + np.nansum(likelihood_array)\n",
    "\n",
    "            pred_class_scores[class_index] = class_prob\n",
    "\n",
    "        pred_test[image_num] = np.nanargmax(pred_class_scores)\n",
    "        \n",
    "    return pred_test"
   ]
  },
  {
   "cell_type": "code",
   "execution_count": 147,
   "metadata": {},
   "outputs": [
    {
     "name": "stdout",
     "output_type": "stream",
     "text": [
      "Started at: 2020-10-12 17:43:57.640876\n",
      "Finished at: 2020-10-12 17:44:08.171942\n",
      "Started at: 2020-10-12 17:44:08.171942\n"
     ]
    },
    {
     "name": "stderr",
     "output_type": "stream",
     "text": [
      "c:\\users\\jsnar\\appdata\\local\\programs\\python\\python36\\lib\\site-packages\\ipykernel_launcher.py:27: ComplexWarning: Casting complex values to real discards the imaginary part\n"
     ]
    },
    {
     "name": "stdout",
     "output_type": "stream",
     "text": [
      "Finished at: 2020-10-12 17:44:25.836574\n"
     ]
    }
   ],
   "source": [
    "# Gaussian Naive Bayes using raw data as input\n",
    "print(f\"Started at: {datetime.now()}\")\n",
    "nb_results = gaussian_naive_bayes(data_train, label_train, data_test)\n",
    "print(f\"Finished at: {datetime.now()}\")\n",
    "\n",
    "# Gaussian Naive Bayes applied on principal components of dataset\n",
    "print(f\"Started at: {datetime.now()}\")\n",
    "pca_data_train = apply_pca(data_train)\n",
    "pca_data_test = apply_pca(data_test)\n",
    "nb_pca_results = gaussian_naive_bayes(pca_data_train, label_train, pca_data_test)\n",
    "print(f\"Finished at: {datetime.now()}\")"
   ]
  },
  {
   "cell_type": "code",
   "execution_count": 148,
   "metadata": {},
   "outputs": [
    {
     "name": "stdout",
     "output_type": "stream",
     "text": [
      "Accuracy result is: 0.655\n"
     ]
    }
   ],
   "source": [
    "correct = 0\n",
    "\n",
    "for n in range(label_test.shape[0]):\n",
    "    if nb_results[n] == label_test[n]:\n",
    "        correct += 1\n",
    "        \n",
    "print(f\"Accuracy result is: {correct/label_test.shape[0]}\")"
   ]
  }
 ],
 "metadata": {
  "kernelspec": {
   "display_name": "Python 3",
   "language": "python",
   "name": "python3"
  },
  "language_info": {
   "codemirror_mode": {
    "name": "ipython",
    "version": 3
   },
   "file_extension": ".py",
   "mimetype": "text/x-python",
   "name": "python",
   "nbconvert_exporter": "python",
   "pygments_lexer": "ipython3",
   "version": "3.6.4"
  }
 },
 "nbformat": 4,
 "nbformat_minor": 4
}
