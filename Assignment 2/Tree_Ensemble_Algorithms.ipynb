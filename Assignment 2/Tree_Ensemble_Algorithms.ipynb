{
 "cells": [
  {
   "cell_type": "markdown",
   "metadata": {
    "id": "G9FYBFVj43Vk"
   },
   "source": [
    "# COMP5318: Assignment 2 - Tree Ensemble Algorithms\n",
    "\n",
    "#### Members\n",
    "*   Jesse Narvasa\n",
    "*   Mimansa Rana\n",
    "*   Stephanie Shen\n"
   ]
  },
  {
   "cell_type": "markdown",
   "metadata": {
    "id": "OvYbWpCF5gts"
   },
   "source": [
    "## Library import, static variables setup"
   ]
  },
  {
   "cell_type": "code",
   "execution_count": 1,
   "metadata": {
    "colab": {
     "base_uri": "https://localhost:8080/"
    },
    "id": "j0GPfPLrj5bT",
    "outputId": "eb57b4f3-81ad-4c87-91d0-ac9ed1f6b9d1"
   },
   "outputs": [
    {
     "name": "stdout",
     "output_type": "stream",
     "text": [
      "Mounted at /content/drive\n"
     ]
    }
   ],
   "source": [
    "# Import Libraries\n",
    "\n",
    "import os\n",
    "import numpy as np\n",
    "import pandas as pd\n",
    "from PIL import Image\n",
    "import matplotlib.pyplot as plt\n",
    "\n",
    "import xgboost as xgb\n",
    "from sklearn.decomposition import PCA\n",
    "from sklearn.pipeline import Pipeline\n",
    "from sklearn.preprocessing import StandardScaler\n",
    "from sklearn.model_selection import GridSearchCV, train_test_split, StratifiedKFold, cross_validate\n",
    "from sklearn.ensemble import RandomForestClassifier\n",
    "from sklearn.metrics import classification_report, accuracy_score\n",
    "\n",
    "from google.colab import drive\n",
    "drive.mount('/content/drive')"
   ]
  },
  {
   "cell_type": "code",
   "execution_count": 2,
   "metadata": {
    "id": "67D7nN4zj_HL"
   },
   "outputs": [],
   "source": [
    "# Static Variables\n",
    "\n",
    "# Dataset to use\n",
    "# Can be original or true_ratio - check switch_dataset function below\n",
    "DATASET = 'original'\n",
    "\n",
    "INPUT_DIR = 'drive/My Drive/COMP5318 Assignment 2/data/input/Img/GoodImg/Bmp'\n",
    "OUTPUT_DIR  = 'drive/My Drive/COMP5318 Assignment 2/data/output'\n",
    "\n",
    "# Please leave these as empty strings, use the function below to set the actual filenames\n",
    "IMAGES_FILE = ''\n",
    "IMAGES_MASKED_FILE = ''\n",
    "LABELS_FILE = ''\n",
    "\n",
    "def switch_dataset(dataset=DATASET):\n",
    "    '''\n",
    "    Function used to switch the filename for the global variables IMAGES_FILE, IMAGES_MASKED_FILE, LABELS_FILE\n",
    "    INPUT: dataset string: original, true_ratio\n",
    "    OUTPUT: Returns None\n",
    "    '''\n",
    "\n",
    "    global IMAGES_FILE, IMAGES_MASKED_FILE, LABELS_FILE\n",
    "    if dataset == 'original':\n",
    "        IMAGES_FILE = 'images.npy'\n",
    "        IMAGES_MASKED_FILE = 'images_masked.npy'\n",
    "        LABELS_FILE = 'labels.npy'\n",
    "    elif dataset == 'true_ratio':\n",
    "        IMAGES_FILE = 'images_true_ratio.npy'\n",
    "        IMAGES_MASKED_FILE = 'images_masked_true_ratio.npy'\n",
    "        LABELS_FILE = 'labels_true_ratio.npy'\n",
    "\n",
    "    return\n",
    "\n",
    "switch_dataset(DATASET)\n",
    "\n",
    "RESIZE_DIM = (48,48)\n",
    "FOLDER_CLASS_MAPPING = {\n",
    "    'Sample001': 0,\n",
    "    'Sample002': 1,\n",
    "    'Sample003': 2,\n",
    "    'Sample004': 3,\n",
    "    'Sample005': 4,\n",
    "    'Sample006': 5,\n",
    "    'Sample007': 6,\n",
    "    'Sample008': 7,\n",
    "    'Sample009': 8,\n",
    "    'Sample010': 9,\n",
    "    'Sample011': 10,\n",
    "    'Sample012': 11,\n",
    "    'Sample013': 12,\n",
    "    'Sample014': 13,\n",
    "    'Sample015': 14,\n",
    "    'Sample016': 15,\n",
    "    'Sample017': 16,\n",
    "    'Sample018': 17,\n",
    "    'Sample019': 18,\n",
    "    'Sample020': 19,\n",
    "    'Sample021': 20,\n",
    "    'Sample022': 21,\n",
    "    'Sample023': 22,\n",
    "    'Sample024': 23,\n",
    "    'Sample025': 24,\n",
    "    'Sample026': 25,\n",
    "    'Sample027': 26,\n",
    "    'Sample028': 27,\n",
    "    'Sample029': 28,\n",
    "    'Sample030': 29,\n",
    "    'Sample031': 30,\n",
    "    'Sample032': 31,\n",
    "    'Sample033': 32,\n",
    "    'Sample034': 33,\n",
    "    'Sample035': 34,\n",
    "    'Sample036': 35,\n",
    "    'Sample037': 36,\n",
    "    'Sample038': 37,\n",
    "    'Sample039': 38,\n",
    "    'Sample040': 39,\n",
    "    'Sample041': 40,\n",
    "    'Sample042': 41,\n",
    "    'Sample043': 42,\n",
    "    'Sample044': 43,\n",
    "    'Sample045': 44,\n",
    "    'Sample046': 45,\n",
    "    'Sample047': 46,\n",
    "    'Sample048': 47,\n",
    "    'Sample049': 48,\n",
    "    'Sample050': 49,\n",
    "    'Sample051': 50,\n",
    "    'Sample052': 51,\n",
    "    'Sample053': 52,\n",
    "    'Sample054': 53,\n",
    "    'Sample055': 54,\n",
    "    'Sample056': 55,\n",
    "    'Sample057': 56,\n",
    "    'Sample058': 57,\n",
    "    'Sample059': 58,\n",
    "    'Sample060': 59,\n",
    "    'Sample061': 60,\n",
    "    'Sample062': 61\n",
    "}"
   ]
  },
  {
   "cell_type": "markdown",
   "metadata": {
    "id": "mftiTB2V5kZk"
   },
   "source": [
    "## Generate Images Dataset"
   ]
  },
  {
   "cell_type": "code",
   "execution_count": null,
   "metadata": {
    "id": "Bw50tcJDcia6"
   },
   "outputs": [],
   "source": [
    "def generate_image_dataset(keep_aspect_ratio=False):\n",
    "    '''\n",
    "    Generates Numpy array out of input Chars74K dataset\n",
    "    INPUT: (optional) keep_aspect_ratio determines if you want to retain the aspect ratio of the images provided\n",
    "    OUTPUT: images in Numpy array format,\n",
    "        masked images in Numpy array format,\n",
    "        labes of the images in Numpy array format\n",
    "    '''\n",
    "\n",
    "    images, images_masked, labels = [], [], []\n",
    "\n",
    "    for folder in sorted(os.listdir(INPUT_DIR)):\n",
    "        print(folder)\n",
    "\n",
    "        # Ignore .DS_Store directory for Macs\n",
    "        if folder.startswith('.'):\n",
    "            continue\n",
    "\n",
    "        class_label = FOLDER_CLASS_MAPPING[folder]\n",
    "        image_files = os.listdir(os.path.join(INPUT_DIR, folder))\n",
    "        \n",
    "        for file in image_files:\n",
    "            if not file.endswith('.png'):\n",
    "                continue\n",
    "                \n",
    "            # load image\n",
    "            img = Image.open(os.path.join(INPUT_DIR, folder, file))\n",
    "            img = img.convert('L')\n",
    "            \n",
    "            # Load mask\n",
    "            mask = Image.open(os.path.join(os.path.split(INPUT_DIR)[0], 'Msk', folder, file))\n",
    "\n",
    "            if keep_aspect_ratio:\n",
    "                # Creating thumbnail of specific dimension\n",
    "                img.thumbnail(RESIZE_DIM, Image.ANTIALIAS)\n",
    "                mask.thumbnail(RESIZE_DIM, Image.ANTIALIAS)\n",
    "\n",
    "                # Check the image dimensions\n",
    "                w, h = img.size\n",
    "\n",
    "                img_resized = Image.new('L', RESIZE_DIM, color=0)\n",
    "                mask_resized = Image.new('L', RESIZE_DIM, color=0)\n",
    "\n",
    "                img_resized.paste(img, ((RESIZE_DIM[0] - w) // 2, (RESIZE_DIM[1] - h) // 2))\n",
    "                mask_resized.paste(mask, (int((RESIZE_DIM[0] - w) / 2), int((RESIZE_DIM[1] - h) / 2)))\n",
    "            \n",
    "            else:\n",
    "                # Resizing both img and mask\n",
    "                img_resized = img.resize(RESIZE_DIM)\n",
    "                mask_resized = mask.resize(RESIZE_DIM)\n",
    "                \n",
    "            # transforming the image into a Numpy array\n",
    "            img_resized = np.asarray(img_resized).reshape((1,RESIZE_DIM[0]**2))\n",
    "            mask_resized = np.asarray(mask_resized).reshape((1,RESIZE_DIM[0]**2))\n",
    "            \n",
    "            img_masked = img_resized.copy()\n",
    "            img_masked[mask_resized==0] = 0\n",
    "            \n",
    "            images.append(img_resized)\n",
    "            images_masked.append(img_masked)\n",
    "            labels.append(class_label)\n",
    "            #print(file)\n",
    "\n",
    "    images = np.concatenate(images, axis=0)\n",
    "    images_masked = np.concatenate(images_masked, axis=0)\n",
    "    labels = np.array(labels)\n",
    "\n",
    "    return images, images_masked, labels"
   ]
  },
  {
   "cell_type": "code",
   "execution_count": null,
   "metadata": {
    "id": "7Br8o2xMg6RD"
   },
   "outputs": [],
   "source": [
    "# Generate the \"stretched\" dataset\n",
    "switch_dataset('original')\n",
    "images, images_masked, labels = generate_image_dataset(keep_aspect_ratio=False)\n",
    "\n",
    "# Checking the shape after the image extraction\n",
    "print(f'Raw images shape: {images.shape}')\n",
    "print(f'Masked images shape: {images_masked.shape}')\n",
    "print(f'Labels shape: {labels.shape}')\n",
    "\n",
    "# Saving the array representation of the images\n",
    "np.save(os.path.join(OUTPUT_DIR, IMAGES_FILE), images)\n",
    "np.save(os.path.join(OUTPUT_DIR, IMAGES_MASKED_FILE), images_masked)\n",
    "np.save(os.path.join(OUTPUT_DIR, LABELS_FILE), labels)\n",
    "\n",
    "# Checking the shape of the saved data, ensuring that it's the same shape as what we had before - for verification\n",
    "print((np.load(os.path.join(OUTPUT_DIR, IMAGES_FILE))).shape)\n",
    "print((np.load(os.path.join(OUTPUT_DIR, IMAGES_MASKED_FILE))).shape)\n",
    "print((np.load(os.path.join(OUTPUT_DIR, LABELS_FILE))).shape)\n",
    "\n",
    "\n",
    "# Generate the \"true aspect ratio\" dataset\n",
    "switch_dataset('true_ratio')\n",
    "images, images_masked, labels = generate_image_dataset(keep_aspect_ratio=True)\n",
    "\n",
    "# Checking the shape after the image extraction\n",
    "print(f'Raw images shape: {images.shape}')\n",
    "print(f'Masked images shape: {images_masked.shape}')\n",
    "print(f'Labels shape: {labels.shape}')\n",
    "\n",
    "# Saving the array representation of the images\n",
    "np.save(os.path.join(OUTPUT_DIR, IMAGES_FILE), images)\n",
    "np.save(os.path.join(OUTPUT_DIR, IMAGES_MASKED_FILE), images_masked)\n",
    "np.save(os.path.join(OUTPUT_DIR, LABELS_FILE), labels)\n",
    "\n",
    "# Checking the shape of the saved data, ensuring that it's the same shape as what we had before - for verification\n",
    "print((np.load(os.path.join(OUTPUT_DIR, IMAGES_FILE))).shape)\n",
    "print((np.load(os.path.join(OUTPUT_DIR, IMAGES_MASKED_FILE))).shape)\n",
    "print((np.load(os.path.join(OUTPUT_DIR, LABELS_FILE))).shape)"
   ]
  },
  {
   "cell_type": "markdown",
   "metadata": {
    "id": "dVLTs_rUGy97"
   },
   "source": [
    "## Data Exploration"
   ]
  },
  {
   "cell_type": "code",
   "execution_count": 3,
   "metadata": {
    "id": "bLokdTWWFYQM"
   },
   "outputs": [],
   "source": [
    "def reload_data(dataset=DATASET):\n",
    "    '''\n",
    "    Function used to reload the dataset based on the dataset that's entered\n",
    "    INPUT: Dataset to be loaded, accepted values are 'original', true_ratio' but will default to the value DATASET of dataset variable if none entered\n",
    "    OUTPUT: returns images, images_masked, labels Numpy arrays\n",
    "    '''\n",
    "\n",
    "    switch_dataset(dataset)\n",
    "\n",
    "    # Loading the dataset from the saved numpy object\n",
    "    images = np.load(os.path.join(OUTPUT_DIR, IMAGES_FILE))\n",
    "    images_masked = np.load(os.path.join(OUTPUT_DIR, IMAGES_MASKED_FILE))\n",
    "    labels = np.load(os.path.join(OUTPUT_DIR, LABELS_FILE))\n",
    "\n",
    "    # Verifying the shape\n",
    "    print(f'Raw images shape: {images.shape}')\n",
    "    print(f'Masked images shape: {images_masked.shape}')\n",
    "    print(f'Labels shape: {labels.shape}')\n",
    "    print(f'Loading from {IMAGES_FILE, IMAGES_MASKED_FILE, LABELS_FILE}')\n",
    "\n",
    "    return images, images_masked, labels"
   ]
  },
  {
   "cell_type": "code",
   "execution_count": 6,
   "metadata": {
    "colab": {
     "base_uri": "https://localhost:8080/"
    },
    "id": "wAAvUXGnQeZH",
    "outputId": "e11c55b4-6f00-4443-d6ab-5e76b73793ff"
   },
   "outputs": [
    {
     "name": "stdout",
     "output_type": "stream",
     "text": [
      "Raw images shape: (7705, 2304)\n",
      "Masked images shape: (7705, 2304)\n",
      "Labels shape: (7705,)\n",
      "Loading from ('images.npy', 'images_masked.npy', 'labels.npy')\n"
     ]
    }
   ],
   "source": [
    "images, images_masked, labels = reload_data('original')"
   ]
  },
  {
   "cell_type": "code",
   "execution_count": 7,
   "metadata": {
    "colab": {
     "base_uri": "https://localhost:8080/",
     "height": 267
    },
    "id": "FdHmri6ykGrR",
    "outputId": "77818d96-72ec-41d6-e290-9ce8a06d1ba7"
   },
   "outputs": [
    {
     "data": {
      "image/png": "[encoded data removed]",
      "text/plain": [
       "<Figure size 432x288 with 1 Axes>"
      ]
     },
     "metadata": {
      "needs_background": "light",
      "tags": []
     },
     "output_type": "display_data"
    }
   ],
   "source": [
    "# Verifying the quality of images to be used by our algorithms, if it's what we expect\n",
    "# Important observation here is that Google Colab does not actually go through the file names sequentially, as you would find in Jupiter notebook.\n",
    "TESTING_IMAGE = 11\n",
    "\n",
    "images_square = images_masked.reshape((images_masked.shape[0],RESIZE_DIM[0], RESIZE_DIM[0]))\n",
    "plt.imshow(images_square[TESTING_IMAGE], cmap=plt.get_cmap('gray'))\n",
    "plt.show()"
   ]
  },
  {
   "cell_type": "markdown",
   "metadata": {
    "id": "g4LzNY9DOmdb"
   },
   "source": [
    "## Model Selection"
   ]
  },
  {
   "cell_type": "markdown",
   "metadata": {
    "id": "B59ab5SU66Os"
   },
   "source": [
    "### Without PCA applied - Original Dataset"
   ]
  },
  {
   "cell_type": "code",
   "execution_count": 8,
   "metadata": {
    "colab": {
     "base_uri": "https://localhost:8080/"
    },
    "id": "55mhuVYxO8B1",
    "outputId": "a8638d68-89dd-4e25-851e-a155944ce08a"
   },
   "outputs": [
    {
     "name": "stdout",
     "output_type": "stream",
     "text": [
      "Raw images shape: (7705, 2304)\n",
      "Masked images shape: (7705, 2304)\n",
      "Labels shape: (7705,)\n",
      "Loading from ('images.npy', 'images_masked.npy', 'labels.npy')\n"
     ]
    }
   ],
   "source": [
    "# Ensuring we are loading the correct data\n",
    "images, images_masked, labels = reload_data('original')\n",
    "\n",
    "# Running the split on the masked images\n",
    "X_train, X_test, y_train, y_test = train_test_split(images_masked, labels, test_size=0.25, shuffle=True, stratify=labels)"
   ]
  },
  {
   "cell_type": "markdown",
   "metadata": {
    "id": "Hfn3yITQK9v9"
   },
   "source": [
    "#### Random Forest Classifier\n",
    "\n",
    "This is found to be the best performing Random Forest Classifier setup, as well as the best tree ensemble algorithm when compared against the best result of XGBoost"
   ]
  },
  {
   "cell_type": "code",
   "execution_count": 9,
   "metadata": {
    "colab": {
     "base_uri": "https://localhost:8080/"
    },
    "id": "sEUTEa8MTDp7",
    "outputId": "a1452032-8f1e-4fcd-e101-597d406e66b0"
   },
   "outputs": [
    {
     "name": "stderr",
     "output_type": "stream",
     "text": [
      "[Parallel(n_jobs=-1)]: Using backend LokyBackend with 4 concurrent workers.\n"
     ]
    },
    {
     "name": "stdout",
     "output_type": "stream",
     "text": [
      "0.5481184746301416\n"
     ]
    },
    {
     "name": "stderr",
     "output_type": "stream",
     "text": [
      "[Parallel(n_jobs=-1)]: Done  10 out of  10 | elapsed: 19.6min finished\n"
     ]
    }
   ],
   "source": [
    "rfc = RandomForestClassifier(\n",
    "    max_depth = None,\n",
    "    verbose = 1,\n",
    "    class_weight = 'balanced',\n",
    "    criterion = 'entropy',\n",
    "    min_impurity_decrease = 0,\n",
    "    min_samples_split = 5,\n",
    "    n_estimators = 250\n",
    ")\n",
    "\n",
    "# Setting up the pipeline for RandomForest\n",
    "rfc_pipe = Pipeline([('rfc', rfc)])\n",
    "\n",
    "cv_results = cross_validate(rfc_pipe, X_train, y_train, cv=10, verbose=1, n_jobs=-1)\n",
    "print(np.mean(np.array(cv_results['test_score'])))"
   ]
  },
  {
   "cell_type": "markdown",
   "metadata": {
    "id": "zptYA_5UL5Ay"
   },
   "source": [
    "#### XGBoostClassifier\n",
    "\n",
    "This is found to be the best performing XGBoost setup, however is no match for Random Forest"
   ]
  },
  {
   "cell_type": "code",
   "execution_count": 10,
   "metadata": {
    "colab": {
     "base_uri": "https://localhost:8080/"
    },
    "id": "t6FEgVisRvzJ",
    "outputId": "acbf3968-0dbb-4d55-859e-e00d6ca58baf"
   },
   "outputs": [
    {
     "name": "stderr",
     "output_type": "stream",
     "text": [
      "[Parallel(n_jobs=-1)]: Using backend LokyBackend with 4 concurrent workers.\n",
      "/usr/local/lib/python3.6/dist-packages/joblib/externals/loky/process_executor.py:691: UserWarning: A worker stopped while some jobs were given to the executor. This can be caused by a too short worker timeout or by a memory leak.\n",
      "  \"timeout or by a memory leak.\", UserWarning\n"
     ]
    },
    {
     "name": "stdout",
     "output_type": "stream",
     "text": [
      "0.4984453053318381\n"
     ]
    },
    {
     "name": "stderr",
     "output_type": "stream",
     "text": [
      "[Parallel(n_jobs=-1)]: Done  10 out of  10 | elapsed: 12.8min finished\n"
     ]
    }
   ],
   "source": [
    "xgc = xgb.XGBClassifier(\n",
    "    objective = 'multi:softmax', # softmax because we only want the one with the highest proba\n",
    "    missing = None, # important to ensure optimal performance\n",
    "    subsample = 0.75, # so we are using slightly different dataset for each of the boosting rounds\n",
    "    tree_method = 'gpu_hist', # to enable GPU implementation of XGBoost, for optimal calculations\n",
    "    learning_rate = 0.1,\n",
    "    max_depth = 7,\n",
    "    min_child_weight = 1\n",
    ")\n",
    "\n",
    "xgc_pipe = Pipeline([('xgc', xgc)])\n",
    "\n",
    "cv_results = cross_validate(xgc_pipe, X_train, y_train, cv=10, verbose=1, n_jobs=-1)\n",
    "print(np.mean(np.array(cv_results['test_score'])))"
   ]
  },
  {
   "cell_type": "markdown",
   "metadata": {
    "id": "rIubwkSO7Skj"
   },
   "source": [
    "### Without PCA applied - True Ratio Dataset"
   ]
  },
  {
   "cell_type": "code",
   "execution_count": 11,
   "metadata": {
    "colab": {
     "base_uri": "https://localhost:8080/"
    },
    "id": "YVbKkP4QQ9xH",
    "outputId": "940475a8-e6ab-4720-fa18-0bcf58c6dcda"
   },
   "outputs": [
    {
     "name": "stdout",
     "output_type": "stream",
     "text": [
      "Raw images shape: (7705, 2304)\n",
      "Masked images shape: (7705, 2304)\n",
      "Labels shape: (7705,)\n",
      "Loading from ('images_true_ratio.npy', 'images_masked_true_ratio.npy', 'labels_true_ratio.npy')\n"
     ]
    }
   ],
   "source": [
    "# Ensuring we are loading the correct data\n",
    "images, images_masked, labels = reload_data('true_ratio')\n",
    "\n",
    "# Running the split on the masked images\n",
    "X_train, X_test, y_train, y_test = train_test_split(images_masked, labels, test_size=0.25, shuffle=True, stratify=labels)"
   ]
  },
  {
   "cell_type": "markdown",
   "metadata": {
    "id": "5tn19rmGQ_DE"
   },
   "source": [
    "#### Random Forest Classifier"
   ]
  },
  {
   "cell_type": "code",
   "execution_count": 12,
   "metadata": {
    "colab": {
     "base_uri": "https://localhost:8080/"
    },
    "id": "1k_pR6SvSMpA",
    "outputId": "e1f0262b-2b50-4a39-d579-8ca017f24283"
   },
   "outputs": [
    {
     "name": "stderr",
     "output_type": "stream",
     "text": [
      "[Parallel(n_jobs=-1)]: Using backend LokyBackend with 4 concurrent workers.\n",
      "/usr/local/lib/python3.6/dist-packages/joblib/externals/loky/process_executor.py:691: UserWarning: A worker stopped while some jobs were given to the executor. This can be caused by a too short worker timeout or by a memory leak.\n",
      "  \"timeout or by a memory leak.\", UserWarning\n"
     ]
    },
    {
     "name": "stdout",
     "output_type": "stream",
     "text": [
      "0.442887084490234\n"
     ]
    },
    {
     "name": "stderr",
     "output_type": "stream",
     "text": [
      "[Parallel(n_jobs=-1)]: Done  10 out of  10 | elapsed:  3.9min finished\n"
     ]
    }
   ],
   "source": [
    "rfc = RandomForestClassifier(\n",
    "    max_depth = None,\n",
    "    verbose = 1,\n",
    "    class_weight = None,\n",
    "    criterion = 'gini',\n",
    "    min_impurity_decrease = 0,\n",
    "    min_samples_split = 2,\n",
    "    n_estimators = 250\n",
    ")\n",
    "\n",
    "# Setting up the pipeline for RandomForest\n",
    "rfc_pipe = Pipeline([('rfc', rfc)])\n",
    "\n",
    "cv_results = cross_validate(rfc_pipe, X_train, y_train, cv=10, verbose=1, n_jobs=-1)\n",
    "print(np.mean(np.array(cv_results['test_score'])))"
   ]
  },
  {
   "cell_type": "markdown",
   "metadata": {
    "id": "nVfnIcu_SfY5"
   },
   "source": [
    "#### XGBoostClassifier"
   ]
  },
  {
   "cell_type": "code",
   "execution_count": 13,
   "metadata": {
    "colab": {
     "base_uri": "https://localhost:8080/"
    },
    "id": "P3yf4EQQWW-g",
    "outputId": "e66be26d-7b78-46a2-ce86-07cf1be36b5e"
   },
   "outputs": [
    {
     "name": "stderr",
     "output_type": "stream",
     "text": [
      "[Parallel(n_jobs=-1)]: Using backend LokyBackend with 4 concurrent workers.\n",
      "/usr/local/lib/python3.6/dist-packages/joblib/externals/loky/process_executor.py:691: UserWarning: A worker stopped while some jobs were given to the executor. This can be caused by a too short worker timeout or by a memory leak.\n",
      "  \"timeout or by a memory leak.\", UserWarning\n"
     ]
    },
    {
     "name": "stdout",
     "output_type": "stream",
     "text": [
      "0.4247143979418661\n"
     ]
    },
    {
     "name": "stderr",
     "output_type": "stream",
     "text": [
      "[Parallel(n_jobs=-1)]: Done  10 out of  10 | elapsed: 13.1min finished\n"
     ]
    }
   ],
   "source": [
    "xgc = xgb.XGBClassifier(\n",
    "    objective = 'multi:softmax', # softmax because we only want the one with the highest proba\n",
    "    missing = None, # important to ensure optimal performance\n",
    "    subsample = 0.75, # so we are using slightly different dataset for each of the boosting rounds\n",
    "    tree_method = 'gpu_hist', # to enable GPU implementation of XGBoost, for optimal calculations\n",
    "    learning_rate = 0.05,\n",
    "    max_depth = 9,\n",
    "    min_child_weight = 1\n",
    ")\n",
    "\n",
    "xgc_pipe = Pipeline([('xgc', xgc)])\n",
    "\n",
    "cv_results = cross_validate(xgc_pipe, X_train, y_train, cv=10, verbose=1, n_jobs=-1)\n",
    "print(np.mean(np.array(cv_results['test_score'])))"
   ]
  },
  {
   "cell_type": "markdown",
   "metadata": {
    "id": "wbdnd656Z5ac"
   },
   "source": [
    "### With PCA - Original Dataset"
   ]
  },
  {
   "cell_type": "code",
   "execution_count": 14,
   "metadata": {
    "colab": {
     "base_uri": "https://localhost:8080/"
    },
    "id": "sFC3eRBOZ8au",
    "outputId": "30d1f5f6-68bc-41ce-e653-96944dbd1f29"
   },
   "outputs": [
    {
     "name": "stdout",
     "output_type": "stream",
     "text": [
      "Raw images shape: (7705, 2304)\n",
      "Masked images shape: (7705, 2304)\n",
      "Labels shape: (7705,)\n",
      "Loading from ('images.npy', 'images_masked.npy', 'labels.npy')\n"
     ]
    }
   ],
   "source": [
    "std_scaler = StandardScaler()\n",
    "pca = PCA(n_components = 0.95, svd_solver = 'full')\n",
    "\n",
    "# Ensuring we are loading the correct data\n",
    "images, images_masked, labels = reload_data('original')\n",
    "\n",
    "# Running the split on the masked images\n",
    "X_train, X_test, y_train, y_test = train_test_split(images_masked, labels, test_size=0.25, shuffle=True, stratify=labels)"
   ]
  },
  {
   "cell_type": "markdown",
   "metadata": {
    "id": "iB03u8fwyPTU"
   },
   "source": [
    "#### Random Forest Classifier"
   ]
  },
  {
   "cell_type": "code",
   "execution_count": 15,
   "metadata": {
    "colab": {
     "base_uri": "https://localhost:8080/"
    },
    "id": "SdN7LTTIyXA0",
    "outputId": "c315e9d8-a928-42bf-908c-fd9cfc835b42"
   },
   "outputs": [
    {
     "name": "stderr",
     "output_type": "stream",
     "text": [
      "[Parallel(n_jobs=-1)]: Using backend LokyBackend with 4 concurrent workers.\n",
      "/usr/local/lib/python3.6/dist-packages/joblib/externals/loky/process_executor.py:691: UserWarning: A worker stopped while some jobs were given to the executor. This can be caused by a too short worker timeout or by a memory leak.\n",
      "  \"timeout or by a memory leak.\", UserWarning\n"
     ]
    },
    {
     "name": "stdout",
     "output_type": "stream",
     "text": [
      "0.4376892769545376\n"
     ]
    },
    {
     "name": "stderr",
     "output_type": "stream",
     "text": [
      "[Parallel(n_jobs=-1)]: Done  10 out of  10 | elapsed: 18.3min finished\n"
     ]
    }
   ],
   "source": [
    "rfc = RandomForestClassifier(\n",
    "    max_depth = None,\n",
    "    verbose = 1,\n",
    "    class_weight = None,\n",
    "    criterion = 'entropy',\n",
    "    min_impurity_decrease = 0,\n",
    "    min_samples_split = 3,\n",
    "    n_estimators = 250\n",
    ")\n",
    "\n",
    "# Setting up the pipeline for RandomForest\n",
    "rfc_pipe = Pipeline([('std', std_scaler),\n",
    "                     ('pca', pca),\n",
    "                     ('rfc', rfc)])\n",
    "\n",
    "cv_results = cross_validate(rfc_pipe, X_train, y_train, cv=10, verbose=1, n_jobs=-1)\n",
    "print(np.mean(np.array(cv_results['test_score'])))"
   ]
  },
  {
   "cell_type": "markdown",
   "metadata": {
    "id": "XH2ixXeOyUwU"
   },
   "source": [
    "#### XGBoostClassifier"
   ]
  },
  {
   "cell_type": "code",
   "execution_count": 16,
   "metadata": {
    "colab": {
     "base_uri": "https://localhost:8080/"
    },
    "id": "IWrUwxn9dOlu",
    "outputId": "0bd20d34-f1bf-4e87-ce73-c5e26aa079db"
   },
   "outputs": [
    {
     "name": "stderr",
     "output_type": "stream",
     "text": [
      "[Parallel(n_jobs=-1)]: Using backend LokyBackend with 4 concurrent workers.\n"
     ]
    },
    {
     "name": "stdout",
     "output_type": "stream",
     "text": [
      "0.4300837166347832\n"
     ]
    },
    {
     "name": "stderr",
     "output_type": "stream",
     "text": [
      "[Parallel(n_jobs=-1)]: Done  10 out of  10 | elapsed:  7.4min finished\n"
     ]
    }
   ],
   "source": [
    "xgc = xgb.XGBClassifier(\n",
    "    objective = 'multi:softmax', # softmax because we only want the one with the highest proba\n",
    "    missing = None, # important to ensure optimal performance\n",
    "    subsample = 0.75, # so we are using slightly different dataset for each of the boosting rounds\n",
    "    tree_method = 'gpu_hist', # to enable GPU implementation of XGBoost, for optimal calculations\n",
    "    learning_rate = 0.05,\n",
    "    max_depth = 9,\n",
    "    min_child_weight = 1\n",
    ")\n",
    "\n",
    "xgc_pipe = Pipeline([('std', std_scaler),\n",
    "                     ('pca', pca),\n",
    "                     ('xgc', xgc)])\n",
    "\n",
    "cv_results = cross_validate(xgc_pipe, X_train, y_train, cv=10, verbose=1, n_jobs=-1)\n",
    "print(np.mean(np.array(cv_results['test_score'])))"
   ]
  },
  {
   "cell_type": "markdown",
   "metadata": {
    "id": "AOzQTvdiZ9Tv"
   },
   "source": [
    "### With PCA - True Ratio Dataset"
   ]
  },
  {
   "cell_type": "code",
   "execution_count": 17,
   "metadata": {
    "colab": {
     "base_uri": "https://localhost:8080/"
    },
    "id": "dC0a5__vaAyg",
    "outputId": "f8d1439e-b66d-431f-cdfe-17069c40ccd5"
   },
   "outputs": [
    {
     "name": "stdout",
     "output_type": "stream",
     "text": [
      "Raw images shape: (7705, 2304)\n",
      "Masked images shape: (7705, 2304)\n",
      "Labels shape: (7705,)\n",
      "Loading from ('images_true_ratio.npy', 'images_masked_true_ratio.npy', 'labels_true_ratio.npy')\n"
     ]
    }
   ],
   "source": [
    "std_scaler = StandardScaler()\n",
    "pca = PCA(n_components = 0.95, svd_solver = 'full')\n",
    "\n",
    "# Ensuring we are loading the correct data\n",
    "images, images_masked, labels = reload_data('true_ratio')\n",
    "\n",
    "# Running the split on the masked images\n",
    "X_train, X_test, y_train, y_test = train_test_split(images_masked, labels, test_size=0.25, shuffle=True, stratify=labels)"
   ]
  },
  {
   "cell_type": "markdown",
   "metadata": {
    "id": "cUDc6CS-yl5D"
   },
   "source": [
    "#### Random Forest Classifier"
   ]
  },
  {
   "cell_type": "code",
   "execution_count": 18,
   "metadata": {
    "colab": {
     "base_uri": "https://localhost:8080/"
    },
    "id": "nJH16ro3yq1W",
    "outputId": "b703a31c-40e0-428e-9e1e-2aac3f4d4b28"
   },
   "outputs": [
    {
     "name": "stderr",
     "output_type": "stream",
     "text": [
      "[Parallel(n_jobs=-1)]: Using backend LokyBackend with 4 concurrent workers.\n",
      "/usr/local/lib/python3.6/dist-packages/joblib/externals/loky/process_executor.py:691: UserWarning: A worker stopped while some jobs were given to the executor. This can be caused by a too short worker timeout or by a memory leak.\n",
      "  \"timeout or by a memory leak.\", UserWarning\n"
     ]
    },
    {
     "name": "stdout",
     "output_type": "stream",
     "text": [
      "0.289203492590838\n"
     ]
    },
    {
     "name": "stderr",
     "output_type": "stream",
     "text": [
      "[Parallel(n_jobs=-1)]: Done  10 out of  10 | elapsed:  4.6min finished\n"
     ]
    }
   ],
   "source": [
    "rfc = RandomForestClassifier(\n",
    "    max_depth = None,\n",
    "    verbose = 1,\n",
    "    class_weight = None,\n",
    "    criterion = 'gini',\n",
    "    min_impurity_decrease = 0,\n",
    "    min_samples_split = 4,\n",
    "    n_estimators = 250\n",
    ")\n",
    "\n",
    "# Setting up the pipeline for RandomForest\n",
    "rfc_pipe = Pipeline([('std', std_scaler),\n",
    "                     ('pca', pca),\n",
    "                     ('rfc', rfc)])\n",
    "\n",
    "cv_results = cross_validate(rfc_pipe, X_train, y_train, cv=10, verbose=1, n_jobs=-1)\n",
    "print(np.mean(np.array(cv_results['test_score'])))"
   ]
  },
  {
   "cell_type": "markdown",
   "metadata": {
    "id": "KPdaEZbMyr7o"
   },
   "source": [
    "#### XGBoostClassifier"
   ]
  },
  {
   "cell_type": "code",
   "execution_count": 19,
   "metadata": {
    "colab": {
     "base_uri": "https://localhost:8080/"
    },
    "id": "Eggdfx5tgi7f",
    "outputId": "03ecc312-edaf-4046-8117-fe0c4f54fe5c"
   },
   "outputs": [
    {
     "name": "stderr",
     "output_type": "stream",
     "text": [
      "[Parallel(n_jobs=-1)]: Using backend LokyBackend with 4 concurrent workers.\n"
     ]
    },
    {
     "name": "stdout",
     "output_type": "stream",
     "text": [
      "0.29681684887228416\n"
     ]
    },
    {
     "name": "stderr",
     "output_type": "stream",
     "text": [
      "[Parallel(n_jobs=-1)]: Done  10 out of  10 | elapsed:  8.2min finished\n"
     ]
    }
   ],
   "source": [
    "xgc = xgb.XGBClassifier(\n",
    "    objective = 'multi:softmax', # softmax because we only want the one with the highest proba\n",
    "    missing = None, # important to ensure optimal performance\n",
    "    subsample = 0.75, # so we are using slightly different dataset for each of the boosting rounds\n",
    "    tree_method = 'gpu_hist', # to enable GPU implementation of XGBoost, for optimal calculations\n",
    "    learning_rate = 0.05,\n",
    "    max_depth = 9,\n",
    "    min_child_weight = 1\n",
    ")\n",
    "\n",
    "xgc_pipe = Pipeline([('std', std_scaler),\n",
    "                     ('pca', pca),\n",
    "                     ('xgc', xgc)])\n",
    "\n",
    "cv_results = cross_validate(xgc_pipe, X_train, y_train, cv=10, verbose=1, n_jobs=-1)\n",
    "print(np.mean(np.array(cv_results['test_score'])))"
   ]
  }
 ],
 "metadata": {
  "accelerator": "GPU",
  "colab": {
   "collapsed_sections": [],
   "machine_shape": "hm",
   "name": "Tree Ensemble Algorithms.ipynb",
   "provenance": [],
   "toc_visible": true
  },
  "kernelspec": {
   "display_name": "Python 3",
   "language": "python",
   "name": "python3"
  },
  "language_info": {
   "codemirror_mode": {
    "name": "ipython",
    "version": 3
   },
   "file_extension": ".py",
   "mimetype": "text/x-python",
   "name": "python",
   "nbconvert_exporter": "python",
   "pygments_lexer": "ipython3",
   "version": "3.8.5"
  }
 },
 "nbformat": 4,
 "nbformat_minor": 1
}
